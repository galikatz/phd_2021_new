{
 "cells": [
  {
   "cell_type": "code",
   "execution_count": 3,
   "metadata": {
    "collapsed": true,
    "pycharm": {
     "name": "#%%\n"
    }
   },
   "outputs": [],
   "source": [
    "import pandas as pd"
   ]
  },
  {
   "cell_type": "code",
   "execution_count": 4,
   "outputs": [],
   "source": [
    "df_congruent = pd.read_csv('/Users/gali.k/phd/phd_2021/data_analysis/analysis/balanced_exp/pnas_raw_data_congruent.csv')\n",
    "df_incongruent = pd.read_csv('/Users/gali.k/phd/phd_2021/data_analysis/analysis/balanced_exp/pnas_raw_data_congruent - incong.csv')"
   ],
   "metadata": {
    "collapsed": false,
    "pycharm": {
     "name": "#%%\n"
    }
   }
  },
  {
   "cell_type": "code",
   "execution_count": 5,
   "outputs": [
    {
     "data": {
      "text/plain": "   Unnamed: 0          Task          Train  Congruity           Test  Ratio  \\\n0           1  colors-count  AD-controlled  Congruent  AD-controlled     50   \n1           2  colors-count  AD-controlled  Congruent  AD-controlled     56   \n\n   Accuracy       std  \n0    0.9750  0.080296  \n1    0.9675  0.145344  ",
      "text/html": "<div>\n<style scoped>\n    .dataframe tbody tr th:only-of-type {\n        vertical-align: middle;\n    }\n\n    .dataframe tbody tr th {\n        vertical-align: top;\n    }\n\n    .dataframe thead th {\n        text-align: right;\n    }\n</style>\n<table border=\"1\" class=\"dataframe\">\n  <thead>\n    <tr style=\"text-align: right;\">\n      <th></th>\n      <th>Unnamed: 0</th>\n      <th>Task</th>\n      <th>Train</th>\n      <th>Congruity</th>\n      <th>Test</th>\n      <th>Ratio</th>\n      <th>Accuracy</th>\n      <th>std</th>\n    </tr>\n  </thead>\n  <tbody>\n    <tr>\n      <th>0</th>\n      <td>1</td>\n      <td>colors-count</td>\n      <td>AD-controlled</td>\n      <td>Congruent</td>\n      <td>AD-controlled</td>\n      <td>50</td>\n      <td>0.9750</td>\n      <td>0.080296</td>\n    </tr>\n    <tr>\n      <th>1</th>\n      <td>2</td>\n      <td>colors-count</td>\n      <td>AD-controlled</td>\n      <td>Congruent</td>\n      <td>AD-controlled</td>\n      <td>56</td>\n      <td>0.9675</td>\n      <td>0.145344</td>\n    </tr>\n  </tbody>\n</table>\n</div>"
     },
     "execution_count": 5,
     "metadata": {},
     "output_type": "execute_result"
    }
   ],
   "source": [
    "df_congruent.head(2)"
   ],
   "metadata": {
    "collapsed": false,
    "pycharm": {
     "name": "#%%\n"
    }
   }
  },
  {
   "cell_type": "code",
   "execution_count": 8,
   "outputs": [],
   "source": [
    "merged_df = pd.merge(df_congruent, df_incongruent, on=['Task', 'Train', 'Test', 'Ratio'], how='inner')"
   ],
   "metadata": {
    "collapsed": false,
    "pycharm": {
     "name": "#%%\n"
    }
   }
  },
  {
   "cell_type": "code",
   "execution_count": 9,
   "outputs": [
    {
     "data": {
      "text/plain": "   Unnamed: 0_x          Task          Train Congruity_x           Test  \\\n0             1  colors-count  AD-controlled   Congruent  AD-controlled   \n1             2  colors-count  AD-controlled   Congruent  AD-controlled   \n\n   Ratio  Accuracy_x     std_x  Unnamed: 0_y  Congruity_y  Accuracy_y  \\\n0     50      0.9750  0.080296            19  Incongruent      0.5350   \n1     56      0.9675  0.145344            20  Incongruent      0.8875   \n\n      std_y  \n0  0.163916  \n1  0.138483  ",
      "text/html": "<div>\n<style scoped>\n    .dataframe tbody tr th:only-of-type {\n        vertical-align: middle;\n    }\n\n    .dataframe tbody tr th {\n        vertical-align: top;\n    }\n\n    .dataframe thead th {\n        text-align: right;\n    }\n</style>\n<table border=\"1\" class=\"dataframe\">\n  <thead>\n    <tr style=\"text-align: right;\">\n      <th></th>\n      <th>Unnamed: 0_x</th>\n      <th>Task</th>\n      <th>Train</th>\n      <th>Congruity_x</th>\n      <th>Test</th>\n      <th>Ratio</th>\n      <th>Accuracy_x</th>\n      <th>std_x</th>\n      <th>Unnamed: 0_y</th>\n      <th>Congruity_y</th>\n      <th>Accuracy_y</th>\n      <th>std_y</th>\n    </tr>\n  </thead>\n  <tbody>\n    <tr>\n      <th>0</th>\n      <td>1</td>\n      <td>colors-count</td>\n      <td>AD-controlled</td>\n      <td>Congruent</td>\n      <td>AD-controlled</td>\n      <td>50</td>\n      <td>0.9750</td>\n      <td>0.080296</td>\n      <td>19</td>\n      <td>Incongruent</td>\n      <td>0.5350</td>\n      <td>0.163916</td>\n    </tr>\n    <tr>\n      <th>1</th>\n      <td>2</td>\n      <td>colors-count</td>\n      <td>AD-controlled</td>\n      <td>Congruent</td>\n      <td>AD-controlled</td>\n      <td>56</td>\n      <td>0.9675</td>\n      <td>0.145344</td>\n      <td>20</td>\n      <td>Incongruent</td>\n      <td>0.8875</td>\n      <td>0.138483</td>\n    </tr>\n  </tbody>\n</table>\n</div>"
     },
     "execution_count": 9,
     "metadata": {},
     "output_type": "execute_result"
    }
   ],
   "source": [
    "merged_df.head(2)"
   ],
   "metadata": {
    "collapsed": false,
    "pycharm": {
     "name": "#%%\n"
    }
   }
  },
  {
   "cell_type": "code",
   "execution_count": 10,
   "outputs": [],
   "source": [
    "merged_df['Accuracy_diff'] = merged_df['Accuracy_x'] - merged_df['Accuracy_y']"
   ],
   "metadata": {
    "collapsed": false,
    "pycharm": {
     "name": "#%%\n"
    }
   }
  },
  {
   "cell_type": "code",
   "execution_count": 11,
   "outputs": [
    {
     "data": {
      "text/plain": "   Unnamed: 0_x          Task          Train Congruity_x           Test  \\\n0             1  colors-count  AD-controlled   Congruent  AD-controlled   \n1             2  colors-count  AD-controlled   Congruent  AD-controlled   \n\n   Ratio  Accuracy_x     std_x  Unnamed: 0_y  Congruity_y  Accuracy_y  \\\n0     50      0.9750  0.080296            19  Incongruent      0.5350   \n1     56      0.9675  0.145344            20  Incongruent      0.8875   \n\n      std_y  Accuracy_diff  \n0  0.163916           0.44  \n1  0.138483           0.08  ",
      "text/html": "<div>\n<style scoped>\n    .dataframe tbody tr th:only-of-type {\n        vertical-align: middle;\n    }\n\n    .dataframe tbody tr th {\n        vertical-align: top;\n    }\n\n    .dataframe thead th {\n        text-align: right;\n    }\n</style>\n<table border=\"1\" class=\"dataframe\">\n  <thead>\n    <tr style=\"text-align: right;\">\n      <th></th>\n      <th>Unnamed: 0_x</th>\n      <th>Task</th>\n      <th>Train</th>\n      <th>Congruity_x</th>\n      <th>Test</th>\n      <th>Ratio</th>\n      <th>Accuracy_x</th>\n      <th>std_x</th>\n      <th>Unnamed: 0_y</th>\n      <th>Congruity_y</th>\n      <th>Accuracy_y</th>\n      <th>std_y</th>\n      <th>Accuracy_diff</th>\n    </tr>\n  </thead>\n  <tbody>\n    <tr>\n      <th>0</th>\n      <td>1</td>\n      <td>colors-count</td>\n      <td>AD-controlled</td>\n      <td>Congruent</td>\n      <td>AD-controlled</td>\n      <td>50</td>\n      <td>0.9750</td>\n      <td>0.080296</td>\n      <td>19</td>\n      <td>Incongruent</td>\n      <td>0.5350</td>\n      <td>0.163916</td>\n      <td>0.44</td>\n    </tr>\n    <tr>\n      <th>1</th>\n      <td>2</td>\n      <td>colors-count</td>\n      <td>AD-controlled</td>\n      <td>Congruent</td>\n      <td>AD-controlled</td>\n      <td>56</td>\n      <td>0.9675</td>\n      <td>0.145344</td>\n      <td>20</td>\n      <td>Incongruent</td>\n      <td>0.8875</td>\n      <td>0.138483</td>\n      <td>0.08</td>\n    </tr>\n  </tbody>\n</table>\n</div>"
     },
     "execution_count": 11,
     "metadata": {},
     "output_type": "execute_result"
    }
   ],
   "source": [
    "merged_df.head(2)"
   ],
   "metadata": {
    "collapsed": false,
    "pycharm": {
     "name": "#%%\n"
    }
   }
  },
  {
   "cell_type": "code",
   "execution_count": 21,
   "outputs": [],
   "source": [
    "# merged_df.drop(columns=['Unnamed: 0_x', 'Unnamed: 0_y'], inplace=True)\n",
    "# merged_df.reset_index(inplace=True)\n",
    "merged_df[[\"index\",\"Task\", \"Train\", \"Test\", \"Ratio\", \"Accuracy_diff\"]].to_csv('/Users/gali.k/phd/phd_2021/data_analysis/analysis/balanced_exp/pnas_acc_diff.csv', index=False)"
   ],
   "metadata": {
    "collapsed": false,
    "pycharm": {
     "name": "#%%\n"
    }
   }
  },
  {
   "cell_type": "code",
   "execution_count": null,
   "outputs": [],
   "source": [],
   "metadata": {
    "collapsed": false,
    "pycharm": {
     "name": "#%%\n"
    }
   }
  }
 ],
 "metadata": {
  "kernelspec": {
   "display_name": "Python 3",
   "language": "python",
   "name": "python3"
  },
  "language_info": {
   "codemirror_mode": {
    "name": "ipython",
    "version": 2
   },
   "file_extension": ".py",
   "mimetype": "text/x-python",
   "name": "python",
   "nbconvert_exporter": "python",
   "pygments_lexer": "ipython2",
   "version": "2.7.6"
  }
 },
 "nbformat": 4,
 "nbformat_minor": 0
}