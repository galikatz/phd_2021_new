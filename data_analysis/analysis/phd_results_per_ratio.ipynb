{
 "cells": [
  {
   "cell_type": "code",
   "execution_count": 1,
   "metadata": {
    "collapsed": true,
    "pycharm": {
     "name": "#%%\n"
    }
   },
   "outputs": [],
   "source": [
    "import pandas as pd\n",
    "import os\n",
    "import glob\n",
    "import plotly.express as px\n",
    "from plotly.subplots import make_subplots\n",
    "import plotly.graph_objects as go\n",
    "import numpy as np\n",
    "\n",
    "\n",
    "EPSILON = 0.001\n",
    "PHYS_PROPERTY = {'equate_1':'Average Diameter', 'equate_2': 'Total Surface Area', 'equate_3': 'Convex Hull'}\n",
    "EXPERIMENTS = ['size', 'count', 'size-count', 'count-size', 'colors', 'colors-count']"
   ]
  },
  {
   "cell_type": "code",
   "execution_count": 2,
   "outputs": [],
   "source": [
    "PATH = \"/Users/gali.k/phd/phd_2021/results\"\n",
    "result_dict = {}\n",
    "for equate in PHYS_PROPERTY.keys():\n",
    "    equate_dict = {}\n",
    "    for experiment in EXPERIMENTS:\n",
    "        curr_results_path = PATH + os.sep + equate + os.sep + experiment\n",
    "        result_file_names = glob.glob(curr_results_path + os.sep + f\"Results_*.csv\")\n",
    "        if len(result_file_names) > 0:\n",
    "            result_file_name = result_file_names[0]\n",
    "            result_df =  pd.read_csv(result_file_name)\n",
    "            result_df.head()\n",
    "            equate_dict.update({experiment: result_df})\n",
    "            result_dict.update({equate: equate_dict})"
   ],
   "metadata": {
    "collapsed": false,
    "pycharm": {
     "name": "#%%\n"
    }
   }
  },
  {
   "cell_type": "code",
   "execution_count": 3,
   "outputs": [],
   "source": [
    "total_performance_df = pd.DataFrame()\n",
    "for phys_prop in result_dict.keys():\n",
    "    phys_performance_df = pd.DataFrame()\n",
    "    exp_result = result_dict[phys_prop]\n",
    "    for exp in exp_result.keys():\n",
    "        performance_df = pd.DataFrame()\n",
    "        df = exp_result[exp]\n",
    "        column_names = list(df.columns)\n",
    "\n",
    "        performance_df['Training_Accuracy'] = df.groupby(['Generations'])['Training_Accuracy'].mean()\n",
    "        performance_df['Validation_Accuracy'] = df.groupby(['Generations'])['Validation_Accuracy'].mean()\n",
    "        performance_df['Training_Loss'] = df.groupby(['Generations'])['Training_loss'].mean()\n",
    "        performance_df['Validation_Loss'] = df.groupby(['Generations'])['Validation_Loss'].mean()\n",
    "        performance_df['Physical_property'] = phys_prop\n",
    "        performance_df['Experiment'] = exp\n",
    "        performance_df.reset_index(inplace=True)\n",
    "        phys_performance_df = pd.concat([phys_performance_df, performance_df])\n",
    "        pass\n",
    "    total_performance_df = pd.concat([total_performance_df, phys_performance_df])\n",
    "    pass\n",
    "total_performance_df.head(20)\n"
   ],
   "metadata": {
    "collapsed": false,
    "pycharm": {
     "name": "#%%\n"
    }
   }
  }
 ],
 "metadata": {
  "kernelspec": {
   "display_name": "Python 3",
   "language": "python",
   "name": "python3"
  },
  "language_info": {
   "codemirror_mode": {
    "name": "ipython",
    "version": 2
   },
   "file_extension": ".py",
   "mimetype": "text/x-python",
   "name": "python",
   "nbconvert_exporter": "python",
   "pygments_lexer": "ipython2",
   "version": "2.7.6"
  }
 },
 "nbformat": 4,
 "nbformat_minor": 0
}