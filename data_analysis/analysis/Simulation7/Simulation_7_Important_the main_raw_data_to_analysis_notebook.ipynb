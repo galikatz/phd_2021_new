{
 "cells": [
  {
   "cell_type": "code",
   "execution_count": 1,
   "metadata": {
    "collapsed": true,
    "pycharm": {
     "name": "#%%\n"
    }
   },
   "outputs": [],
   "source": [
    "import pandas as pd\n",
    "import os\n",
    "import glob\n",
    "import plotly.express as px\n",
    "from plotly.subplots import make_subplots\n",
    "import plotly.graph_objects as go\n",
    "import numpy as np\n",
    "import matplotlib.pyplot as plt\n",
    "import seaborn as sns\n",
    "import statsmodels.api as sm\n",
    "from statsmodels.formula.api import ols\n",
    "pd.options.mode.chained_assignment = None\n",
    "from scipy import stats\n",
    "from tqdm import tqdm\n",
    "sns.set_theme()\n",
    "sns.set(font_scale=1)\n",
    "\n",
    "EPSILON = 0.001\n",
    "PHYS_PROPERTY = {'equate_1':'AD-controlled', 'equate_2': 'TS-controlled', 'equate_3': 'CH-controlled'}\n",
    "PHYS_PROPERTY_TO_NUM = {'Average Diameter':1, 'Total Surface Area':2, 'Convex Hull': 3}\n",
    "NUM_TO_PHYS_PROPERTY = {1: 'AD-controlled', 2: 'TS-controlled', 3: 'CH-controlled'}\n",
    "EXPERIMENTS = { 'size-count', 'count-size', 'colors-count'}\n",
    "CONGRUENT_COLUMNS = ['Ratio 50 Congruent Validation Accuracy',\n",
    "                     'Ratio 56 Congruent Validation Accuracy',\n",
    "                     'Ratio 63 Congruent Validation Accuracy',\n",
    "                     'Ratio 71 Congruent Validation Accuracy',\n",
    "                     'Ratio 75 Congruent Validation Accuracy',\n",
    "                     'Ratio 86 Congruent Validation Accuracy']\n",
    "INCONGRUENT_COLUMNS = ['Ratio 50 Incongruent Validation Accuracy',\n",
    "                     'Ratio 56 Incongruent Validation Accuracy',\n",
    "                     'Ratio 63 Incongruent Validation Accuracy',\n",
    "                     'Ratio 71 Incongruent Validation Accuracy',\n",
    "                     'Ratio 75 Incongruent Validation Accuracy',\n",
    "                     'Ratio 86 Incongruent Validation Accuracy']\n",
    "TO_REMOVE = 9999999.9\n",
    "STD_FILTER = 2.5\n",
    "CONGRUENT_VALUE = 1\n",
    "INCONGRUENT_VALUE = 0\n",
    "CONGRUENCY = {CONGRUENT_VALUE: \"Congruent\", INCONGRUENT_VALUE: \"Incongruent\"}\n",
    "RATIOS = ['50','56','63','71','75','86']"
   ]
  },
  {
   "cell_type": "code",
   "execution_count": 5,
   "outputs": [],
   "source": [
    "def split_train_test_results(files_names):\n",
    "    tests = []\n",
    "    for file in files_names:\n",
    "        if \"Tested_on\" in file:\n",
    "            tests.append(file)\n",
    "        else:\n",
    "            train = file\n",
    "    return tests, train"
   ],
   "metadata": {
    "collapsed": false,
    "pycharm": {
     "name": "#%%\n"
    }
   }
  },
  {
   "cell_type": "markdown",
   "source": [
    "Train and test result files as a dict"
   ],
   "metadata": {
    "collapsed": false,
    "pycharm": {
     "name": "#%% md\n"
    }
   }
  },
  {
   "cell_type": "markdown",
   "source": [
    "Aggregate all files into dict"
   ],
   "metadata": {
    "collapsed": false,
    "pycharm": {
     "name": "#%% md\n"
    }
   }
  },
  {
   "cell_type": "code",
   "execution_count": 9,
   "outputs": [],
   "source": [
    "PATH = \"/Users/gali.k/phd/phd_2021/post_tests/result_proffeciancy_0.65_counting_stop_0.80__batch_512_2_epochs\"\n",
    "\n",
    "result_dict = {}\n",
    "for equate in PHYS_PROPERTY.keys():\n",
    "    equate_dict = {}\n",
    "\n",
    "    for experiment in EXPERIMENTS:\n",
    "        curr_results_path = PATH + os.sep + equate + os.sep + experiment\n",
    "        result_file_names = glob.glob(curr_results_path + os.sep + f\"Results_*.csv\")\n",
    "        if len(result_file_names) > 0:\n",
    "            testing_file_name1  = result_file_names[0]\n",
    "            testing_file_1_df =  pd.read_csv(testing_file_name1)\n",
    "            testing_file_1_df['Tested_On_Equate'] = testing_file_name1[testing_file_name1.find('Tested_on'): testing_file_name1.find('AvgAccuracy')-1].replace('Tested_on_Equate', 'equate')\n",
    "            equate_dict.update({experiment: { \"test_1\": testing_file_1_df,}})\n",
    "            result_dict.update({equate: equate_dict})"
   ],
   "metadata": {
    "collapsed": false,
    "pycharm": {
     "name": "#%%\n"
    }
   }
  },
  {
   "cell_type": "markdown",
   "source": [
    "Preprocess the dataframe"
   ],
   "metadata": {
    "collapsed": false,
    "pycharm": {
     "name": "#%% md\n"
    }
   }
  },
  {
   "cell_type": "markdown",
   "source": [
    "Create ANOVA CSV"
   ],
   "metadata": {
    "collapsed": false,
    "pycharm": {
     "name": "#%% md\n"
    }
   }
  },
  {
   "cell_type": "code",
   "execution_count": 10,
   "outputs": [],
   "source": [
    "def prepare_ratios_df(curr_df):\n",
    "    ratios_df = pd.DataFrame()\n",
    "    for ratio in RATIOS:\n",
    "        ratio_cong_df = pd.DataFrame()\n",
    "        ratio_cong_df['UNIQUE_SUBJECT_UID'] = curr_df['UNIQUE_SUBJECT_UID']\n",
    "        ratio_cong_df['Task'] = curr_df['Task']\n",
    "        ratio_cong_df['Generations'] = curr_df['Generations']\n",
    "        ratio_cong_df['Train'] = curr_df['Equate'].apply(lambda val: NUM_TO_PHYS_PROPERTY[val])\n",
    "        ratio_cong_df['Test'] = curr_df['Tested_On_Equate'].apply(lambda val: PHYS_PROPERTY[val])\n",
    "        ratio_cong_df['Congruity'] = 'Congruent'\n",
    "        ratio_cong_df['Ratio'] = ratio\n",
    "        ratio_cong_df['Training Accuracy'] = curr_df[f'Ratio {ratio} Congruent Training Accuracy']\n",
    "        ratio_cong_df['Validation Accuracy'] = curr_df[f'Ratio {ratio} Congruent Validation Accuracy']\n",
    "        ratio_cong_df['Training Loss'] = curr_df[f'Ratio {ratio} Congruent Validation Loss']\n",
    "        ratio_cong_df['Validation Loss'] = curr_df[f'Ratio {ratio} Congruent Validation Loss']\n",
    "        ratio_cong_df['Layers'] = curr_df['Layers']\n",
    "        ratio_cong_df['Neurons'] = curr_df['Nuerons']\n",
    "        ratio_cong_df['Activation'] = curr_df['Activation']\n",
    "        ratio_cong_df['Optimizer'] = curr_df['Optimizer']\n",
    "\n",
    "        ratio_incong_df = pd.DataFrame()\n",
    "        ratio_incong_df['UNIQUE_SUBJECT_UID'] = curr_df['UNIQUE_SUBJECT_UID']\n",
    "        ratio_incong_df['Task'] = curr_df['Task']\n",
    "        ratio_incong_df['Generations'] = curr_df['Generations']\n",
    "        ratio_incong_df['Train'] = curr_df['Equate'].apply(lambda val: NUM_TO_PHYS_PROPERTY[val])\n",
    "        ratio_incong_df['Test'] = curr_df['Tested_On_Equate'].apply(lambda val: PHYS_PROPERTY[val])\n",
    "        ratio_incong_df['Congruity'] = 'Incongruent'\n",
    "        ratio_incong_df['Ratio'] = ratio\n",
    "        ratio_incong_df['Training Accuracy'] = curr_df[f'Ratio {ratio} Incongruent Training Accuracy']\n",
    "        ratio_incong_df['Validation Accuracy'] = curr_df[f'Ratio {ratio} Incongruent Validation Accuracy']\n",
    "        ratio_incong_df['Training Loss'] = curr_df[f'Ratio {ratio} Incongruent Validation Loss']\n",
    "        ratio_incong_df['Validation Loss'] = curr_df[f'Ratio {ratio} Incongruent Validation Loss']\n",
    "        ratio_incong_df['Layers'] = curr_df['Layers']\n",
    "        ratio_incong_df['Neurons'] = curr_df['Nuerons']\n",
    "        ratio_incong_df['Activation'] = curr_df['Activation']\n",
    "        ratio_incong_df['Optimizer'] = curr_df['Optimizer']\n",
    "\n",
    "        ratio_df = pd.concat([ratio_cong_df, ratio_incong_df])\n",
    "        ratios_df = pd.concat([ratios_df, ratio_df])\n",
    "    return ratios_df.reset_index(drop=True)"
   ],
   "metadata": {
    "collapsed": false,
    "pycharm": {
     "name": "#%%\n"
    }
   }
  },
  {
   "cell_type": "code",
   "execution_count": 11,
   "outputs": [
    {
     "name": "stderr",
     "output_type": "stream",
     "text": [
      "100%|██████████| 3/3 [00:00<00:00,  4.44it/s]\n"
     ]
    }
   ],
   "source": [
    "result_dict.keys()\n",
    "anova_df = pd.DataFrame()\n",
    "mixed_anova_df = pd.DataFrame()\n",
    "for phys_prop in tqdm(result_dict.keys()):\n",
    "    #print(f\"Working on {phys_prop}\")\n",
    "    exp_result = result_dict[phys_prop]\n",
    "    for task in exp_result.keys():\n",
    "        #print(f\"Task: {task}\")\n",
    "\n",
    "        test1_df = exp_result[task]['test_1']\n",
    "        test1_df['UNIQUE_SUBJECT_UID'] = test1_df['Subject_UID'].apply(lambda x: task + \"_\" + phys_prop + \"_\" + str(x))\n",
    "        test_1_ratios_df = prepare_ratios_df(test1_df)\n",
    "        mixed_anova_df = pd.concat([mixed_anova_df, test_1_ratios_df])\n",
    "\n",
    "mixed_anova_df.to_csv('mixed_anova_df.csv')"
   ],
   "metadata": {
    "collapsed": false,
    "pycharm": {
     "name": "#%%\n"
    }
   }
  },
  {
   "cell_type": "code",
   "execution_count": 12,
   "outputs": [
    {
     "data": {
      "text/plain": "2160"
     },
     "execution_count": 12,
     "metadata": {},
     "output_type": "execute_result"
    }
   ],
   "source": [
    "len(mixed_anova_df)"
   ],
   "metadata": {
    "collapsed": false,
    "pycharm": {
     "name": "#%%\n"
    }
   }
  },
  {
   "cell_type": "markdown",
   "source": [
    "Filter nulls"
   ],
   "metadata": {
    "collapsed": false,
    "pycharm": {
     "name": "#%% md\n"
    }
   }
  },
  {
   "cell_type": "code",
   "execution_count": 13,
   "outputs": [
    {
     "data": {
      "text/plain": "2136"
     },
     "execution_count": 13,
     "metadata": {},
     "output_type": "execute_result"
    }
   ],
   "source": [
    "non_na_mixed_anova = mixed_anova_df.dropna()\n",
    "len(non_na_mixed_anova)"
   ],
   "metadata": {
    "collapsed": false,
    "pycharm": {
     "name": "#%%\n"
    }
   }
  },
  {
   "cell_type": "code",
   "execution_count": 14,
   "outputs": [
    {
     "data": {
      "text/plain": "       Generations  Training Accuracy  Validation Accuracy  Training Loss  \\\ncount  2136.000000        2136.000000          2136.000000    2136.000000   \nmean     11.747191           0.515169             0.515169       1.800996   \nstd       8.512272           0.349830             0.349830       7.799110   \nmin       3.000000           0.000000             0.000000       0.000300   \n25%       6.000000           0.200000             0.200000       0.575025   \n50%       6.000000           0.500000             0.500000       0.934700   \n75%      19.000000           0.850000             0.850000       1.286625   \nmax      30.000000           1.000000             1.000000     142.571000   \n\n       Validation Loss       Layers  \ncount      2136.000000  2136.000000  \nmean          1.800996     3.292135  \nstd           7.799110     1.138985  \nmin           0.000300     2.000000  \n25%           0.575025     2.000000  \n50%           0.934700     3.000000  \n75%           1.286625     4.000000  \nmax         142.571000     5.000000  ",
      "text/html": "<div>\n<style scoped>\n    .dataframe tbody tr th:only-of-type {\n        vertical-align: middle;\n    }\n\n    .dataframe tbody tr th {\n        vertical-align: top;\n    }\n\n    .dataframe thead th {\n        text-align: right;\n    }\n</style>\n<table border=\"1\" class=\"dataframe\">\n  <thead>\n    <tr style=\"text-align: right;\">\n      <th></th>\n      <th>Generations</th>\n      <th>Training Accuracy</th>\n      <th>Validation Accuracy</th>\n      <th>Training Loss</th>\n      <th>Validation Loss</th>\n      <th>Layers</th>\n    </tr>\n  </thead>\n  <tbody>\n    <tr>\n      <th>count</th>\n      <td>2136.000000</td>\n      <td>2136.000000</td>\n      <td>2136.000000</td>\n      <td>2136.000000</td>\n      <td>2136.000000</td>\n      <td>2136.000000</td>\n    </tr>\n    <tr>\n      <th>mean</th>\n      <td>11.747191</td>\n      <td>0.515169</td>\n      <td>0.515169</td>\n      <td>1.800996</td>\n      <td>1.800996</td>\n      <td>3.292135</td>\n    </tr>\n    <tr>\n      <th>std</th>\n      <td>8.512272</td>\n      <td>0.349830</td>\n      <td>0.349830</td>\n      <td>7.799110</td>\n      <td>7.799110</td>\n      <td>1.138985</td>\n    </tr>\n    <tr>\n      <th>min</th>\n      <td>3.000000</td>\n      <td>0.000000</td>\n      <td>0.000000</td>\n      <td>0.000300</td>\n      <td>0.000300</td>\n      <td>2.000000</td>\n    </tr>\n    <tr>\n      <th>25%</th>\n      <td>6.000000</td>\n      <td>0.200000</td>\n      <td>0.200000</td>\n      <td>0.575025</td>\n      <td>0.575025</td>\n      <td>2.000000</td>\n    </tr>\n    <tr>\n      <th>50%</th>\n      <td>6.000000</td>\n      <td>0.500000</td>\n      <td>0.500000</td>\n      <td>0.934700</td>\n      <td>0.934700</td>\n      <td>3.000000</td>\n    </tr>\n    <tr>\n      <th>75%</th>\n      <td>19.000000</td>\n      <td>0.850000</td>\n      <td>0.850000</td>\n      <td>1.286625</td>\n      <td>1.286625</td>\n      <td>4.000000</td>\n    </tr>\n    <tr>\n      <th>max</th>\n      <td>30.000000</td>\n      <td>1.000000</td>\n      <td>1.000000</td>\n      <td>142.571000</td>\n      <td>142.571000</td>\n      <td>5.000000</td>\n    </tr>\n  </tbody>\n</table>\n</div>"
     },
     "execution_count": 14,
     "metadata": {},
     "output_type": "execute_result"
    }
   ],
   "source": [
    "non_na_mixed_anova.describe()"
   ],
   "metadata": {
    "collapsed": false,
    "pycharm": {
     "name": "#%%\n"
    }
   }
  },
  {
   "cell_type": "code",
   "execution_count": 15,
   "outputs": [
    {
     "data": {
      "text/plain": "Index(['UNIQUE_SUBJECT_UID', 'Task', 'Generations', 'Train', 'Test',\n       'Congruity', 'Ratio', 'Training Accuracy', 'Validation Accuracy',\n       'Training Loss', 'Validation Loss', 'Layers', 'Neurons', 'Activation',\n       'Optimizer'],\n      dtype='object')"
     },
     "execution_count": 15,
     "metadata": {},
     "output_type": "execute_result"
    }
   ],
   "source": [
    "non_na_mixed_anova.columns"
   ],
   "metadata": {
    "collapsed": false,
    "pycharm": {
     "name": "#%%\n"
    }
   }
  },
  {
   "cell_type": "markdown",
   "source": [
    "Filter extreme values"
   ],
   "metadata": {
    "collapsed": false,
    "pycharm": {
     "name": "#%% md\n"
    }
   }
  },
  {
   "cell_type": "code",
   "execution_count": 16,
   "outputs": [
    {
     "data": {
      "text/plain": "        UNIQUE_SUBJECT_UID  Task          Train           Test  Generations  \\\n0  size-count_equate_1_115  size  AD-controlled  AD-controlled            6   \n1  size-count_equate_1_112  size  AD-controlled  AD-controlled            6   \n2  size-count_equate_1_107  size  AD-controlled  AD-controlled            6   \n3  size-count_equate_1_110  size  AD-controlled  AD-controlled            6   \n4  size-count_equate_1_101  size  AD-controlled  AD-controlled            6   \n\n   Congruity Ratio  Validation Accuracy  \n0  Congruent    50                  0.0  \n1  Congruent    50                  0.0  \n2  Congruent    50                  0.0  \n3  Congruent    50                  0.0  \n4  Congruent    50                  0.1  ",
      "text/html": "<div>\n<style scoped>\n    .dataframe tbody tr th:only-of-type {\n        vertical-align: middle;\n    }\n\n    .dataframe tbody tr th {\n        vertical-align: top;\n    }\n\n    .dataframe thead th {\n        text-align: right;\n    }\n</style>\n<table border=\"1\" class=\"dataframe\">\n  <thead>\n    <tr style=\"text-align: right;\">\n      <th></th>\n      <th>UNIQUE_SUBJECT_UID</th>\n      <th>Task</th>\n      <th>Train</th>\n      <th>Test</th>\n      <th>Generations</th>\n      <th>Congruity</th>\n      <th>Ratio</th>\n      <th>Validation Accuracy</th>\n    </tr>\n  </thead>\n  <tbody>\n    <tr>\n      <th>0</th>\n      <td>size-count_equate_1_115</td>\n      <td>size</td>\n      <td>AD-controlled</td>\n      <td>AD-controlled</td>\n      <td>6</td>\n      <td>Congruent</td>\n      <td>50</td>\n      <td>0.0</td>\n    </tr>\n    <tr>\n      <th>1</th>\n      <td>size-count_equate_1_112</td>\n      <td>size</td>\n      <td>AD-controlled</td>\n      <td>AD-controlled</td>\n      <td>6</td>\n      <td>Congruent</td>\n      <td>50</td>\n      <td>0.0</td>\n    </tr>\n    <tr>\n      <th>2</th>\n      <td>size-count_equate_1_107</td>\n      <td>size</td>\n      <td>AD-controlled</td>\n      <td>AD-controlled</td>\n      <td>6</td>\n      <td>Congruent</td>\n      <td>50</td>\n      <td>0.0</td>\n    </tr>\n    <tr>\n      <th>3</th>\n      <td>size-count_equate_1_110</td>\n      <td>size</td>\n      <td>AD-controlled</td>\n      <td>AD-controlled</td>\n      <td>6</td>\n      <td>Congruent</td>\n      <td>50</td>\n      <td>0.0</td>\n    </tr>\n    <tr>\n      <th>4</th>\n      <td>size-count_equate_1_101</td>\n      <td>size</td>\n      <td>AD-controlled</td>\n      <td>AD-controlled</td>\n      <td>6</td>\n      <td>Congruent</td>\n      <td>50</td>\n      <td>0.1</td>\n    </tr>\n  </tbody>\n</table>\n</div>"
     },
     "execution_count": 16,
     "metadata": {},
     "output_type": "execute_result"
    }
   ],
   "source": [
    "anova_df_for_R = non_na_mixed_anova[['UNIQUE_SUBJECT_UID', 'Task','Train','Test','Generations','Congruity','Ratio','Validation Accuracy']]\n",
    "anova_df_for_R.head()"
   ],
   "metadata": {
    "collapsed": false,
    "pycharm": {
     "name": "#%%\n"
    }
   }
  },
  {
   "cell_type": "code",
   "execution_count": 17,
   "outputs": [],
   "source": [
    "anova_df_for_R.to_csv(\"simulation_7_anova_df_for_R_26_01_23.csv\")"
   ],
   "metadata": {
    "collapsed": false,
    "pycharm": {
     "name": "#%%\n"
    }
   }
  },
  {
   "cell_type": "markdown",
   "source": [
    "Total Generations data"
   ],
   "metadata": {
    "collapsed": false,
    "pycharm": {
     "name": "#%% md\n"
    }
   }
  },
  {
   "cell_type": "code",
   "execution_count": 18,
   "outputs": [],
   "source": [
    "anova_df_for_R_total_generations = anova_df_for_R[['UNIQUE_SUBJECT_UID', 'Task','Train', 'Generations']].groupby(['UNIQUE_SUBJECT_UID', 'Task','Train']).mean()"
   ],
   "metadata": {
    "collapsed": false,
    "pycharm": {
     "name": "#%%\n"
    }
   }
  },
  {
   "cell_type": "code",
   "execution_count": 19,
   "outputs": [],
   "source": [
    "anova_df_for_R_total_generations.to_csv(\"simulation_7_anova_df_for_R_23_01_23_generations.csv\")"
   ],
   "metadata": {
    "collapsed": false,
    "pycharm": {
     "name": "#%%\n"
    }
   }
  },
  {
   "cell_type": "markdown",
   "source": [
    "Separating to physical and numerical"
   ],
   "metadata": {
    "collapsed": false,
    "pycharm": {
     "name": "#%% md\n"
    }
   }
  },
  {
   "cell_type": "markdown",
   "source": [
    "************* Until here for the R anova analysis! **************"
   ],
   "metadata": {
    "collapsed": false,
    "pycharm": {
     "name": "#%% md\n"
    }
   }
  },
  {
   "cell_type": "code",
   "execution_count": null,
   "outputs": [],
   "source": [],
   "metadata": {
    "collapsed": false,
    "pycharm": {
     "name": "#%%\n"
    }
   }
  },
  {
   "cell_type": "code",
   "execution_count": 31,
   "outputs": [],
   "source": [
    "overall_means_1 = anova_df_for_R[['Task','Congruity', 'Validation Accuracy']].groupby(['Task','Congruity']).agg(['mean','std'])"
   ],
   "metadata": {
    "collapsed": false,
    "pycharm": {
     "name": "#%%\n"
    }
   }
  },
  {
   "cell_type": "code",
   "execution_count": 32,
   "outputs": [
    {
     "data": {
      "text/plain": "                   Validation Accuracy          \n                                  mean       std\nTask   Congruity                                \ncolors Congruent              0.488842  0.113886\n       Incongruent            0.509322  0.106771\ncount  Congruent              0.926250  0.178077\n       Incongruent            0.110833  0.154575\nsize   Congruent              0.733051  0.335793\n       Incongruent            0.322599  0.349156",
      "text/html": "<div>\n<style scoped>\n    .dataframe tbody tr th:only-of-type {\n        vertical-align: middle;\n    }\n\n    .dataframe tbody tr th {\n        vertical-align: top;\n    }\n\n    .dataframe thead tr th {\n        text-align: left;\n    }\n\n    .dataframe thead tr:last-of-type th {\n        text-align: right;\n    }\n</style>\n<table border=\"1\" class=\"dataframe\">\n  <thead>\n    <tr>\n      <th></th>\n      <th></th>\n      <th colspan=\"2\" halign=\"left\">Validation Accuracy</th>\n    </tr>\n    <tr>\n      <th></th>\n      <th></th>\n      <th>mean</th>\n      <th>std</th>\n    </tr>\n    <tr>\n      <th>Task</th>\n      <th>Congruity</th>\n      <th></th>\n      <th></th>\n    </tr>\n  </thead>\n  <tbody>\n    <tr>\n      <th rowspan=\"2\" valign=\"top\">colors</th>\n      <th>Congruent</th>\n      <td>0.488842</td>\n      <td>0.113886</td>\n    </tr>\n    <tr>\n      <th>Incongruent</th>\n      <td>0.509322</td>\n      <td>0.106771</td>\n    </tr>\n    <tr>\n      <th rowspan=\"2\" valign=\"top\">count</th>\n      <th>Congruent</th>\n      <td>0.926250</td>\n      <td>0.178077</td>\n    </tr>\n    <tr>\n      <th>Incongruent</th>\n      <td>0.110833</td>\n      <td>0.154575</td>\n    </tr>\n    <tr>\n      <th rowspan=\"2\" valign=\"top\">size</th>\n      <th>Congruent</th>\n      <td>0.733051</td>\n      <td>0.335793</td>\n    </tr>\n    <tr>\n      <th>Incongruent</th>\n      <td>0.322599</td>\n      <td>0.349156</td>\n    </tr>\n  </tbody>\n</table>\n</div>"
     },
     "execution_count": 32,
     "metadata": {},
     "output_type": "execute_result"
    }
   ],
   "source": [
    "overall_means_1.head(10)"
   ],
   "metadata": {
    "collapsed": false,
    "pycharm": {
     "name": "#%%\n"
    }
   }
  },
  {
   "cell_type": "code",
   "execution_count": 33,
   "outputs": [],
   "source": [
    "overall_means_2 = anova_df_for_R[['Task','Congruity', 'Train', 'Validation Accuracy']].groupby(['Task','Train','Congruity']).agg(['mean','std'])"
   ],
   "metadata": {
    "collapsed": false,
    "pycharm": {
     "name": "#%%\n"
    }
   }
  },
  {
   "cell_type": "code",
   "execution_count": 34,
   "outputs": [
    {
     "data": {
      "text/plain": "                                 Validation Accuracy          \n                                                mean       std\nTask   Train         Congruity                                \ncolors AD-controlled Congruent              0.516667  0.107166\n                     Incongruent            0.533333  0.080266\n       CH-controlled Congruent              0.464912  0.126023\n                     Incongruent            0.537719  0.091342\n       TS-controlled Congruent              0.483750  0.102728\n                     Incongruent            0.458333  0.124403\ncount  AD-controlled Congruent              0.949583  0.166337\n                     Incongruent            0.112917  0.169960\n       CH-controlled Congruent              0.922083  0.206389\n                     Incongruent            0.075000  0.129479\n       TS-controlled Congruent              0.907083  0.156417\n                     Incongruent            0.144583  0.154865\nsize   AD-controlled Congruent              0.829167  0.359480\n                     Incongruent            0.220833  0.352755\n       CH-controlled Congruent              0.798246  0.403082\n                     Incongruent            0.199123  0.398503\n       TS-controlled Congruent              0.575000  0.111333\n                     Incongruent            0.541667  0.113821",
      "text/html": "<div>\n<style scoped>\n    .dataframe tbody tr th:only-of-type {\n        vertical-align: middle;\n    }\n\n    .dataframe tbody tr th {\n        vertical-align: top;\n    }\n\n    .dataframe thead tr th {\n        text-align: left;\n    }\n\n    .dataframe thead tr:last-of-type th {\n        text-align: right;\n    }\n</style>\n<table border=\"1\" class=\"dataframe\">\n  <thead>\n    <tr>\n      <th></th>\n      <th></th>\n      <th></th>\n      <th colspan=\"2\" halign=\"left\">Validation Accuracy</th>\n    </tr>\n    <tr>\n      <th></th>\n      <th></th>\n      <th></th>\n      <th>mean</th>\n      <th>std</th>\n    </tr>\n    <tr>\n      <th>Task</th>\n      <th>Train</th>\n      <th>Congruity</th>\n      <th></th>\n      <th></th>\n    </tr>\n  </thead>\n  <tbody>\n    <tr>\n      <th rowspan=\"6\" valign=\"top\">colors</th>\n      <th rowspan=\"2\" valign=\"top\">AD-controlled</th>\n      <th>Congruent</th>\n      <td>0.516667</td>\n      <td>0.107166</td>\n    </tr>\n    <tr>\n      <th>Incongruent</th>\n      <td>0.533333</td>\n      <td>0.080266</td>\n    </tr>\n    <tr>\n      <th rowspan=\"2\" valign=\"top\">CH-controlled</th>\n      <th>Congruent</th>\n      <td>0.464912</td>\n      <td>0.126023</td>\n    </tr>\n    <tr>\n      <th>Incongruent</th>\n      <td>0.537719</td>\n      <td>0.091342</td>\n    </tr>\n    <tr>\n      <th rowspan=\"2\" valign=\"top\">TS-controlled</th>\n      <th>Congruent</th>\n      <td>0.483750</td>\n      <td>0.102728</td>\n    </tr>\n    <tr>\n      <th>Incongruent</th>\n      <td>0.458333</td>\n      <td>0.124403</td>\n    </tr>\n    <tr>\n      <th rowspan=\"6\" valign=\"top\">count</th>\n      <th rowspan=\"2\" valign=\"top\">AD-controlled</th>\n      <th>Congruent</th>\n      <td>0.949583</td>\n      <td>0.166337</td>\n    </tr>\n    <tr>\n      <th>Incongruent</th>\n      <td>0.112917</td>\n      <td>0.169960</td>\n    </tr>\n    <tr>\n      <th rowspan=\"2\" valign=\"top\">CH-controlled</th>\n      <th>Congruent</th>\n      <td>0.922083</td>\n      <td>0.206389</td>\n    </tr>\n    <tr>\n      <th>Incongruent</th>\n      <td>0.075000</td>\n      <td>0.129479</td>\n    </tr>\n    <tr>\n      <th rowspan=\"2\" valign=\"top\">TS-controlled</th>\n      <th>Congruent</th>\n      <td>0.907083</td>\n      <td>0.156417</td>\n    </tr>\n    <tr>\n      <th>Incongruent</th>\n      <td>0.144583</td>\n      <td>0.154865</td>\n    </tr>\n    <tr>\n      <th rowspan=\"6\" valign=\"top\">size</th>\n      <th rowspan=\"2\" valign=\"top\">AD-controlled</th>\n      <th>Congruent</th>\n      <td>0.829167</td>\n      <td>0.359480</td>\n    </tr>\n    <tr>\n      <th>Incongruent</th>\n      <td>0.220833</td>\n      <td>0.352755</td>\n    </tr>\n    <tr>\n      <th rowspan=\"2\" valign=\"top\">CH-controlled</th>\n      <th>Congruent</th>\n      <td>0.798246</td>\n      <td>0.403082</td>\n    </tr>\n    <tr>\n      <th>Incongruent</th>\n      <td>0.199123</td>\n      <td>0.398503</td>\n    </tr>\n    <tr>\n      <th rowspan=\"2\" valign=\"top\">TS-controlled</th>\n      <th>Congruent</th>\n      <td>0.575000</td>\n      <td>0.111333</td>\n    </tr>\n    <tr>\n      <th>Incongruent</th>\n      <td>0.541667</td>\n      <td>0.113821</td>\n    </tr>\n  </tbody>\n</table>\n</div>"
     },
     "execution_count": 34,
     "metadata": {},
     "output_type": "execute_result"
    }
   ],
   "source": [
    "overall_means_2.head(30)"
   ],
   "metadata": {
    "collapsed": false,
    "pycharm": {
     "name": "#%%\n"
    }
   }
  },
  {
   "cell_type": "code",
   "execution_count": 35,
   "outputs": [
    {
     "name": "stderr",
     "output_type": "stream",
     "text": [
      "/var/folders/bw/951w4nh12991sq82d74c_gv9gj4m7h/T/ipykernel_34927/3262724012.py:1: FutureWarning: ['Congruity', 'Train'] did not aggregate successfully. If any error is raised this will raise in a future version of pandas. Drop these columns/ops to avoid this warning.\n",
      "  overall_means_3 = anova_df_for_R[['Task','Congruity', 'Train', 'Validation Accuracy']].groupby(['Task']).agg(['mean','std'])\n"
     ]
    },
    {
     "data": {
      "text/plain": "       Validation Accuracy          \n                      mean       std\nTask                                \ncolors            0.499082  0.110783\ncount             0.518542  0.440705\nsize              0.527825  0.399180",
      "text/html": "<div>\n<style scoped>\n    .dataframe tbody tr th:only-of-type {\n        vertical-align: middle;\n    }\n\n    .dataframe tbody tr th {\n        vertical-align: top;\n    }\n\n    .dataframe thead tr th {\n        text-align: left;\n    }\n\n    .dataframe thead tr:last-of-type th {\n        text-align: right;\n    }\n</style>\n<table border=\"1\" class=\"dataframe\">\n  <thead>\n    <tr>\n      <th></th>\n      <th colspan=\"2\" halign=\"left\">Validation Accuracy</th>\n    </tr>\n    <tr>\n      <th></th>\n      <th>mean</th>\n      <th>std</th>\n    </tr>\n    <tr>\n      <th>Task</th>\n      <th></th>\n      <th></th>\n    </tr>\n  </thead>\n  <tbody>\n    <tr>\n      <th>colors</th>\n      <td>0.499082</td>\n      <td>0.110783</td>\n    </tr>\n    <tr>\n      <th>count</th>\n      <td>0.518542</td>\n      <td>0.440705</td>\n    </tr>\n    <tr>\n      <th>size</th>\n      <td>0.527825</td>\n      <td>0.399180</td>\n    </tr>\n  </tbody>\n</table>\n</div>"
     },
     "execution_count": 35,
     "metadata": {},
     "output_type": "execute_result"
    }
   ],
   "source": [
    "overall_means_3 = anova_df_for_R[['Task','Congruity', 'Train', 'Validation Accuracy']].groupby(['Task']).agg(['mean','std'])\n",
    "overall_means_3.head(30)"
   ],
   "metadata": {
    "collapsed": false,
    "pycharm": {
     "name": "#%%\n"
    }
   }
  },
  {
   "cell_type": "code",
   "execution_count": null,
   "outputs": [],
   "source": [],
   "metadata": {
    "collapsed": false,
    "pycharm": {
     "name": "#%%\n"
    }
   }
  }
 ],
 "metadata": {
  "kernelspec": {
   "display_name": "Python 3",
   "language": "python",
   "name": "python3"
  },
  "language_info": {
   "codemirror_mode": {
    "name": "ipython",
    "version": 2
   },
   "file_extension": ".py",
   "mimetype": "text/x-python",
   "name": "python",
   "nbconvert_exporter": "python",
   "pygments_lexer": "ipython2",
   "version": "2.7.6"
  }
 },
 "nbformat": 4,
 "nbformat_minor": 0
}