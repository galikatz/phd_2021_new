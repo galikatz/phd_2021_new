{
 "cells": [
  {
   "cell_type": "code",
   "execution_count": 30,
   "metadata": {
    "collapsed": true,
    "pycharm": {
     "name": "#%%\n"
    }
   },
   "outputs": [],
   "source": [
    "import pandas as pd\n",
    "import os\n",
    "import glob\n",
    "import plotly.express as px\n",
    "from plotly.subplots import make_subplots\n",
    "import plotly.graph_objects as go\n",
    "import numpy as np\n",
    "import matplotlib.pyplot as plt\n",
    "import seaborn as sns\n",
    "import statsmodels.api as sm\n",
    "from statsmodels.formula.api import ols\n",
    "pd.options.mode.chained_assignment = None\n",
    "from scipy import stats\n",
    "from tqdm import tqdm\n",
    "sns.set_theme()\n",
    "sns.set(font_scale=1)\n",
    "\n",
    "EPSILON = 0.001\n",
    "PHYS_PROPERTY = {'equate_1':'AD-controlled', 'equate_2': 'TS-controlled', 'equate_3': 'CH-controlled'}\n",
    "PHYS_PROPERTY_TO_NUM = {'Average Diameter':1, 'Total Surface Area':2, 'Convex Hull': 3}\n",
    "NUM_TO_PHYS_PROPERTY = {1: 'AD-controlled', 2: 'TS-controlled', 3: 'CH-controlled'}\n",
    "EXPERIMENTS = ['size', 'count', 'size-count', 'count-size', 'colors', 'colors-count']\n",
    "CONGRUENT_COLUMNS = ['Ratio 50 Congruent Validation Accuracy',\n",
    "                     'Ratio 56 Congruent Validation Accuracy',\n",
    "                     'Ratio 63 Congruent Validation Accuracy',\n",
    "                     'Ratio 71 Congruent Validation Accuracy',\n",
    "                     'Ratio 75 Congruent Validation Accuracy',\n",
    "                     'Ratio 86 Congruent Validation Accuracy']\n",
    "INCONGRUENT_COLUMNS = ['Ratio 50 Incongruent Validation Accuracy',\n",
    "                     'Ratio 56 Incongruent Validation Accuracy',\n",
    "                     'Ratio 63 Incongruent Validation Accuracy',\n",
    "                     'Ratio 71 Incongruent Validation Accuracy',\n",
    "                     'Ratio 75 Incongruent Validation Accuracy',\n",
    "                     'Ratio 86 Incongruent Validation Accuracy']\n",
    "TO_REMOVE = 9999999.9\n",
    "STD_FILTER = 2.5\n",
    "CONGRUENT_VALUE = 1\n",
    "INCONGRUENT_VALUE = 0\n",
    "CONGRUENCY = {CONGRUENT_VALUE: \"Congruent\", INCONGRUENT_VALUE: \"Incongruent\"}\n",
    "RATIOS = ['50','56','63','71','75','86']"
   ]
  },
  {
   "cell_type": "code",
   "execution_count": 31,
   "outputs": [],
   "source": [
    "def split_train_test_results(files_names):\n",
    "    tests = []\n",
    "    for file in files_names:\n",
    "        if \"Tested_on\" in file:\n",
    "            tests.append(file)\n",
    "        else:\n",
    "            train = file\n",
    "    return tests, train"
   ],
   "metadata": {
    "collapsed": false,
    "pycharm": {
     "name": "#%%\n"
    }
   }
  },
  {
   "cell_type": "markdown",
   "source": [
    "Train and test result files as a dict"
   ],
   "metadata": {
    "collapsed": false,
    "pycharm": {
     "name": "#%% md\n"
    }
   }
  },
  {
   "cell_type": "markdown",
   "source": [
    "Aggregate all files into dict"
   ],
   "metadata": {
    "collapsed": false,
    "pycharm": {
     "name": "#%% md\n"
    }
   }
  },
  {
   "cell_type": "code",
   "execution_count": 32,
   "outputs": [],
   "source": [
    "PATH = \"/Users/gali.k/phd/phd_2021/results_proffeciancy_0.85_counting_stop_0.85_batch_1024_3_epochs\"\n",
    "result_dict = {}\n",
    "for equate in PHYS_PROPERTY.keys():\n",
    "    equate_dict = {}\n",
    "    for experiment in EXPERIMENTS:\n",
    "        curr_results_path = PATH + os.sep + equate + os.sep + experiment\n",
    "        result_file_names = glob.glob(curr_results_path + os.sep + f\"Results_*.csv\")\n",
    "        if len(result_file_names) > 0:\n",
    "            tests, training_result_file_name = split_train_test_results(result_file_names)\n",
    "            testing_file_name1 = tests[0]\n",
    "            testing_file_name2 = tests[1]\n",
    "            training_result_df = pd.read_csv(training_result_file_name)\n",
    "\n",
    "            testing_file_1_df =  pd.read_csv(testing_file_name1)\n",
    "            testing_file_1_df['Tested_On_Equate'] = testing_file_name1[testing_file_name1.find('Tested_on'): testing_file_name1.find('AvgAccuracy')-1].replace('Tested_on_Equate', 'equate')\n",
    "            testing_file_2_df =  pd.read_csv(testing_file_name2)\n",
    "            testing_file_2_df['Tested_On_Equate'] = testing_file_name2[testing_file_name2.find('Tested_on'): testing_file_name2.find('AvgAccuracy')-1].replace('Tested_on_Equate', 'equate')\n",
    "\n",
    "            equate_dict.update({experiment: { \"train\" : training_result_df,\n",
    "                                \"test_1\": testing_file_1_df,\n",
    "                                \"test_2\": testing_file_2_df}})\n",
    "            result_dict.update({equate: equate_dict})"
   ],
   "metadata": {
    "collapsed": false,
    "pycharm": {
     "name": "#%%\n"
    }
   }
  },
  {
   "cell_type": "markdown",
   "source": [
    "Preprocess the dataframe"
   ],
   "metadata": {
    "collapsed": false,
    "pycharm": {
     "name": "#%% md\n"
    }
   }
  },
  {
   "cell_type": "markdown",
   "source": [
    "Create ANOVA CSV"
   ],
   "metadata": {
    "collapsed": false,
    "pycharm": {
     "name": "#%% md\n"
    }
   }
  },
  {
   "cell_type": "code",
   "execution_count": 33,
   "outputs": [],
   "source": [
    "def prepare_ratios_df(curr_df):\n",
    "    ratios_df = pd.DataFrame()\n",
    "    for ratio in RATIOS:\n",
    "        ratio_cong_df = pd.DataFrame()\n",
    "        ratio_cong_df['UNIQUE_SUBJECT_UID'] = curr_df['UNIQUE_SUBJECT_UID']\n",
    "        ratio_cong_df['Task'] = curr_df['Task']\n",
    "        ratio_cong_df['Generations'] = curr_df['Generations']\n",
    "        ratio_cong_df['Train'] = curr_df['Equate'].apply(lambda val: NUM_TO_PHYS_PROPERTY[val])\n",
    "        ratio_cong_df['Test'] = curr_df['Tested_On_Equate'].apply(lambda val: PHYS_PROPERTY[val])\n",
    "        ratio_cong_df['Congruity'] = 'Congruent'\n",
    "        ratio_cong_df['Ratio'] = ratio\n",
    "        ratio_cong_df['Training Accuracy'] = curr_df[f'Ratio {ratio} Congruent Training Accuracy']\n",
    "        ratio_cong_df['Validation Accuracy'] = curr_df[f'Ratio {ratio} Congruent Validation Accuracy']\n",
    "        ratio_cong_df['Training Loss'] = curr_df[f'Ratio {ratio} Congruent Validation Loss']\n",
    "        ratio_cong_df['Validation Loss'] = curr_df[f'Ratio {ratio} Congruent Validation Loss']\n",
    "        ratio_cong_df['Layers'] = curr_df['Layers']\n",
    "        ratio_cong_df['Neurons'] = curr_df['Nuerons']\n",
    "        ratio_cong_df['Activation'] = curr_df['Activation']\n",
    "        ratio_cong_df['Optimizer'] = curr_df['Optimizer']\n",
    "\n",
    "        ratio_incong_df = pd.DataFrame()\n",
    "        ratio_incong_df['UNIQUE_SUBJECT_UID'] = curr_df['UNIQUE_SUBJECT_UID']\n",
    "        ratio_incong_df['Task'] = curr_df['Task']\n",
    "        ratio_incong_df['Generations'] = curr_df['Generations']\n",
    "        ratio_incong_df['Train'] = curr_df['Equate'].apply(lambda val: NUM_TO_PHYS_PROPERTY[val])\n",
    "        ratio_incong_df['Test'] = curr_df['Tested_On_Equate'].apply(lambda val: PHYS_PROPERTY[val])\n",
    "        ratio_incong_df['Congruity'] = 'Incongruent'\n",
    "        ratio_incong_df['Ratio'] = ratio\n",
    "        ratio_incong_df['Training Accuracy'] = curr_df[f'Ratio {ratio} Incongruent Training Accuracy']\n",
    "        ratio_incong_df['Validation Accuracy'] = curr_df[f'Ratio {ratio} Incongruent Validation Accuracy']\n",
    "        ratio_incong_df['Training Loss'] = curr_df[f'Ratio {ratio} Incongruent Validation Loss']\n",
    "        ratio_incong_df['Validation Loss'] = curr_df[f'Ratio {ratio} Incongruent Validation Loss']\n",
    "        ratio_incong_df['Layers'] = curr_df['Layers']\n",
    "        ratio_incong_df['Neurons'] = curr_df['Nuerons']\n",
    "        ratio_incong_df['Activation'] = curr_df['Activation']\n",
    "        ratio_incong_df['Optimizer'] = curr_df['Optimizer']\n",
    "\n",
    "        ratio_df = pd.concat([ratio_cong_df, ratio_incong_df])\n",
    "        ratios_df = pd.concat([ratios_df, ratio_df])\n",
    "    return ratios_df.reset_index(drop=True)"
   ],
   "metadata": {
    "collapsed": false,
    "pycharm": {
     "name": "#%%\n"
    }
   }
  },
  {
   "cell_type": "code",
   "execution_count": 34,
   "outputs": [
    {
     "name": "stderr",
     "output_type": "stream",
     "text": [
      "100%|██████████| 3/3 [00:03<00:00,  1.19s/it]\n"
     ]
    }
   ],
   "source": [
    "result_dict.keys()\n",
    "anova_df = pd.DataFrame()\n",
    "mixed_anova_df = pd.DataFrame()\n",
    "for phys_prop in tqdm(result_dict.keys()):\n",
    "    #print(f\"Working on {phys_prop}\")\n",
    "    exp_result = result_dict[phys_prop]\n",
    "    for task in exp_result.keys():\n",
    "        #print(f\"Task: {task}\")\n",
    "        train_df = exp_result[task]['train']\n",
    "        last_gen = train_df['Generations'].max()\n",
    "        train_df = train_df.query(f\"Generations == {last_gen}\")\n",
    "        train_df['Tested_On_Equate'] = phys_prop\n",
    "        train_df['UNIQUE_SUBJECT_UID'] = train_df['Subject_UID'].apply(lambda x: task + \"_\" + phys_prop + \"_\" + str(x))\n",
    "        train_ratios_df = prepare_ratios_df(train_df)\n",
    "\n",
    "        test1_df = exp_result[task]['test_1']\n",
    "        test1_df['UNIQUE_SUBJECT_UID'] = test1_df['Subject_UID'].apply(lambda x: task + \"_\" + phys_prop + \"_\" + str(x))\n",
    "        test_1_ratios_df = prepare_ratios_df(test1_df)\n",
    "\n",
    "        test2_df = exp_result[task]['test_2']\n",
    "        test2_df['UNIQUE_SUBJECT_UID'] = test2_df['Subject_UID'].apply(lambda x: task + \"_\" + phys_prop + \"_\" + str(x))\n",
    "        test_2_ratios_df = prepare_ratios_df(test2_df)\n",
    "\n",
    "        mixed_anova_df = pd.concat([mixed_anova_df, train_ratios_df])\n",
    "        mixed_anova_df = pd.concat([mixed_anova_df, test_1_ratios_df])\n",
    "        mixed_anova_df = pd.concat([mixed_anova_df, test_2_ratios_df])\n",
    "mixed_anova_df.to_csv('mixed_anova_df.csv')"
   ],
   "metadata": {
    "collapsed": false,
    "pycharm": {
     "name": "#%%\n"
    }
   }
  },
  {
   "cell_type": "code",
   "execution_count": 35,
   "outputs": [
    {
     "data": {
      "text/plain": "12960"
     },
     "execution_count": 35,
     "metadata": {},
     "output_type": "execute_result"
    }
   ],
   "source": [
    "len(mixed_anova_df)"
   ],
   "metadata": {
    "collapsed": false,
    "pycharm": {
     "name": "#%%\n"
    }
   }
  },
  {
   "cell_type": "markdown",
   "source": [
    "Filter nulls"
   ],
   "metadata": {
    "collapsed": false,
    "pycharm": {
     "name": "#%% md\n"
    }
   }
  },
  {
   "cell_type": "code",
   "execution_count": 36,
   "outputs": [
    {
     "data": {
      "text/plain": "12780"
     },
     "execution_count": 36,
     "metadata": {},
     "output_type": "execute_result"
    }
   ],
   "source": [
    "non_na_mixed_anova = mixed_anova_df.dropna()\n",
    "len(non_na_mixed_anova)"
   ],
   "metadata": {
    "collapsed": false,
    "pycharm": {
     "name": "#%%\n"
    }
   }
  },
  {
   "cell_type": "code",
   "execution_count": 37,
   "outputs": [
    {
     "data": {
      "text/plain": "        Generations  Training Accuracy  Validation Accuracy  Training Loss  \\\ncount  12780.000000       12780.000000         12780.000000   1.278000e+04   \nmean      22.563380           0.750156             0.750156            inf   \nstd       10.363847           0.324451             0.324451            NaN   \nmin        4.000000           0.000000             0.000000   0.000000e+00   \n25%       13.000000           0.550000             0.550000   2.706750e-01   \n50%       30.000000           0.950000             0.950000   5.586000e-01   \n75%       30.000000           1.000000             1.000000   7.680000e-01   \nmax       30.000000           1.000000             1.000000            inf   \n\n       Validation Loss        Layers  \ncount     1.278000e+04  12780.000000  \nmean               inf      3.630986  \nstd                NaN      1.119223  \nmin       0.000000e+00      2.000000  \n25%       2.706750e-01      3.000000  \n50%       5.586000e-01      4.000000  \n75%       7.680000e-01      5.000000  \nmax                inf      5.000000  ",
      "text/html": "<div>\n<style scoped>\n    .dataframe tbody tr th:only-of-type {\n        vertical-align: middle;\n    }\n\n    .dataframe tbody tr th {\n        vertical-align: top;\n    }\n\n    .dataframe thead th {\n        text-align: right;\n    }\n</style>\n<table border=\"1\" class=\"dataframe\">\n  <thead>\n    <tr style=\"text-align: right;\">\n      <th></th>\n      <th>Generations</th>\n      <th>Training Accuracy</th>\n      <th>Validation Accuracy</th>\n      <th>Training Loss</th>\n      <th>Validation Loss</th>\n      <th>Layers</th>\n    </tr>\n  </thead>\n  <tbody>\n    <tr>\n      <th>count</th>\n      <td>12780.000000</td>\n      <td>12780.000000</td>\n      <td>12780.000000</td>\n      <td>1.278000e+04</td>\n      <td>1.278000e+04</td>\n      <td>12780.000000</td>\n    </tr>\n    <tr>\n      <th>mean</th>\n      <td>22.563380</td>\n      <td>0.750156</td>\n      <td>0.750156</td>\n      <td>inf</td>\n      <td>inf</td>\n      <td>3.630986</td>\n    </tr>\n    <tr>\n      <th>std</th>\n      <td>10.363847</td>\n      <td>0.324451</td>\n      <td>0.324451</td>\n      <td>NaN</td>\n      <td>NaN</td>\n      <td>1.119223</td>\n    </tr>\n    <tr>\n      <th>min</th>\n      <td>4.000000</td>\n      <td>0.000000</td>\n      <td>0.000000</td>\n      <td>0.000000e+00</td>\n      <td>0.000000e+00</td>\n      <td>2.000000</td>\n    </tr>\n    <tr>\n      <th>25%</th>\n      <td>13.000000</td>\n      <td>0.550000</td>\n      <td>0.550000</td>\n      <td>2.706750e-01</td>\n      <td>2.706750e-01</td>\n      <td>3.000000</td>\n    </tr>\n    <tr>\n      <th>50%</th>\n      <td>30.000000</td>\n      <td>0.950000</td>\n      <td>0.950000</td>\n      <td>5.586000e-01</td>\n      <td>5.586000e-01</td>\n      <td>4.000000</td>\n    </tr>\n    <tr>\n      <th>75%</th>\n      <td>30.000000</td>\n      <td>1.000000</td>\n      <td>1.000000</td>\n      <td>7.680000e-01</td>\n      <td>7.680000e-01</td>\n      <td>5.000000</td>\n    </tr>\n    <tr>\n      <th>max</th>\n      <td>30.000000</td>\n      <td>1.000000</td>\n      <td>1.000000</td>\n      <td>inf</td>\n      <td>inf</td>\n      <td>5.000000</td>\n    </tr>\n  </tbody>\n</table>\n</div>"
     },
     "execution_count": 37,
     "metadata": {},
     "output_type": "execute_result"
    }
   ],
   "source": [
    "non_na_mixed_anova.describe()"
   ],
   "metadata": {
    "collapsed": false,
    "pycharm": {
     "name": "#%%\n"
    }
   }
  },
  {
   "cell_type": "code",
   "execution_count": 38,
   "outputs": [
    {
     "data": {
      "text/plain": "Index(['UNIQUE_SUBJECT_UID', 'Task', 'Generations', 'Train', 'Test',\n       'Congruity', 'Ratio', 'Training Accuracy', 'Validation Accuracy',\n       'Training Loss', 'Validation Loss', 'Layers', 'Neurons', 'Activation',\n       'Optimizer'],\n      dtype='object')"
     },
     "execution_count": 38,
     "metadata": {},
     "output_type": "execute_result"
    }
   ],
   "source": [
    "non_na_mixed_anova.columns"
   ],
   "metadata": {
    "collapsed": false,
    "pycharm": {
     "name": "#%%\n"
    }
   }
  },
  {
   "cell_type": "markdown",
   "source": [
    "Filter extreme values"
   ],
   "metadata": {
    "collapsed": false,
    "pycharm": {
     "name": "#%% md\n"
    }
   }
  },
  {
   "cell_type": "code",
   "execution_count": 39,
   "outputs": [
    {
     "data": {
      "text/plain": "  UNIQUE_SUBJECT_UID  Task          Train           Test  Generations  \\\n0  size_equate_1_221  size  AD-controlled  AD-controlled           12   \n1  size_equate_1_222  size  AD-controlled  AD-controlled           12   \n2  size_equate_1_223  size  AD-controlled  AD-controlled           12   \n3  size_equate_1_224  size  AD-controlled  AD-controlled           12   \n4  size_equate_1_225  size  AD-controlled  AD-controlled           12   \n\n   Congruity Ratio  Validation Accuracy  \n0  Congruent    50                  1.0  \n1  Congruent    50                  1.0  \n2  Congruent    50                  1.0  \n3  Congruent    50                  1.0  \n4  Congruent    50                  1.0  ",
      "text/html": "<div>\n<style scoped>\n    .dataframe tbody tr th:only-of-type {\n        vertical-align: middle;\n    }\n\n    .dataframe tbody tr th {\n        vertical-align: top;\n    }\n\n    .dataframe thead th {\n        text-align: right;\n    }\n</style>\n<table border=\"1\" class=\"dataframe\">\n  <thead>\n    <tr style=\"text-align: right;\">\n      <th></th>\n      <th>UNIQUE_SUBJECT_UID</th>\n      <th>Task</th>\n      <th>Train</th>\n      <th>Test</th>\n      <th>Generations</th>\n      <th>Congruity</th>\n      <th>Ratio</th>\n      <th>Validation Accuracy</th>\n    </tr>\n  </thead>\n  <tbody>\n    <tr>\n      <th>0</th>\n      <td>size_equate_1_221</td>\n      <td>size</td>\n      <td>AD-controlled</td>\n      <td>AD-controlled</td>\n      <td>12</td>\n      <td>Congruent</td>\n      <td>50</td>\n      <td>1.0</td>\n    </tr>\n    <tr>\n      <th>1</th>\n      <td>size_equate_1_222</td>\n      <td>size</td>\n      <td>AD-controlled</td>\n      <td>AD-controlled</td>\n      <td>12</td>\n      <td>Congruent</td>\n      <td>50</td>\n      <td>1.0</td>\n    </tr>\n    <tr>\n      <th>2</th>\n      <td>size_equate_1_223</td>\n      <td>size</td>\n      <td>AD-controlled</td>\n      <td>AD-controlled</td>\n      <td>12</td>\n      <td>Congruent</td>\n      <td>50</td>\n      <td>1.0</td>\n    </tr>\n    <tr>\n      <th>3</th>\n      <td>size_equate_1_224</td>\n      <td>size</td>\n      <td>AD-controlled</td>\n      <td>AD-controlled</td>\n      <td>12</td>\n      <td>Congruent</td>\n      <td>50</td>\n      <td>1.0</td>\n    </tr>\n    <tr>\n      <th>4</th>\n      <td>size_equate_1_225</td>\n      <td>size</td>\n      <td>AD-controlled</td>\n      <td>AD-controlled</td>\n      <td>12</td>\n      <td>Congruent</td>\n      <td>50</td>\n      <td>1.0</td>\n    </tr>\n  </tbody>\n</table>\n</div>"
     },
     "execution_count": 39,
     "metadata": {},
     "output_type": "execute_result"
    }
   ],
   "source": [
    "anova_df_for_R = non_na_mixed_anova[['UNIQUE_SUBJECT_UID', 'Task','Train','Test','Generations','Congruity','Ratio','Validation Accuracy']]\n",
    "anova_df_for_R.head()"
   ],
   "metadata": {
    "collapsed": false,
    "pycharm": {
     "name": "#%%\n"
    }
   }
  },
  {
   "cell_type": "code",
   "execution_count": 60,
   "outputs": [],
   "source": [
    "anova_df_for_R.to_csv(\"simulation_6_anova_df_for_R_15_01_23.csv\")"
   ],
   "metadata": {
    "collapsed": false,
    "pycharm": {
     "name": "#%%\n"
    }
   }
  },
  {
   "cell_type": "markdown",
   "source": [
    "Total Generations data"
   ],
   "metadata": {
    "collapsed": false,
    "pycharm": {
     "name": "#%% md\n"
    }
   }
  },
  {
   "cell_type": "code",
   "execution_count": 41,
   "outputs": [],
   "source": [
    "anova_df_for_R_total_generations = anova_df_for_R[['UNIQUE_SUBJECT_UID', 'Task','Train', 'Generations']].groupby(['UNIQUE_SUBJECT_UID', 'Task','Train']).mean()"
   ],
   "metadata": {
    "collapsed": false,
    "pycharm": {
     "name": "#%%\n"
    }
   }
  },
  {
   "cell_type": "code",
   "execution_count": 59,
   "outputs": [],
   "source": [
    "anova_df_for_R_total_generations.to_csv(\"simulation_6_anova_df_for_R_15_01_23_generations.csv\")"
   ],
   "metadata": {
    "collapsed": false,
    "pycharm": {
     "name": "#%%\n"
    }
   }
  },
  {
   "cell_type": "markdown",
   "source": [
    "Separating to physical and numerical"
   ],
   "metadata": {
    "collapsed": false,
    "pycharm": {
     "name": "#%% md\n"
    }
   }
  },
  {
   "cell_type": "code",
   "execution_count": 43,
   "outputs": [],
   "source": [
    "anova_df_for_R_physical_runs = anova_df_for_R.query(f\"Task == 'size' or Task == 'count-size' or Task == 'colors'\")"
   ],
   "metadata": {
    "collapsed": false,
    "pycharm": {
     "name": "#%%\n"
    }
   }
  },
  {
   "cell_type": "code",
   "execution_count": 44,
   "outputs": [],
   "source": [
    "anova_df_for_R_numerical_runs = anova_df_for_R.query(f\"Task == 'count' or Task == 'size-count' or Task == 'colors-count'\")"
   ],
   "metadata": {
    "collapsed": false,
    "pycharm": {
     "name": "#%%\n"
    }
   }
  },
  {
   "cell_type": "code",
   "execution_count": 57,
   "outputs": [],
   "source": [
    "anova_df_for_R_physical_runs.to_csv(\"simulation_6_anova_df_for_R_15_01_23_physical_accuracy.csv\")"
   ],
   "metadata": {
    "collapsed": false,
    "pycharm": {
     "name": "#%%\n"
    }
   }
  },
  {
   "cell_type": "code",
   "execution_count": 58,
   "outputs": [],
   "source": [
    "anova_df_for_R_numerical_runs.to_csv(\"simulation_6_anova_df_for_R_15_01_23_numerical_accuracy.csv\")"
   ],
   "metadata": {
    "collapsed": false,
    "pycharm": {
     "name": "#%%\n"
    }
   }
  },
  {
   "cell_type": "code",
   "execution_count": 47,
   "outputs": [],
   "source": [
    "anova_df_for_R_numerical_runs_generations = anova_df_for_R_numerical_runs[['UNIQUE_SUBJECT_UID', 'Task','Train', 'Generations']].groupby(['UNIQUE_SUBJECT_UID', 'Task','Train']).mean()"
   ],
   "metadata": {
    "collapsed": false,
    "pycharm": {
     "name": "#%%\n"
    }
   }
  },
  {
   "cell_type": "code",
   "execution_count": 48,
   "outputs": [
    {
     "data": {
      "text/plain": "array([30., 13.])"
     },
     "execution_count": 48,
     "metadata": {},
     "output_type": "execute_result"
    }
   ],
   "source": [
    "anova_df_for_R_numerical_runs_generations['Generations'].unique()"
   ],
   "metadata": {
    "collapsed": false,
    "pycharm": {
     "name": "#%%\n"
    }
   }
  },
  {
   "cell_type": "code",
   "execution_count": 61,
   "outputs": [],
   "source": [
    "anova_df_for_R_numerical_runs_generations.to_csv(\"simulation_6_anova_df_for_R_15_01_23_numerical_generations.csv\")"
   ],
   "metadata": {
    "collapsed": false,
    "pycharm": {
     "name": "#%%\n"
    }
   }
  },
  {
   "cell_type": "code",
   "execution_count": 50,
   "outputs": [],
   "source": [
    "anova_df_for_R_physical_runs_generations = anova_df_for_R_physical_runs[['UNIQUE_SUBJECT_UID', 'Task','Train', 'Generations']].groupby(['UNIQUE_SUBJECT_UID', 'Task','Train']).mean()"
   ],
   "metadata": {
    "collapsed": false,
    "pycharm": {
     "name": "#%%\n"
    }
   }
  },
  {
   "cell_type": "code",
   "execution_count": 62,
   "outputs": [],
   "source": [
    "anova_df_for_R_physical_runs_generations.to_csv(\"simulation_6_anova_df_for_R_15_01_23_physical_generations.csv\")"
   ],
   "metadata": {
    "collapsed": false,
    "pycharm": {
     "name": "#%%\n"
    }
   }
  },
  {
   "cell_type": "markdown",
   "source": [
    "************* Until here for the R anova analysis! **************"
   ],
   "metadata": {
    "collapsed": false,
    "pycharm": {
     "name": "#%% md\n"
    }
   }
  },
  {
   "cell_type": "code",
   "execution_count": 52,
   "outputs": [],
   "source": [
    "overall_means_physical = anova_df_for_R_physical_runs[['Task','Congruity', 'Validation Accuracy']].groupby(['Task','Congruity']).mean()"
   ],
   "metadata": {
    "collapsed": false,
    "pycharm": {
     "name": "#%%\n"
    }
   }
  },
  {
   "cell_type": "code",
   "execution_count": 53,
   "outputs": [
    {
     "data": {
      "text/plain": "                        Validation Accuracy\nTask       Congruity                       \ncolors     Congruent               0.932315\n           Incongruent             0.939815\ncount-size Congruent               0.728935\n           Incongruent             0.464676\nsize       Congruent               0.913889\n           Incongruent             0.819907",
      "text/html": "<div>\n<style scoped>\n    .dataframe tbody tr th:only-of-type {\n        vertical-align: middle;\n    }\n\n    .dataframe tbody tr th {\n        vertical-align: top;\n    }\n\n    .dataframe thead th {\n        text-align: right;\n    }\n</style>\n<table border=\"1\" class=\"dataframe\">\n  <thead>\n    <tr style=\"text-align: right;\">\n      <th></th>\n      <th></th>\n      <th>Validation Accuracy</th>\n    </tr>\n    <tr>\n      <th>Task</th>\n      <th>Congruity</th>\n      <th></th>\n    </tr>\n  </thead>\n  <tbody>\n    <tr>\n      <th rowspan=\"2\" valign=\"top\">colors</th>\n      <th>Congruent</th>\n      <td>0.932315</td>\n    </tr>\n    <tr>\n      <th>Incongruent</th>\n      <td>0.939815</td>\n    </tr>\n    <tr>\n      <th rowspan=\"2\" valign=\"top\">count-size</th>\n      <th>Congruent</th>\n      <td>0.728935</td>\n    </tr>\n    <tr>\n      <th>Incongruent</th>\n      <td>0.464676</td>\n    </tr>\n    <tr>\n      <th rowspan=\"2\" valign=\"top\">size</th>\n      <th>Congruent</th>\n      <td>0.913889</td>\n    </tr>\n    <tr>\n      <th>Incongruent</th>\n      <td>0.819907</td>\n    </tr>\n  </tbody>\n</table>\n</div>"
     },
     "execution_count": 53,
     "metadata": {},
     "output_type": "execute_result"
    }
   ],
   "source": [
    "overall_means_physical.head(10)"
   ],
   "metadata": {
    "collapsed": false,
    "pycharm": {
     "name": "#%%\n"
    }
   }
  },
  {
   "cell_type": "code",
   "execution_count": 54,
   "outputs": [],
   "source": [
    "overall_means_numerical = anova_df_for_R_numerical_runs[['Task','Congruity', 'Validation Accuracy']].groupby(['Task','Congruity']).mean()"
   ],
   "metadata": {
    "collapsed": false,
    "pycharm": {
     "name": "#%%\n"
    }
   }
  },
  {
   "cell_type": "code",
   "execution_count": 55,
   "outputs": [
    {
     "data": {
      "text/plain": "                          Validation Accuracy\nTask         Congruity                       \ncolors-count Congruent               0.691369\n             Incongruent             0.647173\ncount        Congruent               0.719962\n             Incongruent             0.697976\nsize-count   Congruent               0.729861\n             Incongruent             0.703843",
      "text/html": "<div>\n<style scoped>\n    .dataframe tbody tr th:only-of-type {\n        vertical-align: middle;\n    }\n\n    .dataframe tbody tr th {\n        vertical-align: top;\n    }\n\n    .dataframe thead th {\n        text-align: right;\n    }\n</style>\n<table border=\"1\" class=\"dataframe\">\n  <thead>\n    <tr style=\"text-align: right;\">\n      <th></th>\n      <th></th>\n      <th>Validation Accuracy</th>\n    </tr>\n    <tr>\n      <th>Task</th>\n      <th>Congruity</th>\n      <th></th>\n    </tr>\n  </thead>\n  <tbody>\n    <tr>\n      <th rowspan=\"2\" valign=\"top\">colors-count</th>\n      <th>Congruent</th>\n      <td>0.691369</td>\n    </tr>\n    <tr>\n      <th>Incongruent</th>\n      <td>0.647173</td>\n    </tr>\n    <tr>\n      <th rowspan=\"2\" valign=\"top\">count</th>\n      <th>Congruent</th>\n      <td>0.719962</td>\n    </tr>\n    <tr>\n      <th>Incongruent</th>\n      <td>0.697976</td>\n    </tr>\n    <tr>\n      <th rowspan=\"2\" valign=\"top\">size-count</th>\n      <th>Congruent</th>\n      <td>0.729861</td>\n    </tr>\n    <tr>\n      <th>Incongruent</th>\n      <td>0.703843</td>\n    </tr>\n  </tbody>\n</table>\n</div>"
     },
     "execution_count": 55,
     "metadata": {},
     "output_type": "execute_result"
    }
   ],
   "source": [
    "overall_means_numerical.head(10)"
   ],
   "metadata": {
    "collapsed": false,
    "pycharm": {
     "name": "#%%\n"
    }
   }
  },
  {
   "cell_type": "code",
   "execution_count": null,
   "outputs": [],
   "source": [],
   "metadata": {
    "collapsed": false,
    "pycharm": {
     "name": "#%%\n"
    }
   }
  }
 ],
 "metadata": {
  "kernelspec": {
   "display_name": "Python 3",
   "language": "python",
   "name": "python3"
  },
  "language_info": {
   "codemirror_mode": {
    "name": "ipython",
    "version": 2
   },
   "file_extension": ".py",
   "mimetype": "text/x-python",
   "name": "python",
   "nbconvert_exporter": "python",
   "pygments_lexer": "ipython2",
   "version": "2.7.6"
  }
 },
 "nbformat": 4,
 "nbformat_minor": 0
}