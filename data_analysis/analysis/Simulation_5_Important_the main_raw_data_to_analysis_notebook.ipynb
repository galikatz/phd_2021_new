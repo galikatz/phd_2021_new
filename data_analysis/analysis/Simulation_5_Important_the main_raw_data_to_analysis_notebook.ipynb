{
 "cells": [
  {
   "cell_type": "code",
   "execution_count": 22,
   "metadata": {
    "collapsed": true,
    "pycharm": {
     "name": "#%%\n"
    }
   },
   "outputs": [],
   "source": [
    "import pandas as pd\n",
    "import os\n",
    "import glob\n",
    "import plotly.express as px\n",
    "from plotly.subplots import make_subplots\n",
    "import plotly.graph_objects as go\n",
    "import numpy as np\n",
    "import matplotlib.pyplot as plt\n",
    "import seaborn as sns\n",
    "import statsmodels.api as sm\n",
    "from statsmodels.formula.api import ols\n",
    "pd.options.mode.chained_assignment = None\n",
    "from scipy import stats\n",
    "from tqdm import tqdm\n",
    "sns.set_theme()\n",
    "sns.set(font_scale=1)\n",
    "\n",
    "EPSILON = 0.001\n",
    "PHYS_PROPERTY = {'equate_1':'AD-controlled', 'equate_2': 'TS-controlled', 'equate_3': 'CH-controlled'}\n",
    "PHYS_PROPERTY_TO_NUM = {'Average Diameter':1, 'Total Surface Area':2, 'Convex Hull': 3}\n",
    "NUM_TO_PHYS_PROPERTY = {1: 'AD-controlled', 2: 'TS-controlled', 3: 'CH-controlled'}\n",
    "EXPERIMENTS = ['size', 'count', 'size-count', 'count-size', 'colors', 'colors-count']\n",
    "CONGRUENT_COLUMNS = ['Ratio 50 Congruent Validation Accuracy',\n",
    "                     'Ratio 56 Congruent Validation Accuracy',\n",
    "                     'Ratio 63 Congruent Validation Accuracy',\n",
    "                     'Ratio 71 Congruent Validation Accuracy',\n",
    "                     'Ratio 75 Congruent Validation Accuracy',\n",
    "                     'Ratio 86 Congruent Validation Accuracy']\n",
    "INCONGRUENT_COLUMNS = ['Ratio 50 Incongruent Validation Accuracy',\n",
    "                     'Ratio 56 Incongruent Validation Accuracy',\n",
    "                     'Ratio 63 Incongruent Validation Accuracy',\n",
    "                     'Ratio 71 Incongruent Validation Accuracy',\n",
    "                     'Ratio 75 Incongruent Validation Accuracy',\n",
    "                     'Ratio 86 Incongruent Validation Accuracy']\n",
    "TO_REMOVE = 9999999.9\n",
    "STD_FILTER = 2.5\n",
    "CONGRUENT_VALUE = 1\n",
    "INCONGRUENT_VALUE = 0\n",
    "CONGRUENCY = {CONGRUENT_VALUE: \"Congruent\", INCONGRUENT_VALUE: \"Incongruent\"}\n",
    "RATIOS = ['50','56','63','71','75','86']"
   ]
  },
  {
   "cell_type": "code",
   "execution_count": 2,
   "outputs": [],
   "source": [
    "# def plot_multiple_traces(fig, data, x, y, y2, y3, y4, row, col, subtitle_index, subtitle):\n",
    "#     fig.add_trace(\n",
    "#         go.Scatter(x=data[x], y=data[y], name=y),\n",
    "#         row=row, col=col,\n",
    "#         secondary_y=False,\n",
    "#     )\n",
    "#     fig.add_trace(\n",
    "#         go.Scatter(x=data[x], y=data[y2], name=y2),\n",
    "#         row=row, col=col,\n",
    "#         secondary_y=True,\n",
    "#     )\n",
    "#\n",
    "#     fig.add_trace(\n",
    "#         go.Scatter(x=data[x], y=data[y3], name=y3),\n",
    "#         row=row, col=col,\n",
    "#         secondary_y=False,\n",
    "#     )\n",
    "#\n",
    "#     fig.add_trace(\n",
    "#         go.Scatter(x=data[x], y=data[y4], name=y4),\n",
    "#         row=row, col=col,\n",
    "#         secondary_y=True,\n",
    "#     )\n",
    "#\n",
    "#     fig.layout.annotations[subtitle_index].update(text=subtitle)"
   ],
   "metadata": {
    "collapsed": false,
    "pycharm": {
     "name": "#%%\n"
    }
   }
  },
  {
   "cell_type": "code",
   "execution_count": 3,
   "outputs": [],
   "source": [
    "# def plot_graph(data, title, x, y, y2, color=None, is_line_plot=True):\n",
    "#     if color:\n",
    "#         fig = make_subplots(specs=[[{\"secondary_y\": True}]])\n",
    "#         if is_line_plot:\n",
    "#             fig.add_trace(\n",
    "#             go.Scatter(x=data[x], y=data[y], name=y),\n",
    "#             secondary_y=False,\n",
    "#         )\n",
    "#             if y2:\n",
    "#                 fig.add_trace(\n",
    "#                     go.Scatter(x=data[x], y=data[y2], name=y2),\n",
    "#                     secondary_y=True,\n",
    "#                 )\n",
    "#         else:\n",
    "#             fig = px.histogram(data, x=x, y=y, color=color,  barmode='group', text_auto=True, color_discrete_sequence = px.colors.qualitative.Safe)\n",
    "#     else:\n",
    "#         if is_line_plot:\n",
    "#             fig = px.line(data, x=x, y=y)\n",
    "#         else:\n",
    "#             fig = px.histogram(data, x=x, y=y, color=color,  barmode='group', text_auto=True, color_discrete_sequence = px.colors.qualitative.Safe)\n",
    "#     fig.update_layout(\n",
    "#         title=title,\n",
    "#         xaxis_title=x,\n",
    "#         yaxis_title=y,)\n",
    "#         # coloraxis={'colorscale': 'Viridis'})\n",
    "#     fig.show()"
   ],
   "metadata": {
    "collapsed": false,
    "pycharm": {
     "name": "#%%\n"
    }
   }
  },
  {
   "cell_type": "code",
   "execution_count": 12,
   "outputs": [],
   "source": [
    "def split_train_test_results(files_names):\n",
    "    tests = []\n",
    "    for file in files_names:\n",
    "        if \"Tested_on\" in file:\n",
    "            tests.append(file)\n",
    "        else:\n",
    "            train = file\n",
    "    return tests, train"
   ],
   "metadata": {
    "collapsed": false,
    "pycharm": {
     "name": "#%%\n"
    }
   }
  },
  {
   "cell_type": "markdown",
   "source": [
    "Train and test result files as a dict"
   ],
   "metadata": {
    "collapsed": false,
    "pycharm": {
     "name": "#%% md\n"
    }
   }
  },
  {
   "cell_type": "code",
   "execution_count": 13,
   "outputs": [],
   "source": [
    "#'Ratio 86 Incongruent Training Accuracy' should be replaced with 'Ratio 86 Congruent Training Loss'\n",
    "#'Ratio 86 Incongruent Validation Accuracy' should be replaced with 'Ratio 86 Congruent Validation Loss'\n",
    "def fix_columns(df_to_fix_column_titles, should_fix_titles=True):\n",
    "    if not should_fix_titles:\n",
    "        return\n",
    "    df_to_fix_column_titles.rename(columns={'Ratio 86 Congruent Training Loss': 'loss_temp'}, inplace=True)\n",
    "    df_to_fix_column_titles.rename(columns={'Ratio 86 Incongruent Training Accuracy': 'Ratio 86 Congruent Training Loss'}, inplace=True)\n",
    "    df_to_fix_column_titles.rename(columns={'loss_temp': 'Ratio 86 Incongruent Training Accuracy'}, inplace=True)\n",
    "\n",
    "    df_to_fix_column_titles.rename(columns={'Ratio 86 Congruent Validation Loss': 'loss_temp'}, inplace=True)\n",
    "    df_to_fix_column_titles.rename(columns={'Ratio 86 Incongruent Validation Accuracy': 'Ratio 86 Congruent Validation Loss'}, inplace=True)\n",
    "    df_to_fix_column_titles.rename(columns={'loss_temp': 'Ratio 86 Incongruent Validation Accuracy'}, inplace=True)"
   ],
   "metadata": {
    "collapsed": false,
    "pycharm": {
     "name": "#%%\n"
    }
   }
  },
  {
   "cell_type": "markdown",
   "source": [
    "Aggregate all files into dict"
   ],
   "metadata": {
    "collapsed": false,
    "pycharm": {
     "name": "#%% md\n"
    }
   }
  },
  {
   "cell_type": "code",
   "execution_count": 23,
   "outputs": [],
   "source": [
    "PATH = \"/Users/gali.k/phd/phd_2021/results\"\n",
    "result_dict = {}\n",
    "for equate in PHYS_PROPERTY.keys():\n",
    "    equate_dict = {}\n",
    "    for experiment in EXPERIMENTS:\n",
    "        curr_results_path = PATH + os.sep + equate + os.sep + experiment\n",
    "        result_file_names = glob.glob(curr_results_path + os.sep + f\"Results_*.csv\")\n",
    "        if len(result_file_names) > 0:\n",
    "            tests, training_result_file_name = split_train_test_results(result_file_names)\n",
    "            testing_file_name1 = tests[0]\n",
    "            testing_file_name2 = tests[1]\n",
    "            training_result_df = pd.read_csv(training_result_file_name)\n",
    "            fix_columns(training_result_df)\n",
    "            testing_file_1_df =  pd.read_csv(testing_file_name1)\n",
    "            fix_columns(testing_file_1_df)\n",
    "            testing_file_1_df['Tested_On_Equate'] = testing_file_name1[testing_file_name1.find('Tested_on'): testing_file_name1.find('AvgAccuracy')-1].replace('Tested_on_Equate', 'equate')\n",
    "            testing_file_2_df =  pd.read_csv(testing_file_name2)\n",
    "            fix_columns(testing_file_2_df)\n",
    "            testing_file_2_df['Tested_On_Equate'] = testing_file_name2[testing_file_name2.find('Tested_on'): testing_file_name2.find('AvgAccuracy')-1].replace('Tested_on_Equate', 'equate')\n",
    "\n",
    "            equate_dict.update({experiment: { \"train\" : training_result_df,\n",
    "                                \"test_1\": testing_file_1_df,\n",
    "                                \"test_2\": testing_file_2_df}})\n",
    "            result_dict.update({equate: equate_dict})"
   ],
   "metadata": {
    "collapsed": false,
    "pycharm": {
     "name": "#%%\n"
    }
   }
  },
  {
   "cell_type": "code",
   "execution_count": 130,
   "outputs": [],
   "source": [
    "# def add_congruency(df):\n",
    "#     column_names = list(df.columns)\n",
    "#     new_df = pd.DataFrame()\n",
    "#     for col in column_names:\n",
    "#         curr_df = pd.DataFrame()\n",
    "#         if \"Incongruent\" in col:\n",
    "#             curr_df[col.replace('Incongruent', '')] = df[col]\n",
    "#             curr_df[\"Congruency\"] = 0\n",
    "#         elif \"Congruent\" in col:\n",
    "#             curr_df[col.replace('Congruent', '')] = df[col]\n",
    "#             curr_df[\"Congruency\"] = 1\n",
    "#         else:\n",
    "#            curr_df[col] = df[col]\n",
    "#         new_df = pd.concat([new_df, curr_df])\n",
    "#     return new_df"
   ],
   "metadata": {
    "collapsed": false,
    "pycharm": {
     "name": "#%%\n"
    }
   }
  },
  {
   "cell_type": "markdown",
   "source": [
    "Analysis #1: Trained on stimuli X and tested on Y"
   ],
   "metadata": {
    "collapsed": false,
    "pycharm": {
     "name": "#%% md\n"
    }
   }
  },
  {
   "cell_type": "code",
   "execution_count": 9,
   "outputs": [],
   "source": [
    "# def process_df(agg_df, curr_df, trained_on, tested_on, task):\n",
    "#     last_gen = curr_df['Generations'].max()\n",
    "#\n",
    "#     columns_to_keep = CONGRUENT_COLUMNS.copy()\n",
    "#     columns_to_keep.append('Subject_UID')\n",
    "#     cong_df = curr_df.query(f\"Generations == {last_gen}\")[columns_to_keep]\n",
    "#     cong_df['Congruency'] = CONGRUENT_VALUE\n",
    "#\n",
    "#     columns_to_keep = INCONGRUENT_COLUMNS.copy()\n",
    "#     columns_to_keep.append('Subject_UID')\n",
    "#     incong_df = curr_df.query(f\"Generations == {last_gen}\")[columns_to_keep]\n",
    "#     incong_df['Congruency'] = INCONGRUENT_VALUE\n",
    "#\n",
    "#     validation_acc_cong = pd.DataFrame()\n",
    "#\n",
    "#     validation_acc_cong['Validation Accuracy'] = [cong_df[CONGRUENT_COLUMNS].mean().reset_index()[0].mean()]\n",
    "#     validation_acc_cong['Congruency'] = [CONGRUENT_VALUE]\n",
    "#     validation_acc_cong['Train'] = [trained_on]\n",
    "#     validation_acc_cong['Test'] = [tested_on]\n",
    "#     validation_acc_cong['Train & Test'] = ['train: ' + trained_on + '<br>' + 'test: ' + tested_on]\n",
    "#     validation_acc_cong['Task'] = [task]\n",
    "#     validation_acc_incong = pd.DataFrame()\n",
    "#     validation_acc_incong['Validation Accuracy'] = [incong_df[INCONGRUENT_COLUMNS].mean().reset_index()[0].mean()]\n",
    "#     validation_acc_incong['Congruency'] = [INCONGRUENT_VALUE]\n",
    "#     validation_acc_incong['Train'] = [trained_on]\n",
    "#     validation_acc_incong['Test'] = [tested_on]\n",
    "#     validation_acc_incong['Train & Test'] = ['train: ' + trained_on + '<br>' + 'test: ' + tested_on]\n",
    "#     validation_acc_incong['Task'] = [task]\n",
    "#     agg_df = pd.concat([agg_df, validation_acc_cong])\n",
    "#     agg_df = pd.concat([agg_df, validation_acc_incong])\n",
    "#     return agg_df"
   ],
   "metadata": {
    "collapsed": false,
    "pycharm": {
     "name": "#%%\n"
    }
   }
  },
  {
   "cell_type": "code",
   "execution_count": 8,
   "outputs": [],
   "source": [
    "# def drop_na_and_extreme_values1(df, columns_list, th):\n",
    "#     print(f'length before preprocess {len(df)}')\n",
    "#\n",
    "#     df_with_nans_total = pd.DataFrame()\n",
    "#     df_with_extreme_total = pd.DataFrame()\n",
    "#     for col in columns_list:\n",
    "#         df_with_nans = pd.DataFrame()\n",
    "#         df_with_nans[col] = df[df[col].isna()]\n",
    "#         df_with_nans_total = pd.concat([df_with_nans_total, df_with_nans])\n",
    "#         df_without_nulls = pd.DataFrame()\n",
    "#         df_without_nulls[col] = df[~df[col].isna()]\n",
    "#         abs_z_scores = np.abs(stats.zscore(df_without_nulls[col]))\n",
    "#         df_with_extreme = pd.DataFrame()\n",
    "#         df_with_extreme[col] = df[col][(abs_z_scores > STD_FILTER)]\n",
    "#         df_with_extreme_total = pd.concat([df_with_extreme_total, df_with_extreme])\n",
    "#         print(f'removing {len(df_with_extreme)} rows with extreme values')\n",
    "#\n",
    "#     df_with_nans_total.to_csv(\"df_with_nans_total.csv\")\n",
    "#     df_with_extreme_total.to_csv(\"df_with_extreme_total.csv\")\n",
    "#\n",
    "#     filtered_df = df[~df_with_extreme_total]\n",
    "#\n",
    "#     print(f'length after preprocess {len(filtered_df)}')\n",
    "#     pass\n",
    "#     df = filtered_df"
   ],
   "metadata": {
    "collapsed": false,
    "pycharm": {
     "name": "#%%\n"
    }
   }
  },
  {
   "cell_type": "code",
   "execution_count": 133,
   "outputs": [],
   "source": [
    "# def calc_z_score_and_replace_with_mean(df, columns_list):\n",
    "#     for col in columns_list:\n",
    "#         # filter nans in order to calc zscore\n",
    "#         df_without_nans = df[~df[col].isna()]\n",
    "#\n",
    "#         # replace nan datapoints with mean:\n",
    "#         abs_z_scores = np.abs(stats.zscore(df_without_nans[col]))\n",
    "#         mean_val = df_without_nans[col][(abs_z_scores <= STD_FILTER)].mean()\n",
    "#         df[col] = df[col].fillna(mean_val)\n",
    "#\n",
    "#         #calc z score again:\n",
    "#         abs_z_scores = np.abs(stats.zscore(df[col]))\n",
    "#         #replace extreme values with p90\n",
    "#         p90_val = df[col][(abs_z_scores <= STD_FILTER)].quantile(.90)\n",
    "#\n",
    "#         if (df[col][(abs_z_scores > STD_FILTER)] is not None) and (not df[col][(abs_z_scores > STD_FILTER)].empty):\n",
    "#             extreme_datapoints = df[col][(abs_z_scores > STD_FILTER)].values[0]\n",
    "#             #print(f'column {col}: replaced {extreme_datapoints} with {mean_val}')\n",
    "#             df[col].replace(extreme_datapoints, p90_val, inplace = True)"
   ],
   "metadata": {
    "collapsed": false,
    "pycharm": {
     "name": "#%%\n"
    }
   }
  },
  {
   "cell_type": "code",
   "execution_count": 134,
   "outputs": [],
   "source": [
    "# def normalize_extreme_values(df):\n",
    "#     normal_df = pd.DataFrame()\n",
    "#     gens = list(df['Generations'].unique())\n",
    "#     for gen in gens:\n",
    "#         cur_gen_df = df.query(f\"Generations == {gen}\").copy()\n",
    "#         acc_columns = list(cur_gen_df.filter(regex='.*Accuracy').columns)\n",
    "#         loss_columns = list(cur_gen_df.filter(regex='.*Loss').columns)\n",
    "#         print('Preprocess Accutacy')\n",
    "#         drop_na_and_extreme_values1(cur_gen_df, acc_columns, th=1)\n",
    "#         print('Preprocess Loss')\n",
    "#         drop_na_and_extreme_values1(cur_gen_df, loss_columns, th=100)\n",
    "#         # calc_z_score_and_replace_with_mean(cur_gen_df, acc_columns)\n",
    "#         # calc_z_score_and_replace_with_mean(cur_gen_df, loss_columns)\n",
    "#         normal_df = pd.concat([normal_df, cur_gen_df])\n",
    "#     return normal_df"
   ],
   "metadata": {
    "collapsed": false,
    "pycharm": {
     "name": "#%%\n"
    }
   }
  },
  {
   "cell_type": "markdown",
   "source": [
    "Preprocess the dataframe"
   ],
   "metadata": {
    "collapsed": false,
    "pycharm": {
     "name": "#%% md\n"
    }
   }
  },
  {
   "cell_type": "code",
   "execution_count": 32,
   "outputs": [],
   "source": [
    "# def process_for_graphs():\n",
    "#     final_df = pd.DataFrame()\n",
    "#     for phys_prop in result_dict.keys():\n",
    "#         print(f\"Working on {phys_prop}\")\n",
    "#         exp_result = result_dict[phys_prop]\n",
    "#         for exp in exp_result.keys():\n",
    "#             train_df = exp_result[exp]['train']\n",
    "#             train_df_new = normalize_extreme_values(train_df)\n",
    "#             final_df = process_df(final_df, train_df_new, PHYS_PROPERTY[phys_prop], PHYS_PROPERTY[phys_prop], exp)\n",
    "#\n",
    "#             test1_df = exp_result[exp]['test_1']\n",
    "#             test1_df_new = normalize_extreme_values(test1_df)\n",
    "#             final_df = process_df(final_df, test1_df_new, PHYS_PROPERTY[phys_prop], PHYS_PROPERTY[test1_df['Tested_On_Equate'][0]], exp)\n",
    "#\n",
    "#             test2_df = exp_result[exp]['test_2']\n",
    "#             test2_df_new = normalize_extreme_values(test2_df)\n",
    "#             final_df = process_df(final_df, test2_df_new, PHYS_PROPERTY[phys_prop], PHYS_PROPERTY[test2_df['Tested_On_Equate'][0]], exp)\n",
    "#     return final_df"
   ],
   "metadata": {
    "collapsed": false,
    "pycharm": {
     "name": "#%%\n"
    }
   }
  },
  {
   "cell_type": "markdown",
   "source": [
    "Heatmaps for different physical properties"
   ],
   "metadata": {
    "collapsed": false,
    "pycharm": {
     "name": "#%% md\n"
    }
   }
  },
  {
   "cell_type": "code",
   "execution_count": 33,
   "outputs": [],
   "source": [
    "# def heatmaps(final_df):\n",
    "#     tasks = list(final_df['Task'].unique())\n",
    "#     congruency_vals = [0, 1]\n",
    "#     for task in tasks:\n",
    "#         for cong_val in congruency_vals:\n",
    "#             task_df = final_df.query(f\"Task == '{task}' & Congruency == {cong_val}\")\n",
    "#             task_df = task_df[['Train', 'Test', 'Validation Accuracy']]\n",
    "#             df_for_heatmap = pd.pivot_table(task_df, values='Validation Accuracy', index='Train', columns='Test')\n",
    "#             f, ax = plt.subplots(figsize=(9, 6))\n",
    "#             df_for_heatmap = df_for_heatmap.round(decimals=4)\n",
    "#             sns.heatmap(df_for_heatmap, annot=True, linewidths=.5, ax=ax).set(title=f\"Train VS Test [Task = {task}, isCongruent = {CONGRUENCY[cong_val]}]\")"
   ],
   "metadata": {
    "collapsed": false,
    "pycharm": {
     "name": "#%%\n"
    }
   }
  },
  {
   "cell_type": "code",
   "execution_count": 34,
   "outputs": [],
   "source": [
    "# def graphs(final_df):\n",
    "#     tasks = list(final_df['Task'].unique())\n",
    "#     for task in tasks:\n",
    "#         plot_graph(final_df.query(f\"Task == '{task}'\"), f'Task = {task}: Tests results when training on stimuli with different physical properties', 'Train & Test', 'Validation Accuracy',\n",
    "#         None, color='Congruency', is_line_plot=False)"
   ],
   "metadata": {
    "collapsed": false,
    "pycharm": {
     "name": "#%%\n"
    }
   }
  },
  {
   "cell_type": "markdown",
   "source": [
    "Create ANOVA CSV"
   ],
   "metadata": {
    "collapsed": false,
    "pycharm": {
     "name": "#%% md\n"
    }
   }
  },
  {
   "cell_type": "code",
   "execution_count": 24,
   "outputs": [],
   "source": [
    "def prepare_ratios_df(curr_df):\n",
    "    ratios_df = pd.DataFrame()\n",
    "    for ratio in RATIOS:\n",
    "        ratio_cong_df = pd.DataFrame()\n",
    "        ratio_cong_df['UNIQUE_SUBJECT_UID'] = curr_df['UNIQUE_SUBJECT_UID']\n",
    "        ratio_cong_df['Task'] = curr_df['Task']\n",
    "        ratio_cong_df['Generations'] = curr_df['Generations']\n",
    "        ratio_cong_df['Train'] = curr_df['Equate'].apply(lambda val: NUM_TO_PHYS_PROPERTY[val])\n",
    "        ratio_cong_df['Test'] = curr_df['Tested_On_Equate'].apply(lambda val: PHYS_PROPERTY[val])\n",
    "        ratio_cong_df['Congruity'] = 'Congruent'\n",
    "        ratio_cong_df['Ratio'] = ratio\n",
    "        ratio_cong_df['Training Accuracy'] = curr_df[f'Ratio {ratio} Congruent Training Accuracy']\n",
    "        ratio_cong_df['Validation Accuracy'] = curr_df[f'Ratio {ratio} Congruent Validation Accuracy']\n",
    "        ratio_cong_df['Training Loss'] = curr_df[f'Ratio {ratio} Congruent Validation Loss']\n",
    "        ratio_cong_df['Validation Loss'] = curr_df[f'Ratio {ratio} Congruent Validation Loss']\n",
    "        ratio_cong_df['Layers'] = curr_df['Layers']\n",
    "        ratio_cong_df['Neurons'] = curr_df['Nuerons']\n",
    "        ratio_cong_df['Activation'] = curr_df['Activation']\n",
    "        ratio_cong_df['Optimizer'] = curr_df['Optimizer']\n",
    "\n",
    "        ratio_incong_df = pd.DataFrame()\n",
    "        ratio_incong_df['UNIQUE_SUBJECT_UID'] = curr_df['UNIQUE_SUBJECT_UID']\n",
    "        ratio_incong_df['Task'] = curr_df['Task']\n",
    "        ratio_incong_df['Generations'] = curr_df['Generations']\n",
    "        ratio_incong_df['Train'] = curr_df['Equate'].apply(lambda val: NUM_TO_PHYS_PROPERTY[val])\n",
    "        ratio_incong_df['Test'] = curr_df['Tested_On_Equate'].apply(lambda val: PHYS_PROPERTY[val])\n",
    "        ratio_incong_df['Congruity'] = 'Incongruent'\n",
    "        ratio_incong_df['Ratio'] = ratio\n",
    "        ratio_incong_df['Training Accuracy'] = curr_df[f'Ratio {ratio} Incongruent Training Accuracy']\n",
    "        ratio_incong_df['Validation Accuracy'] = curr_df[f'Ratio {ratio} Incongruent Validation Accuracy']\n",
    "        ratio_incong_df['Training Loss'] = curr_df[f'Ratio {ratio} Incongruent Validation Loss']\n",
    "        ratio_incong_df['Validation Loss'] = curr_df[f'Ratio {ratio} Incongruent Validation Loss']\n",
    "        ratio_incong_df['Layers'] = curr_df['Layers']\n",
    "        ratio_incong_df['Neurons'] = curr_df['Nuerons']\n",
    "        ratio_incong_df['Activation'] = curr_df['Activation']\n",
    "        ratio_incong_df['Optimizer'] = curr_df['Optimizer']\n",
    "\n",
    "        ratio_df = pd.concat([ratio_cong_df, ratio_incong_df])\n",
    "        ratios_df = pd.concat([ratios_df, ratio_df])\n",
    "    return ratios_df.reset_index(drop=True)"
   ],
   "metadata": {
    "collapsed": false,
    "pycharm": {
     "name": "#%%\n"
    }
   }
  },
  {
   "cell_type": "code",
   "execution_count": 25,
   "outputs": [
    {
     "name": "stderr",
     "output_type": "stream",
     "text": [
      "100%|██████████| 3/3 [00:03<00:00,  1.23s/it]\n"
     ]
    }
   ],
   "source": [
    "result_dict.keys()\n",
    "anova_df = pd.DataFrame()\n",
    "mixed_anova_df = pd.DataFrame()\n",
    "for phys_prop in tqdm(result_dict.keys()):\n",
    "    #print(f\"Working on {phys_prop}\")\n",
    "    exp_result = result_dict[phys_prop]\n",
    "    for task in exp_result.keys():\n",
    "        #print(f\"Task: {task}\")\n",
    "        train_df = exp_result[task]['train']\n",
    "        last_gen = train_df['Generations'].max()\n",
    "        train_df = train_df.query(f\"Generations == {last_gen}\")\n",
    "        train_df['Tested_On_Equate'] = phys_prop\n",
    "        train_df['UNIQUE_SUBJECT_UID'] = train_df['Subject_UID'].apply(lambda x: task + \"_\" + phys_prop + \"_\" + str(x))\n",
    "        train_ratios_df = prepare_ratios_df(train_df)\n",
    "\n",
    "        test1_df = exp_result[task]['test_1']\n",
    "        test1_df['UNIQUE_SUBJECT_UID'] = test1_df['Subject_UID'].apply(lambda x: task + \"_\" + phys_prop + \"_\" + str(x))\n",
    "        test_1_ratios_df = prepare_ratios_df(test1_df)\n",
    "\n",
    "        test2_df = exp_result[task]['test_2']\n",
    "        test2_df['UNIQUE_SUBJECT_UID'] = test2_df['Subject_UID'].apply(lambda x: task + \"_\" + phys_prop + \"_\" + str(x))\n",
    "        test_2_ratios_df = prepare_ratios_df(test2_df)\n",
    "\n",
    "        mixed_anova_df = pd.concat([mixed_anova_df, train_ratios_df])\n",
    "        mixed_anova_df = pd.concat([mixed_anova_df, test_1_ratios_df])\n",
    "        mixed_anova_df = pd.concat([mixed_anova_df, test_2_ratios_df])\n",
    "mixed_anova_df.to_csv('mixed_anova_df.csv')"
   ],
   "metadata": {
    "collapsed": false,
    "pycharm": {
     "name": "#%%\n"
    }
   }
  },
  {
   "cell_type": "code",
   "execution_count": 26,
   "outputs": [
    {
     "data": {
      "text/plain": "12960"
     },
     "execution_count": 26,
     "metadata": {},
     "output_type": "execute_result"
    }
   ],
   "source": [
    "len(mixed_anova_df)"
   ],
   "metadata": {
    "collapsed": false,
    "pycharm": {
     "name": "#%%\n"
    }
   }
  },
  {
   "cell_type": "markdown",
   "source": [
    "Filter nulls"
   ],
   "metadata": {
    "collapsed": false,
    "pycharm": {
     "name": "#%% md\n"
    }
   }
  },
  {
   "cell_type": "code",
   "execution_count": 27,
   "outputs": [
    {
     "data": {
      "text/plain": "12852"
     },
     "execution_count": 27,
     "metadata": {},
     "output_type": "execute_result"
    }
   ],
   "source": [
    "non_na_mixed_anova = mixed_anova_df.dropna()\n",
    "len(non_na_mixed_anova)"
   ],
   "metadata": {
    "collapsed": false,
    "pycharm": {
     "name": "#%%\n"
    }
   }
  },
  {
   "cell_type": "code",
   "execution_count": null,
   "outputs": [],
   "source": [
    "non_na_mixed_anova.describe()"
   ],
   "metadata": {
    "collapsed": false,
    "pycharm": {
     "name": "#%%\n",
     "is_executing": true
    }
   }
  },
  {
   "cell_type": "code",
   "execution_count": 139,
   "outputs": [
    {
     "data": {
      "text/plain": "Index(['UNIQUE_SUBJECT_UID', 'Task', 'Train', 'Test', 'Congruency', 'Ratio',\n       'Training Accuracy', 'Validation Accuracy', 'Training Loss',\n       'Validation Loss', 'Layers', 'Nuerons', 'Activation', 'Optimizer'],\n      dtype='object')"
     },
     "execution_count": 139,
     "metadata": {},
     "output_type": "execute_result"
    }
   ],
   "source": [
    "non_na_mixed_anova.columns"
   ],
   "metadata": {
    "collapsed": false,
    "pycharm": {
     "name": "#%%\n"
    }
   }
  },
  {
   "cell_type": "markdown",
   "source": [
    "Filter extreme values"
   ],
   "metadata": {
    "collapsed": false,
    "pycharm": {
     "name": "#%% md\n"
    }
   }
  },
  {
   "cell_type": "code",
   "execution_count": 30,
   "outputs": [
    {
     "data": {
      "text/plain": "  UNIQUE_SUBJECT_UID  Task          Train           Test  Generations  \\\n0  size_equate_1_161  size  AD-controlled  AD-controlled            9   \n1  size_equate_1_162  size  AD-controlled  AD-controlled            9   \n2  size_equate_1_163  size  AD-controlled  AD-controlled            9   \n3  size_equate_1_164  size  AD-controlled  AD-controlled            9   \n4  size_equate_1_165  size  AD-controlled  AD-controlled            9   \n\n   Congruity Ratio  Validation Accuracy  \n0  Congruent    50                  1.0  \n1  Congruent    50                  1.0  \n2  Congruent    50                  1.0  \n3  Congruent    50                  1.0  \n4  Congruent    50                  1.0  ",
      "text/html": "<div>\n<style scoped>\n    .dataframe tbody tr th:only-of-type {\n        vertical-align: middle;\n    }\n\n    .dataframe tbody tr th {\n        vertical-align: top;\n    }\n\n    .dataframe thead th {\n        text-align: right;\n    }\n</style>\n<table border=\"1\" class=\"dataframe\">\n  <thead>\n    <tr style=\"text-align: right;\">\n      <th></th>\n      <th>UNIQUE_SUBJECT_UID</th>\n      <th>Task</th>\n      <th>Train</th>\n      <th>Test</th>\n      <th>Generations</th>\n      <th>Congruity</th>\n      <th>Ratio</th>\n      <th>Validation Accuracy</th>\n    </tr>\n  </thead>\n  <tbody>\n    <tr>\n      <th>0</th>\n      <td>size_equate_1_161</td>\n      <td>size</td>\n      <td>AD-controlled</td>\n      <td>AD-controlled</td>\n      <td>9</td>\n      <td>Congruent</td>\n      <td>50</td>\n      <td>1.0</td>\n    </tr>\n    <tr>\n      <th>1</th>\n      <td>size_equate_1_162</td>\n      <td>size</td>\n      <td>AD-controlled</td>\n      <td>AD-controlled</td>\n      <td>9</td>\n      <td>Congruent</td>\n      <td>50</td>\n      <td>1.0</td>\n    </tr>\n    <tr>\n      <th>2</th>\n      <td>size_equate_1_163</td>\n      <td>size</td>\n      <td>AD-controlled</td>\n      <td>AD-controlled</td>\n      <td>9</td>\n      <td>Congruent</td>\n      <td>50</td>\n      <td>1.0</td>\n    </tr>\n    <tr>\n      <th>3</th>\n      <td>size_equate_1_164</td>\n      <td>size</td>\n      <td>AD-controlled</td>\n      <td>AD-controlled</td>\n      <td>9</td>\n      <td>Congruent</td>\n      <td>50</td>\n      <td>1.0</td>\n    </tr>\n    <tr>\n      <th>4</th>\n      <td>size_equate_1_165</td>\n      <td>size</td>\n      <td>AD-controlled</td>\n      <td>AD-controlled</td>\n      <td>9</td>\n      <td>Congruent</td>\n      <td>50</td>\n      <td>1.0</td>\n    </tr>\n  </tbody>\n</table>\n</div>"
     },
     "execution_count": 30,
     "metadata": {},
     "output_type": "execute_result"
    }
   ],
   "source": [
    "anova_df_for_R = non_na_mixed_anova[['UNIQUE_SUBJECT_UID', 'Task','Train','Test','Generations','Congruity','Ratio','Validation Accuracy']]\n",
    "anova_df_for_R.head()"
   ],
   "metadata": {
    "collapsed": false,
    "pycharm": {
     "name": "#%%\n"
    }
   }
  },
  {
   "cell_type": "code",
   "execution_count": 31,
   "outputs": [],
   "source": [
    "anova_df_for_R.to_csv(\"anova_df_for_R_30_12_22.csv\")"
   ],
   "metadata": {
    "collapsed": false,
    "pycharm": {
     "name": "#%%\n"
    }
   }
  },
  {
   "cell_type": "markdown",
   "source": [
    "Total Generations data"
   ],
   "metadata": {
    "collapsed": false,
    "pycharm": {
     "name": "#%% md\n"
    }
   }
  },
  {
   "cell_type": "code",
   "execution_count": 53,
   "outputs": [],
   "source": [
    "anova_df_for_R_total_generations = anova_df_for_R[['UNIQUE_SUBJECT_UID', 'Task','Train', 'Generations']].groupby(['UNIQUE_SUBJECT_UID', 'Task','Train']).mean()"
   ],
   "metadata": {
    "collapsed": false,
    "pycharm": {
     "name": "#%%\n"
    }
   }
  },
  {
   "cell_type": "code",
   "execution_count": 54,
   "outputs": [],
   "source": [
    "anova_df_for_R_total_generations.to_csv(\"anova_df_for_R_31_12_22_generations.csv\")"
   ],
   "metadata": {
    "collapsed": false,
    "pycharm": {
     "name": "#%%\n"
    }
   }
  },
  {
   "cell_type": "markdown",
   "source": [
    "Separating to physical and numerical"
   ],
   "metadata": {
    "collapsed": false,
    "pycharm": {
     "name": "#%% md\n"
    }
   }
  },
  {
   "cell_type": "code",
   "execution_count": 33,
   "outputs": [],
   "source": [
    "anova_df_for_R_physical_runs = anova_df_for_R.query(f\"Task == 'size' or Task == 'count-size' or Task == 'colors'\")"
   ],
   "metadata": {
    "collapsed": false,
    "pycharm": {
     "name": "#%%\n"
    }
   }
  },
  {
   "cell_type": "code",
   "execution_count": 35,
   "outputs": [],
   "source": [
    "anova_df_for_R_numerical_runs = anova_df_for_R.query(f\"Task == 'count' or Task == 'size-count' or Task == 'colors-count'\")"
   ],
   "metadata": {
    "collapsed": false,
    "pycharm": {
     "name": "#%%\n"
    }
   }
  },
  {
   "cell_type": "code",
   "execution_count": 36,
   "outputs": [],
   "source": [
    "anova_df_for_R_physical_runs.to_csv(\"anova_df_for_R_30_12_22_physical_accuracy.csv\")"
   ],
   "metadata": {
    "collapsed": false,
    "pycharm": {
     "name": "#%%\n"
    }
   }
  },
  {
   "cell_type": "code",
   "execution_count": 37,
   "outputs": [],
   "source": [
    "anova_df_for_R_numerical_runs.to_csv(\"anova_df_for_R_30_12_22_numerical_accuracy.csv\")"
   ],
   "metadata": {
    "collapsed": false,
    "pycharm": {
     "name": "#%%\n"
    }
   }
  },
  {
   "cell_type": "code",
   "execution_count": 41,
   "outputs": [],
   "source": [
    "anova_df_for_R_numerical_runs_generations = anova_df_for_R_numerical_runs[['UNIQUE_SUBJECT_UID', 'Task','Train', 'Generations']].groupby(['UNIQUE_SUBJECT_UID', 'Task','Train']).mean()"
   ],
   "metadata": {
    "collapsed": false,
    "pycharm": {
     "name": "#%%\n"
    }
   }
  },
  {
   "cell_type": "code",
   "execution_count": 43,
   "outputs": [
    {
     "data": {
      "text/plain": "array([ 6., 19.,  3.,  9., 10., 30.])"
     },
     "execution_count": 43,
     "metadata": {},
     "output_type": "execute_result"
    }
   ],
   "source": [
    "anova_df_for_R_numerical_runs_generations['Generations'].unique()"
   ],
   "metadata": {
    "collapsed": false,
    "pycharm": {
     "name": "#%%\n"
    }
   }
  },
  {
   "cell_type": "code",
   "execution_count": 44,
   "outputs": [],
   "source": [
    "anova_df_for_R_numerical_runs_generations.to_csv(\"anova_df_for_R_30_12_22_numerical_generations.csv\")"
   ],
   "metadata": {
    "collapsed": false,
    "pycharm": {
     "name": "#%%\n"
    }
   }
  },
  {
   "cell_type": "code",
   "execution_count": 45,
   "outputs": [],
   "source": [
    "anova_df_for_R_physical_runs_generations = anova_df_for_R_physical_runs[['UNIQUE_SUBJECT_UID', 'Task','Train', 'Generations']].groupby(['UNIQUE_SUBJECT_UID', 'Task','Train']).mean()"
   ],
   "metadata": {
    "collapsed": false,
    "pycharm": {
     "name": "#%%\n"
    }
   }
  },
  {
   "cell_type": "code",
   "execution_count": 46,
   "outputs": [],
   "source": [
    "anova_df_for_R_physical_runs_generations.to_csv(\"anova_df_for_R_30_12_22_physical_generations.csv\")"
   ],
   "metadata": {
    "collapsed": false,
    "pycharm": {
     "name": "#%%\n"
    }
   }
  },
  {
   "cell_type": "markdown",
   "source": [
    "************* Until here for the R anova analysis! **************"
   ],
   "metadata": {
    "collapsed": false,
    "pycharm": {
     "name": "#%% md\n"
    }
   }
  },
  {
   "cell_type": "code",
   "execution_count": 55,
   "outputs": [],
   "source": [
    "overall_means_physical = anova_df_for_R_physical_runs[['Task','Congruity', 'Validation Accuracy']].groupby(['Task','Congruity']).mean()"
   ],
   "metadata": {
    "collapsed": false,
    "pycharm": {
     "name": "#%%\n"
    }
   }
  },
  {
   "cell_type": "code",
   "execution_count": 56,
   "outputs": [
    {
     "data": {
      "text/plain": "                        Validation Accuracy\nTask       Congruity                       \ncolors     Congruent               0.967098\n           Incongruent             0.967385\ncount-size Congruent               0.923611\n           Incongruent             0.849537\nsize       Congruent               0.888056\n           Incongruent             0.835370",
      "text/html": "<div>\n<style scoped>\n    .dataframe tbody tr th:only-of-type {\n        vertical-align: middle;\n    }\n\n    .dataframe tbody tr th {\n        vertical-align: top;\n    }\n\n    .dataframe thead th {\n        text-align: right;\n    }\n</style>\n<table border=\"1\" class=\"dataframe\">\n  <thead>\n    <tr style=\"text-align: right;\">\n      <th></th>\n      <th></th>\n      <th>Validation Accuracy</th>\n    </tr>\n    <tr>\n      <th>Task</th>\n      <th>Congruity</th>\n      <th></th>\n    </tr>\n  </thead>\n  <tbody>\n    <tr>\n      <th rowspan=\"2\" valign=\"top\">colors</th>\n      <th>Congruent</th>\n      <td>0.967098</td>\n    </tr>\n    <tr>\n      <th>Incongruent</th>\n      <td>0.967385</td>\n    </tr>\n    <tr>\n      <th rowspan=\"2\" valign=\"top\">count-size</th>\n      <th>Congruent</th>\n      <td>0.923611</td>\n    </tr>\n    <tr>\n      <th>Incongruent</th>\n      <td>0.849537</td>\n    </tr>\n    <tr>\n      <th rowspan=\"2\" valign=\"top\">size</th>\n      <th>Congruent</th>\n      <td>0.888056</td>\n    </tr>\n    <tr>\n      <th>Incongruent</th>\n      <td>0.835370</td>\n    </tr>\n  </tbody>\n</table>\n</div>"
     },
     "execution_count": 56,
     "metadata": {},
     "output_type": "execute_result"
    }
   ],
   "source": [
    "overall_means_physical.head(10)"
   ],
   "metadata": {
    "collapsed": false,
    "pycharm": {
     "name": "#%%\n"
    }
   }
  },
  {
   "cell_type": "code",
   "execution_count": 47,
   "outputs": [],
   "source": [
    "generations_df = pd.read_csv(\"/Users/gali.k/phd/phd_2021/data_analysis/analysis/generations_exp_1.csv\")"
   ],
   "metadata": {
    "collapsed": false,
    "pycharm": {
     "name": "#%%\n"
    }
   }
  },
  {
   "cell_type": "code",
   "execution_count": 49,
   "outputs": [],
   "source": [
    "generations_df.drop(columns=\"Unnamed: 0\", inplace=True)"
   ],
   "metadata": {
    "collapsed": false,
    "pycharm": {
     "name": "#%%\n"
    }
   }
  },
  {
   "cell_type": "code",
   "execution_count": 52,
   "outputs": [
    {
     "data": {
      "text/plain": "           Task          Train  Generations\n0  colors-count  AD-controlled            6\n1  colors-count  CH-controlled            3\n2  colors-count  TS-controlled           19\n3         count  AD-controlled            9\n4         count  CH-controlled            3\n5         count  TS-controlled           10\n6    size-count  AD-controlled            6\n7    size-count  CH-controlled            6\n8    size-count  TS-controlled           30",
      "text/html": "<div>\n<style scoped>\n    .dataframe tbody tr th:only-of-type {\n        vertical-align: middle;\n    }\n\n    .dataframe tbody tr th {\n        vertical-align: top;\n    }\n\n    .dataframe thead th {\n        text-align: right;\n    }\n</style>\n<table border=\"1\" class=\"dataframe\">\n  <thead>\n    <tr style=\"text-align: right;\">\n      <th></th>\n      <th>Task</th>\n      <th>Train</th>\n      <th>Generations</th>\n    </tr>\n  </thead>\n  <tbody>\n    <tr>\n      <th>0</th>\n      <td>colors-count</td>\n      <td>AD-controlled</td>\n      <td>6</td>\n    </tr>\n    <tr>\n      <th>1</th>\n      <td>colors-count</td>\n      <td>CH-controlled</td>\n      <td>3</td>\n    </tr>\n    <tr>\n      <th>2</th>\n      <td>colors-count</td>\n      <td>TS-controlled</td>\n      <td>19</td>\n    </tr>\n    <tr>\n      <th>3</th>\n      <td>count</td>\n      <td>AD-controlled</td>\n      <td>9</td>\n    </tr>\n    <tr>\n      <th>4</th>\n      <td>count</td>\n      <td>CH-controlled</td>\n      <td>3</td>\n    </tr>\n    <tr>\n      <th>5</th>\n      <td>count</td>\n      <td>TS-controlled</td>\n      <td>10</td>\n    </tr>\n    <tr>\n      <th>6</th>\n      <td>size-count</td>\n      <td>AD-controlled</td>\n      <td>6</td>\n    </tr>\n    <tr>\n      <th>7</th>\n      <td>size-count</td>\n      <td>CH-controlled</td>\n      <td>6</td>\n    </tr>\n    <tr>\n      <th>8</th>\n      <td>size-count</td>\n      <td>TS-controlled</td>\n      <td>30</td>\n    </tr>\n  </tbody>\n</table>\n</div>"
     },
     "execution_count": 52,
     "metadata": {},
     "output_type": "execute_result"
    }
   ],
   "source": [
    "generations_df.head(10)"
   ],
   "metadata": {
    "collapsed": false,
    "pycharm": {
     "name": "#%%\n"
    }
   }
  },
  {
   "cell_type": "code",
   "execution_count": 51,
   "outputs": [
    {
     "ename": "TypeError",
     "evalue": "'<' not supported between instances of 'str' and 'int'",
     "output_type": "error",
     "traceback": [
      "\u001B[0;31m---------------------------------------------------------------------------\u001B[0m",
      "\u001B[0;31mTypeError\u001B[0m                                 Traceback (most recent call last)",
      "Input \u001B[0;32mIn [51]\u001B[0m, in \u001B[0;36m<cell line: 2>\u001B[0;34m()\u001B[0m\n\u001B[1;32m      1\u001B[0m \u001B[38;5;28;01mfrom\u001B[39;00m \u001B[38;5;21;01mscipy\u001B[39;00m\u001B[38;5;21;01m.\u001B[39;00m\u001B[38;5;21;01mstats\u001B[39;00m \u001B[38;5;28;01mimport\u001B[39;00m chi2_contingency\n\u001B[0;32m----> 2\u001B[0m stat, p, dof, expected \u001B[38;5;241m=\u001B[39m \u001B[43mchi2_contingency\u001B[49m\u001B[43m(\u001B[49m\u001B[43mgenerations_df\u001B[49m\u001B[43m)\u001B[49m\n",
      "File \u001B[0;32m~/phd/phd_2021/venv/lib/python3.8/site-packages/scipy/stats/contingency.py:266\u001B[0m, in \u001B[0;36mchi2_contingency\u001B[0;34m(observed, correction, lambda_)\u001B[0m\n\u001B[1;32m    133\u001B[0m \u001B[38;5;124;03m\"\"\"Chi-square test of independence of variables in a contingency table.\u001B[39;00m\n\u001B[1;32m    134\u001B[0m \n\u001B[1;32m    135\u001B[0m \u001B[38;5;124;03mThis function computes the chi-square statistic and p-value for the\u001B[39;00m\n\u001B[0;32m   (...)\u001B[0m\n\u001B[1;32m    263\u001B[0m \u001B[38;5;124;03m          [ 18.10873492,  18.10873492]]]]))\u001B[39;00m\n\u001B[1;32m    264\u001B[0m \u001B[38;5;124;03m\"\"\"\u001B[39;00m\n\u001B[1;32m    265\u001B[0m observed \u001B[38;5;241m=\u001B[39m np\u001B[38;5;241m.\u001B[39masarray(observed)\n\u001B[0;32m--> 266\u001B[0m \u001B[38;5;28;01mif\u001B[39;00m np\u001B[38;5;241m.\u001B[39many(\u001B[43mobserved\u001B[49m\u001B[43m \u001B[49m\u001B[38;5;241;43m<\u001B[39;49m\u001B[43m \u001B[49m\u001B[38;5;241;43m0\u001B[39;49m):\n\u001B[1;32m    267\u001B[0m     \u001B[38;5;28;01mraise\u001B[39;00m \u001B[38;5;167;01mValueError\u001B[39;00m(\u001B[38;5;124m\"\u001B[39m\u001B[38;5;124mAll values in `observed` must be nonnegative.\u001B[39m\u001B[38;5;124m\"\u001B[39m)\n\u001B[1;32m    268\u001B[0m \u001B[38;5;28;01mif\u001B[39;00m observed\u001B[38;5;241m.\u001B[39msize \u001B[38;5;241m==\u001B[39m \u001B[38;5;241m0\u001B[39m:\n",
      "\u001B[0;31mTypeError\u001B[0m: '<' not supported between instances of 'str' and 'int'"
     ]
    }
   ],
   "source": [
    "from scipy.stats import chi2_contingency\n",
    "stat, p, dof, expected = chi2_contingency(generations_df)"
   ],
   "metadata": {
    "collapsed": false,
    "pycharm": {
     "name": "#%%\n"
    }
   }
  },
  {
   "cell_type": "code",
   "execution_count": null,
   "outputs": [],
   "source": [],
   "metadata": {
    "collapsed": false,
    "pycharm": {
     "name": "#%%\n"
    }
   }
  },
  {
   "cell_type": "code",
   "execution_count": null,
   "outputs": [],
   "source": [
    "non_na_mixed_anova['abs_z_scores'] = np.abs(stats.zscore(non_na_mixed_anova['Validation Accuracy']))\n",
    "non_na_mixed_anova.head(100)"
   ],
   "metadata": {
    "collapsed": false,
    "pycharm": {
     "name": "#%%\n",
     "is_executing": true
    }
   }
  },
  {
   "cell_type": "code",
   "execution_count": 14,
   "outputs": [
    {
     "data": {
      "text/plain": "12804"
     },
     "execution_count": 14,
     "metadata": {},
     "output_type": "execute_result"
    }
   ],
   "source": [
    "mixed_anova_normalized = pd.DataFrame()\n",
    "mixed_anova_normalized = non_na_mixed_anova.query(f'abs_z_scores <= {STD_FILTER}')\n",
    "len(mixed_anova_normalized)"
   ],
   "metadata": {
    "collapsed": false,
    "pycharm": {
     "name": "#%%\n"
    }
   }
  },
  {
   "cell_type": "code",
   "execution_count": 15,
   "outputs": [],
   "source": [
    "non_na_mixed_anova.to_csv(\"non_na_mixed_anova.csv\")"
   ],
   "metadata": {
    "collapsed": false,
    "pycharm": {
     "name": "#%%\n"
    }
   }
  },
  {
   "cell_type": "markdown",
   "source": [
    "5-WAY MIXED ANOVA"
   ],
   "metadata": {
    "collapsed": false,
    "pycharm": {
     "name": "#%% md\n"
    }
   }
  },
  {
   "cell_type": "code",
   "execution_count": 60,
   "outputs": [
    {
     "data": {
      "text/plain": "  UNIQUE_SUBJECT_UID  Task             Train              Test  Congruency  \\\n0  size_equate_1_501  size  Average Diameter  Average Diameter           1   \n1  size_equate_1_502  size  Average Diameter  Average Diameter           1   \n2  size_equate_1_503  size  Average Diameter  Average Diameter           1   \n3  size_equate_1_504  size  Average Diameter  Average Diameter           1   \n4  size_equate_1_505  size  Average Diameter  Average Diameter           1   \n\n   Ratio  Validation Accuracy  \n0     50                  1.0  \n1     50                  1.0  \n2     50                  1.0  \n3     50                  1.0  \n4     50                  1.0  ",
      "text/html": "<div>\n<style scoped>\n    .dataframe tbody tr th:only-of-type {\n        vertical-align: middle;\n    }\n\n    .dataframe tbody tr th {\n        vertical-align: top;\n    }\n\n    .dataframe thead th {\n        text-align: right;\n    }\n</style>\n<table border=\"1\" class=\"dataframe\">\n  <thead>\n    <tr style=\"text-align: right;\">\n      <th></th>\n      <th>UNIQUE_SUBJECT_UID</th>\n      <th>Task</th>\n      <th>Train</th>\n      <th>Test</th>\n      <th>Congruency</th>\n      <th>Ratio</th>\n      <th>Validation Accuracy</th>\n    </tr>\n  </thead>\n  <tbody>\n    <tr>\n      <th>0</th>\n      <td>size_equate_1_501</td>\n      <td>size</td>\n      <td>Average Diameter</td>\n      <td>Average Diameter</td>\n      <td>1</td>\n      <td>50</td>\n      <td>1.0</td>\n    </tr>\n    <tr>\n      <th>1</th>\n      <td>size_equate_1_502</td>\n      <td>size</td>\n      <td>Average Diameter</td>\n      <td>Average Diameter</td>\n      <td>1</td>\n      <td>50</td>\n      <td>1.0</td>\n    </tr>\n    <tr>\n      <th>2</th>\n      <td>size_equate_1_503</td>\n      <td>size</td>\n      <td>Average Diameter</td>\n      <td>Average Diameter</td>\n      <td>1</td>\n      <td>50</td>\n      <td>1.0</td>\n    </tr>\n    <tr>\n      <th>3</th>\n      <td>size_equate_1_504</td>\n      <td>size</td>\n      <td>Average Diameter</td>\n      <td>Average Diameter</td>\n      <td>1</td>\n      <td>50</td>\n      <td>1.0</td>\n    </tr>\n    <tr>\n      <th>4</th>\n      <td>size_equate_1_505</td>\n      <td>size</td>\n      <td>Average Diameter</td>\n      <td>Average Diameter</td>\n      <td>1</td>\n      <td>50</td>\n      <td>1.0</td>\n    </tr>\n  </tbody>\n</table>\n</div>"
     },
     "execution_count": 60,
     "metadata": {},
     "output_type": "execute_result"
    }
   ],
   "source": [
    "anova_df = pd.read_csv(\"anova_df_for_R.csv\")\n",
    "anova_df.drop(columns=['Unnamed: 0'], inplace=True)\n",
    "anova_df.head()"
   ],
   "metadata": {
    "collapsed": false,
    "pycharm": {
     "name": "#%%\n"
    }
   }
  },
  {
   "cell_type": "code",
   "execution_count": 113,
   "outputs": [
    {
     "data": {
      "text/plain": "  UNIQUE_SUBJECT_UID  Task             Train              Test  Congruency  \\\n0  size_equate_1_501  size  Average Diameter  Average Diameter           1   \n1  size_equate_1_502  size  Average Diameter  Average Diameter           1   \n2  size_equate_1_503  size  Average Diameter  Average Diameter           1   \n3  size_equate_1_504  size  Average Diameter  Average Diameter           1   \n4  size_equate_1_505  size  Average Diameter  Average Diameter           1   \n\n  Ratio  Training Accuracy  Validation Accuracy  Training Loss  \\\n0    50                1.0                  1.0         0.1669   \n1    50                1.0                  1.0         0.3000   \n2    50                1.0                  1.0         0.1808   \n3    50                1.0                  1.0         0.1326   \n4    50                1.0                  1.0         0.0523   \n\n   Validation Loss  Layers        Nuerons Activation Optimizer  \\\n0           0.1669       2  [128, 32, 32]     linear      adam   \n1           0.3000       3   [64, 64, 32]       tanh    adamax   \n2           0.1808       4   [32, 16, 64]        elu   rmsprop   \n3           0.1326       2  [16, 16, 128]     linear   adagrad   \n4           0.0523       2  [16, 64, 128]     linear      adam   \n\n              Task_Train              Task_Test  \n0  size_Average Diameter  size_Average Diameter  \n1  size_Average Diameter  size_Average Diameter  \n2  size_Average Diameter  size_Average Diameter  \n3  size_Average Diameter  size_Average Diameter  \n4  size_Average Diameter  size_Average Diameter  ",
      "text/html": "<div>\n<style scoped>\n    .dataframe tbody tr th:only-of-type {\n        vertical-align: middle;\n    }\n\n    .dataframe tbody tr th {\n        vertical-align: top;\n    }\n\n    .dataframe thead th {\n        text-align: right;\n    }\n</style>\n<table border=\"1\" class=\"dataframe\">\n  <thead>\n    <tr style=\"text-align: right;\">\n      <th></th>\n      <th>UNIQUE_SUBJECT_UID</th>\n      <th>Task</th>\n      <th>Train</th>\n      <th>Test</th>\n      <th>Congruency</th>\n      <th>Ratio</th>\n      <th>Training Accuracy</th>\n      <th>Validation Accuracy</th>\n      <th>Training Loss</th>\n      <th>Validation Loss</th>\n      <th>Layers</th>\n      <th>Nuerons</th>\n      <th>Activation</th>\n      <th>Optimizer</th>\n      <th>Task_Train</th>\n      <th>Task_Test</th>\n    </tr>\n  </thead>\n  <tbody>\n    <tr>\n      <th>0</th>\n      <td>size_equate_1_501</td>\n      <td>size</td>\n      <td>Average Diameter</td>\n      <td>Average Diameter</td>\n      <td>1</td>\n      <td>50</td>\n      <td>1.0</td>\n      <td>1.0</td>\n      <td>0.1669</td>\n      <td>0.1669</td>\n      <td>2</td>\n      <td>[128, 32, 32]</td>\n      <td>linear</td>\n      <td>adam</td>\n      <td>size_Average Diameter</td>\n      <td>size_Average Diameter</td>\n    </tr>\n    <tr>\n      <th>1</th>\n      <td>size_equate_1_502</td>\n      <td>size</td>\n      <td>Average Diameter</td>\n      <td>Average Diameter</td>\n      <td>1</td>\n      <td>50</td>\n      <td>1.0</td>\n      <td>1.0</td>\n      <td>0.3000</td>\n      <td>0.3000</td>\n      <td>3</td>\n      <td>[64, 64, 32]</td>\n      <td>tanh</td>\n      <td>adamax</td>\n      <td>size_Average Diameter</td>\n      <td>size_Average Diameter</td>\n    </tr>\n    <tr>\n      <th>2</th>\n      <td>size_equate_1_503</td>\n      <td>size</td>\n      <td>Average Diameter</td>\n      <td>Average Diameter</td>\n      <td>1</td>\n      <td>50</td>\n      <td>1.0</td>\n      <td>1.0</td>\n      <td>0.1808</td>\n      <td>0.1808</td>\n      <td>4</td>\n      <td>[32, 16, 64]</td>\n      <td>elu</td>\n      <td>rmsprop</td>\n      <td>size_Average Diameter</td>\n      <td>size_Average Diameter</td>\n    </tr>\n    <tr>\n      <th>3</th>\n      <td>size_equate_1_504</td>\n      <td>size</td>\n      <td>Average Diameter</td>\n      <td>Average Diameter</td>\n      <td>1</td>\n      <td>50</td>\n      <td>1.0</td>\n      <td>1.0</td>\n      <td>0.1326</td>\n      <td>0.1326</td>\n      <td>2</td>\n      <td>[16, 16, 128]</td>\n      <td>linear</td>\n      <td>adagrad</td>\n      <td>size_Average Diameter</td>\n      <td>size_Average Diameter</td>\n    </tr>\n    <tr>\n      <th>4</th>\n      <td>size_equate_1_505</td>\n      <td>size</td>\n      <td>Average Diameter</td>\n      <td>Average Diameter</td>\n      <td>1</td>\n      <td>50</td>\n      <td>1.0</td>\n      <td>1.0</td>\n      <td>0.0523</td>\n      <td>0.0523</td>\n      <td>2</td>\n      <td>[16, 64, 128]</td>\n      <td>linear</td>\n      <td>adam</td>\n      <td>size_Average Diameter</td>\n      <td>size_Average Diameter</td>\n    </tr>\n  </tbody>\n</table>\n</div>"
     },
     "execution_count": 113,
     "metadata": {},
     "output_type": "execute_result"
    }
   ],
   "source": [
    "anova_df_for_plots = mixed_anova_df.copy()\n",
    "anova_df_for_plots['Task_Train'] = anova_df_for_plots[['Task','Train']].apply(lambda row: row.Task +\"_\"+ row.Train, axis=1)\n",
    "anova_df_for_plots['Task_Test'] = anova_df_for_plots[['Task','Test']].apply(lambda row: row.Task +\"_\"+ row.Test, axis=1)\n",
    "# anova_df_for_plots['Task_Test'] = anova_df_for_plots.apply(lambda row: row['Task'] + \"_\"+ row['Test'])\n",
    "anova_df_for_plots.head()"
   ],
   "metadata": {
    "collapsed": false,
    "pycharm": {
     "name": "#%%\n"
    }
   }
  },
  {
   "cell_type": "code",
   "execution_count": 87,
   "outputs": [
    {
     "data": {
      "text/plain": "DescribeResult(nobs=12960, minmax=(0.0, 1.0), mean=0.7946566358024691, variance=0.10645863662545883, skewness=-1.4300883589665974, kurtosis=0.5946646923582786)"
     },
     "execution_count": 87,
     "metadata": {},
     "output_type": "execute_result"
    }
   ],
   "source": [
    "anova_df_for_plots.describe()\n",
    "import scipy.stats as sp\n",
    "sp.describe(anova_df_for_plots['Validation Accuracy'])"
   ],
   "metadata": {
    "collapsed": false,
    "pycharm": {
     "name": "#%%\n"
    }
   }
  },
  {
   "cell_type": "code",
   "execution_count": 114,
   "outputs": [
    {
     "name": "stderr",
     "output_type": "stream",
     "text": [
      "/var/folders/bw/951w4nh12991sq82d74c_gv9gj4m7h/T/ipykernel_3907/1791719876.py:1: FutureWarning:\n",
      "\n",
      "The default value of numeric_only in DataFrameGroupBy.mean is deprecated. In a future version, numeric_only will default to False. Either specify numeric_only or select only columns which should be valid for the function.\n",
      "\n"
     ]
    },
    {
     "data": {
      "text/plain": "                      Task_Train                        Task_Test  \\\n0  colors-count_Average Diameter    colors-count_Average Diameter   \n1  colors-count_Average Diameter    colors-count_Average Diameter   \n2  colors-count_Average Diameter         colors-count_Convex Hull   \n3  colors-count_Average Diameter         colors-count_Convex Hull   \n4  colors-count_Average Diameter  colors-count_Total Surface Area   \n\n           Task  Congruency  Training Accuracy  Validation Accuracy  \\\n0  colors-count           0           0.833333             0.833333   \n1  colors-count           1           0.825000             0.825000   \n2  colors-count           0           0.808333             0.808333   \n3  colors-count           1           0.800000             0.800000   \n4  colors-count           0           0.383333             0.383333   \n\n   Training Loss  Validation Loss  Layers  \n0       0.647341         0.647341    3.15  \n1       0.639725         0.639725    3.15  \n2       0.715973         0.715973    3.15  \n3       0.728782         0.728782    3.15  \n4       1.898769         1.898769    3.15  ",
      "text/html": "<div>\n<style scoped>\n    .dataframe tbody tr th:only-of-type {\n        vertical-align: middle;\n    }\n\n    .dataframe tbody tr th {\n        vertical-align: top;\n    }\n\n    .dataframe thead th {\n        text-align: right;\n    }\n</style>\n<table border=\"1\" class=\"dataframe\">\n  <thead>\n    <tr style=\"text-align: right;\">\n      <th></th>\n      <th>Task_Train</th>\n      <th>Task_Test</th>\n      <th>Task</th>\n      <th>Congruency</th>\n      <th>Training Accuracy</th>\n      <th>Validation Accuracy</th>\n      <th>Training Loss</th>\n      <th>Validation Loss</th>\n      <th>Layers</th>\n    </tr>\n  </thead>\n  <tbody>\n    <tr>\n      <th>0</th>\n      <td>colors-count_Average Diameter</td>\n      <td>colors-count_Average Diameter</td>\n      <td>colors-count</td>\n      <td>0</td>\n      <td>0.833333</td>\n      <td>0.833333</td>\n      <td>0.647341</td>\n      <td>0.647341</td>\n      <td>3.15</td>\n    </tr>\n    <tr>\n      <th>1</th>\n      <td>colors-count_Average Diameter</td>\n      <td>colors-count_Average Diameter</td>\n      <td>colors-count</td>\n      <td>1</td>\n      <td>0.825000</td>\n      <td>0.825000</td>\n      <td>0.639725</td>\n      <td>0.639725</td>\n      <td>3.15</td>\n    </tr>\n    <tr>\n      <th>2</th>\n      <td>colors-count_Average Diameter</td>\n      <td>colors-count_Convex Hull</td>\n      <td>colors-count</td>\n      <td>0</td>\n      <td>0.808333</td>\n      <td>0.808333</td>\n      <td>0.715973</td>\n      <td>0.715973</td>\n      <td>3.15</td>\n    </tr>\n    <tr>\n      <th>3</th>\n      <td>colors-count_Average Diameter</td>\n      <td>colors-count_Convex Hull</td>\n      <td>colors-count</td>\n      <td>1</td>\n      <td>0.800000</td>\n      <td>0.800000</td>\n      <td>0.728782</td>\n      <td>0.728782</td>\n      <td>3.15</td>\n    </tr>\n    <tr>\n      <th>4</th>\n      <td>colors-count_Average Diameter</td>\n      <td>colors-count_Total Surface Area</td>\n      <td>colors-count</td>\n      <td>0</td>\n      <td>0.383333</td>\n      <td>0.383333</td>\n      <td>1.898769</td>\n      <td>1.898769</td>\n      <td>3.15</td>\n    </tr>\n  </tbody>\n</table>\n</div>"
     },
     "execution_count": 114,
     "metadata": {},
     "output_type": "execute_result"
    }
   ],
   "source": [
    "anova_df_for_plots_grouped = anova_df_for_plots.query(f\"Task == 'count' or Task =='size-count' or Task == 'colors-count'\").groupby(['Task_Train', 'Task_Test', 'Task', 'Congruency']).mean()\n",
    "anova_df_for_plots_grouped.reset_index(inplace=True)\n",
    "anova_df_for_plots_grouped.head()"
   ],
   "metadata": {
    "collapsed": false,
    "pycharm": {
     "name": "#%%\n"
    }
   }
  },
  {
   "cell_type": "code",
   "execution_count": 115,
   "outputs": [
    {
     "data": {
      "text/plain": "Index(['Task_Train', 'Task_Test', 'Task', 'Congruency', 'Training Accuracy',\n       'Validation Accuracy', 'Training Loss', 'Validation Loss', 'Layers'],\n      dtype='object')"
     },
     "execution_count": 115,
     "metadata": {},
     "output_type": "execute_result"
    }
   ],
   "source": [
    "anova_df_for_plots_grouped.columns"
   ],
   "metadata": {
    "collapsed": false,
    "pycharm": {
     "name": "#%%\n"
    }
   }
  },
  {
   "cell_type": "code",
   "execution_count": 128,
   "outputs": [
    {
     "data": {
      "text/plain": "                      Task_Train                        Task_Test  \\\n0  colors-count_Average Diameter    colors-count_Average Diameter   \n1  colors-count_Average Diameter    colors-count_Average Diameter   \n2  colors-count_Average Diameter         colors-count_Convex Hull   \n3  colors-count_Average Diameter         colors-count_Convex Hull   \n4  colors-count_Average Diameter  colors-count_Total Surface Area   \n\n           Task  Congruency  Training Accuracy  Validation Accuracy  \\\n0  colors-count           0           0.833333             0.833333   \n1  colors-count           1           0.825000             0.825000   \n2  colors-count           0           0.808333             0.808333   \n3  colors-count           1           0.800000             0.800000   \n4  colors-count           0           0.383333             0.383333   \n\n   Training Loss  Validation Loss  Layers  \n0       0.647341         0.647341    3.15  \n1       0.639725         0.639725    3.15  \n2       0.715973         0.715973    3.15  \n3       0.728782         0.728782    3.15  \n4       1.898769         1.898769    3.15  ",
      "text/html": "<div>\n<style scoped>\n    .dataframe tbody tr th:only-of-type {\n        vertical-align: middle;\n    }\n\n    .dataframe tbody tr th {\n        vertical-align: top;\n    }\n\n    .dataframe thead th {\n        text-align: right;\n    }\n</style>\n<table border=\"1\" class=\"dataframe\">\n  <thead>\n    <tr style=\"text-align: right;\">\n      <th></th>\n      <th>Task_Train</th>\n      <th>Task_Test</th>\n      <th>Task</th>\n      <th>Congruency</th>\n      <th>Training Accuracy</th>\n      <th>Validation Accuracy</th>\n      <th>Training Loss</th>\n      <th>Validation Loss</th>\n      <th>Layers</th>\n    </tr>\n  </thead>\n  <tbody>\n    <tr>\n      <th>0</th>\n      <td>colors-count_Average Diameter</td>\n      <td>colors-count_Average Diameter</td>\n      <td>colors-count</td>\n      <td>0</td>\n      <td>0.833333</td>\n      <td>0.833333</td>\n      <td>0.647341</td>\n      <td>0.647341</td>\n      <td>3.15</td>\n    </tr>\n    <tr>\n      <th>1</th>\n      <td>colors-count_Average Diameter</td>\n      <td>colors-count_Average Diameter</td>\n      <td>colors-count</td>\n      <td>1</td>\n      <td>0.825000</td>\n      <td>0.825000</td>\n      <td>0.639725</td>\n      <td>0.639725</td>\n      <td>3.15</td>\n    </tr>\n    <tr>\n      <th>2</th>\n      <td>colors-count_Average Diameter</td>\n      <td>colors-count_Convex Hull</td>\n      <td>colors-count</td>\n      <td>0</td>\n      <td>0.808333</td>\n      <td>0.808333</td>\n      <td>0.715973</td>\n      <td>0.715973</td>\n      <td>3.15</td>\n    </tr>\n    <tr>\n      <th>3</th>\n      <td>colors-count_Average Diameter</td>\n      <td>colors-count_Convex Hull</td>\n      <td>colors-count</td>\n      <td>1</td>\n      <td>0.800000</td>\n      <td>0.800000</td>\n      <td>0.728782</td>\n      <td>0.728782</td>\n      <td>3.15</td>\n    </tr>\n    <tr>\n      <th>4</th>\n      <td>colors-count_Average Diameter</td>\n      <td>colors-count_Total Surface Area</td>\n      <td>colors-count</td>\n      <td>0</td>\n      <td>0.383333</td>\n      <td>0.383333</td>\n      <td>1.898769</td>\n      <td>1.898769</td>\n      <td>3.15</td>\n    </tr>\n  </tbody>\n</table>\n</div>"
     },
     "execution_count": 128,
     "metadata": {},
     "output_type": "execute_result"
    }
   ],
   "source": [
    "anova_df_for_plots_grouped.head()"
   ],
   "metadata": {
    "collapsed": false,
    "pycharm": {
     "name": "#%%\n"
    }
   }
  },
  {
   "cell_type": "code",
   "execution_count": 116,
   "outputs": [
    {
     "data": {
      "application/vnd.plotly.v1+json": {
       "data": [
        {
         "alignmentgroup": "True",
         "hovertemplate": "Task_Train=colors-count_Average Diameter<br>Task_Test=%{x}<br>Validation Accuracy=%{y}<extra></extra>",
         "legendgroup": "colors-count_Average Diameter",
         "marker": {
          "color": "#636efa",
          "pattern": {
           "shape": ""
          }
         },
         "name": "colors-count_Average Diameter",
         "offsetgroup": "colors-count_Average Diameter",
         "orientation": "v",
         "showlegend": true,
         "textposition": "auto",
         "x": [
          "colors-count_Average Diameter",
          "colors-count_Convex Hull",
          "colors-count_Total Surface Area"
         ],
         "xaxis": "x",
         "y": [
          0.8333333333333334,
          0.8083333333333333,
          0.38333333333333336
         ],
         "yaxis": "y",
         "type": "bar"
        },
        {
         "alignmentgroup": "True",
         "hovertemplate": "Task_Train=colors-count_Convex Hull<br>Task_Test=%{x}<br>Validation Accuracy=%{y}<extra></extra>",
         "legendgroup": "colors-count_Convex Hull",
         "marker": {
          "color": "#EF553B",
          "pattern": {
           "shape": ""
          }
         },
         "name": "colors-count_Convex Hull",
         "offsetgroup": "colors-count_Convex Hull",
         "orientation": "v",
         "showlegend": true,
         "textposition": "auto",
         "x": [
          "colors-count_Average Diameter",
          "colors-count_Convex Hull",
          "colors-count_Total Surface Area"
         ],
         "xaxis": "x",
         "y": [
          0.8333333333333334,
          0.8333333333333334,
          0.38333333333333336
         ],
         "yaxis": "y",
         "type": "bar"
        },
        {
         "alignmentgroup": "True",
         "hovertemplate": "Task_Train=colors-count_Total Surface Area<br>Task_Test=%{x}<br>Validation Accuracy=%{y}<extra></extra>",
         "legendgroup": "colors-count_Total Surface Area",
         "marker": {
          "color": "#00cc96",
          "pattern": {
           "shape": ""
          }
         },
         "name": "colors-count_Total Surface Area",
         "offsetgroup": "colors-count_Total Surface Area",
         "orientation": "v",
         "showlegend": true,
         "textposition": "auto",
         "x": [
          "colors-count_Average Diameter",
          "colors-count_Convex Hull",
          "colors-count_Total Surface Area"
         ],
         "xaxis": "x",
         "y": [
          0.16708333333333333,
          0.18958333333333333,
          0.83375
         ],
         "yaxis": "y",
         "type": "bar"
        },
        {
         "alignmentgroup": "True",
         "hovertemplate": "Task_Train=count_Average Diameter<br>Task_Test=%{x}<br>Validation Accuracy=%{y}<extra></extra>",
         "legendgroup": "count_Average Diameter",
         "marker": {
          "color": "#ab63fa",
          "pattern": {
           "shape": ""
          }
         },
         "name": "count_Average Diameter",
         "offsetgroup": "count_Average Diameter",
         "orientation": "v",
         "showlegend": true,
         "textposition": "auto",
         "x": [
          "count_Average Diameter",
          "count_Convex Hull",
          "count_Total Surface Area"
         ],
         "xaxis": "x",
         "y": [
          0.7899999999999999,
          0.8033333333333333,
          0.43666666666666665
         ],
         "yaxis": "y",
         "type": "bar"
        },
        {
         "alignmentgroup": "True",
         "hovertemplate": "Task_Train=count_Convex Hull<br>Task_Test=%{x}<br>Validation Accuracy=%{y}<extra></extra>",
         "legendgroup": "count_Convex Hull",
         "marker": {
          "color": "#FFA15A",
          "pattern": {
           "shape": ""
          }
         },
         "name": "count_Convex Hull",
         "offsetgroup": "count_Convex Hull",
         "orientation": "v",
         "showlegend": true,
         "textposition": "auto",
         "x": [
          "count_Average Diameter",
          "count_Convex Hull",
          "count_Total Surface Area"
         ],
         "xaxis": "x",
         "y": [
          0.7908333333333334,
          0.8350000000000001,
          0.43291666666666667
         ],
         "yaxis": "y",
         "type": "bar"
        },
        {
         "alignmentgroup": "True",
         "hovertemplate": "Task_Train=count_Total Surface Area<br>Task_Test=%{x}<br>Validation Accuracy=%{y}<extra></extra>",
         "legendgroup": "count_Total Surface Area",
         "marker": {
          "color": "#19d3f3",
          "pattern": {
           "shape": ""
          }
         },
         "name": "count_Total Surface Area",
         "offsetgroup": "count_Total Surface Area",
         "orientation": "v",
         "showlegend": true,
         "textposition": "auto",
         "x": [
          "count_Average Diameter",
          "count_Convex Hull",
          "count_Total Surface Area"
         ],
         "xaxis": "x",
         "y": [
          0.76875,
          0.8137500000000001,
          0.8120833333333334
         ],
         "yaxis": "y",
         "type": "bar"
        },
        {
         "alignmentgroup": "True",
         "hovertemplate": "Task_Train=size-count_Average Diameter<br>Task_Test=%{x}<br>Validation Accuracy=%{y}<extra></extra>",
         "legendgroup": "size-count_Average Diameter",
         "marker": {
          "color": "#FF6692",
          "pattern": {
           "shape": ""
          }
         },
         "name": "size-count_Average Diameter",
         "offsetgroup": "size-count_Average Diameter",
         "orientation": "v",
         "showlegend": true,
         "textposition": "auto",
         "x": [
          "size-count_Average Diameter",
          "size-count_Convex Hull",
          "size-count_Total Surface Area"
         ],
         "xaxis": "x",
         "y": [
          0.8,
          0.8104166666666667,
          0.4354166666666667
         ],
         "yaxis": "y",
         "type": "bar"
        },
        {
         "alignmentgroup": "True",
         "hovertemplate": "Task_Train=size-count_Convex Hull<br>Task_Test=%{x}<br>Validation Accuracy=%{y}<extra></extra>",
         "legendgroup": "size-count_Convex Hull",
         "marker": {
          "color": "#B6E880",
          "pattern": {
           "shape": ""
          }
         },
         "name": "size-count_Convex Hull",
         "offsetgroup": "size-count_Convex Hull",
         "orientation": "v",
         "showlegend": true,
         "textposition": "auto",
         "x": [
          "size-count_Average Diameter",
          "size-count_Convex Hull",
          "size-count_Total Surface Area"
         ],
         "xaxis": "x",
         "y": [
          0.7625,
          0.7995833333333333,
          0.44
         ],
         "yaxis": "y",
         "type": "bar"
        },
        {
         "alignmentgroup": "True",
         "hovertemplate": "Task_Train=size-count_Total Surface Area<br>Task_Test=%{x}<br>Validation Accuracy=%{y}<extra></extra>",
         "legendgroup": "size-count_Total Surface Area",
         "marker": {
          "color": "#FF97FF",
          "pattern": {
           "shape": ""
          }
         },
         "name": "size-count_Total Surface Area",
         "offsetgroup": "size-count_Total Surface Area",
         "orientation": "v",
         "showlegend": true,
         "textposition": "auto",
         "x": [
          "size-count_Average Diameter",
          "size-count_Convex Hull",
          "size-count_Total Surface Area"
         ],
         "xaxis": "x",
         "y": [
          0.7916666666666666,
          0.8325,
          0.8333333333333334
         ],
         "yaxis": "y",
         "type": "bar"
        }
       ],
       "layout": {
        "template": {
         "data": {
          "histogram2dcontour": [
           {
            "type": "histogram2dcontour",
            "colorbar": {
             "outlinewidth": 0,
             "ticks": ""
            },
            "colorscale": [
             [
              0.0,
              "#0d0887"
             ],
             [
              0.1111111111111111,
              "#46039f"
             ],
             [
              0.2222222222222222,
              "#7201a8"
             ],
             [
              0.3333333333333333,
              "#9c179e"
             ],
             [
              0.4444444444444444,
              "#bd3786"
             ],
             [
              0.5555555555555556,
              "#d8576b"
             ],
             [
              0.6666666666666666,
              "#ed7953"
             ],
             [
              0.7777777777777778,
              "#fb9f3a"
             ],
             [
              0.8888888888888888,
              "#fdca26"
             ],
             [
              1.0,
              "#f0f921"
             ]
            ]
           }
          ],
          "choropleth": [
           {
            "type": "choropleth",
            "colorbar": {
             "outlinewidth": 0,
             "ticks": ""
            }
           }
          ],
          "histogram2d": [
           {
            "type": "histogram2d",
            "colorbar": {
             "outlinewidth": 0,
             "ticks": ""
            },
            "colorscale": [
             [
              0.0,
              "#0d0887"
             ],
             [
              0.1111111111111111,
              "#46039f"
             ],
             [
              0.2222222222222222,
              "#7201a8"
             ],
             [
              0.3333333333333333,
              "#9c179e"
             ],
             [
              0.4444444444444444,
              "#bd3786"
             ],
             [
              0.5555555555555556,
              "#d8576b"
             ],
             [
              0.6666666666666666,
              "#ed7953"
             ],
             [
              0.7777777777777778,
              "#fb9f3a"
             ],
             [
              0.8888888888888888,
              "#fdca26"
             ],
             [
              1.0,
              "#f0f921"
             ]
            ]
           }
          ],
          "heatmap": [
           {
            "type": "heatmap",
            "colorbar": {
             "outlinewidth": 0,
             "ticks": ""
            },
            "colorscale": [
             [
              0.0,
              "#0d0887"
             ],
             [
              0.1111111111111111,
              "#46039f"
             ],
             [
              0.2222222222222222,
              "#7201a8"
             ],
             [
              0.3333333333333333,
              "#9c179e"
             ],
             [
              0.4444444444444444,
              "#bd3786"
             ],
             [
              0.5555555555555556,
              "#d8576b"
             ],
             [
              0.6666666666666666,
              "#ed7953"
             ],
             [
              0.7777777777777778,
              "#fb9f3a"
             ],
             [
              0.8888888888888888,
              "#fdca26"
             ],
             [
              1.0,
              "#f0f921"
             ]
            ]
           }
          ],
          "heatmapgl": [
           {
            "type": "heatmapgl",
            "colorbar": {
             "outlinewidth": 0,
             "ticks": ""
            },
            "colorscale": [
             [
              0.0,
              "#0d0887"
             ],
             [
              0.1111111111111111,
              "#46039f"
             ],
             [
              0.2222222222222222,
              "#7201a8"
             ],
             [
              0.3333333333333333,
              "#9c179e"
             ],
             [
              0.4444444444444444,
              "#bd3786"
             ],
             [
              0.5555555555555556,
              "#d8576b"
             ],
             [
              0.6666666666666666,
              "#ed7953"
             ],
             [
              0.7777777777777778,
              "#fb9f3a"
             ],
             [
              0.8888888888888888,
              "#fdca26"
             ],
             [
              1.0,
              "#f0f921"
             ]
            ]
           }
          ],
          "contourcarpet": [
           {
            "type": "contourcarpet",
            "colorbar": {
             "outlinewidth": 0,
             "ticks": ""
            }
           }
          ],
          "contour": [
           {
            "type": "contour",
            "colorbar": {
             "outlinewidth": 0,
             "ticks": ""
            },
            "colorscale": [
             [
              0.0,
              "#0d0887"
             ],
             [
              0.1111111111111111,
              "#46039f"
             ],
             [
              0.2222222222222222,
              "#7201a8"
             ],
             [
              0.3333333333333333,
              "#9c179e"
             ],
             [
              0.4444444444444444,
              "#bd3786"
             ],
             [
              0.5555555555555556,
              "#d8576b"
             ],
             [
              0.6666666666666666,
              "#ed7953"
             ],
             [
              0.7777777777777778,
              "#fb9f3a"
             ],
             [
              0.8888888888888888,
              "#fdca26"
             ],
             [
              1.0,
              "#f0f921"
             ]
            ]
           }
          ],
          "surface": [
           {
            "type": "surface",
            "colorbar": {
             "outlinewidth": 0,
             "ticks": ""
            },
            "colorscale": [
             [
              0.0,
              "#0d0887"
             ],
             [
              0.1111111111111111,
              "#46039f"
             ],
             [
              0.2222222222222222,
              "#7201a8"
             ],
             [
              0.3333333333333333,
              "#9c179e"
             ],
             [
              0.4444444444444444,
              "#bd3786"
             ],
             [
              0.5555555555555556,
              "#d8576b"
             ],
             [
              0.6666666666666666,
              "#ed7953"
             ],
             [
              0.7777777777777778,
              "#fb9f3a"
             ],
             [
              0.8888888888888888,
              "#fdca26"
             ],
             [
              1.0,
              "#f0f921"
             ]
            ]
           }
          ],
          "mesh3d": [
           {
            "type": "mesh3d",
            "colorbar": {
             "outlinewidth": 0,
             "ticks": ""
            }
           }
          ],
          "scatter": [
           {
            "fillpattern": {
             "fillmode": "overlay",
             "size": 10,
             "solidity": 0.2
            },
            "type": "scatter"
           }
          ],
          "parcoords": [
           {
            "type": "parcoords",
            "line": {
             "colorbar": {
              "outlinewidth": 0,
              "ticks": ""
             }
            }
           }
          ],
          "scatterpolargl": [
           {
            "type": "scatterpolargl",
            "marker": {
             "colorbar": {
              "outlinewidth": 0,
              "ticks": ""
             }
            }
           }
          ],
          "bar": [
           {
            "error_x": {
             "color": "#2a3f5f"
            },
            "error_y": {
             "color": "#2a3f5f"
            },
            "marker": {
             "line": {
              "color": "#E5ECF6",
              "width": 0.5
             },
             "pattern": {
              "fillmode": "overlay",
              "size": 10,
              "solidity": 0.2
             }
            },
            "type": "bar"
           }
          ],
          "scattergeo": [
           {
            "type": "scattergeo",
            "marker": {
             "colorbar": {
              "outlinewidth": 0,
              "ticks": ""
             }
            }
           }
          ],
          "scatterpolar": [
           {
            "type": "scatterpolar",
            "marker": {
             "colorbar": {
              "outlinewidth": 0,
              "ticks": ""
             }
            }
           }
          ],
          "histogram": [
           {
            "marker": {
             "pattern": {
              "fillmode": "overlay",
              "size": 10,
              "solidity": 0.2
             }
            },
            "type": "histogram"
           }
          ],
          "scattergl": [
           {
            "type": "scattergl",
            "marker": {
             "colorbar": {
              "outlinewidth": 0,
              "ticks": ""
             }
            }
           }
          ],
          "scatter3d": [
           {
            "type": "scatter3d",
            "line": {
             "colorbar": {
              "outlinewidth": 0,
              "ticks": ""
             }
            },
            "marker": {
             "colorbar": {
              "outlinewidth": 0,
              "ticks": ""
             }
            }
           }
          ],
          "scattermapbox": [
           {
            "type": "scattermapbox",
            "marker": {
             "colorbar": {
              "outlinewidth": 0,
              "ticks": ""
             }
            }
           }
          ],
          "scatterternary": [
           {
            "type": "scatterternary",
            "marker": {
             "colorbar": {
              "outlinewidth": 0,
              "ticks": ""
             }
            }
           }
          ],
          "scattercarpet": [
           {
            "type": "scattercarpet",
            "marker": {
             "colorbar": {
              "outlinewidth": 0,
              "ticks": ""
             }
            }
           }
          ],
          "carpet": [
           {
            "aaxis": {
             "endlinecolor": "#2a3f5f",
             "gridcolor": "white",
             "linecolor": "white",
             "minorgridcolor": "white",
             "startlinecolor": "#2a3f5f"
            },
            "baxis": {
             "endlinecolor": "#2a3f5f",
             "gridcolor": "white",
             "linecolor": "white",
             "minorgridcolor": "white",
             "startlinecolor": "#2a3f5f"
            },
            "type": "carpet"
           }
          ],
          "table": [
           {
            "cells": {
             "fill": {
              "color": "#EBF0F8"
             },
             "line": {
              "color": "white"
             }
            },
            "header": {
             "fill": {
              "color": "#C8D4E3"
             },
             "line": {
              "color": "white"
             }
            },
            "type": "table"
           }
          ],
          "barpolar": [
           {
            "marker": {
             "line": {
              "color": "#E5ECF6",
              "width": 0.5
             },
             "pattern": {
              "fillmode": "overlay",
              "size": 10,
              "solidity": 0.2
             }
            },
            "type": "barpolar"
           }
          ],
          "pie": [
           {
            "automargin": true,
            "type": "pie"
           }
          ]
         },
         "layout": {
          "autotypenumbers": "strict",
          "colorway": [
           "#636efa",
           "#EF553B",
           "#00cc96",
           "#ab63fa",
           "#FFA15A",
           "#19d3f3",
           "#FF6692",
           "#B6E880",
           "#FF97FF",
           "#FECB52"
          ],
          "font": {
           "color": "#2a3f5f"
          },
          "hovermode": "closest",
          "hoverlabel": {
           "align": "left"
          },
          "paper_bgcolor": "white",
          "plot_bgcolor": "#E5ECF6",
          "polar": {
           "bgcolor": "#E5ECF6",
           "angularaxis": {
            "gridcolor": "white",
            "linecolor": "white",
            "ticks": ""
           },
           "radialaxis": {
            "gridcolor": "white",
            "linecolor": "white",
            "ticks": ""
           }
          },
          "ternary": {
           "bgcolor": "#E5ECF6",
           "aaxis": {
            "gridcolor": "white",
            "linecolor": "white",
            "ticks": ""
           },
           "baxis": {
            "gridcolor": "white",
            "linecolor": "white",
            "ticks": ""
           },
           "caxis": {
            "gridcolor": "white",
            "linecolor": "white",
            "ticks": ""
           }
          },
          "coloraxis": {
           "colorbar": {
            "outlinewidth": 0,
            "ticks": ""
           }
          },
          "colorscale": {
           "sequential": [
            [
             0.0,
             "#0d0887"
            ],
            [
             0.1111111111111111,
             "#46039f"
            ],
            [
             0.2222222222222222,
             "#7201a8"
            ],
            [
             0.3333333333333333,
             "#9c179e"
            ],
            [
             0.4444444444444444,
             "#bd3786"
            ],
            [
             0.5555555555555556,
             "#d8576b"
            ],
            [
             0.6666666666666666,
             "#ed7953"
            ],
            [
             0.7777777777777778,
             "#fb9f3a"
            ],
            [
             0.8888888888888888,
             "#fdca26"
            ],
            [
             1.0,
             "#f0f921"
            ]
           ],
           "sequentialminus": [
            [
             0.0,
             "#0d0887"
            ],
            [
             0.1111111111111111,
             "#46039f"
            ],
            [
             0.2222222222222222,
             "#7201a8"
            ],
            [
             0.3333333333333333,
             "#9c179e"
            ],
            [
             0.4444444444444444,
             "#bd3786"
            ],
            [
             0.5555555555555556,
             "#d8576b"
            ],
            [
             0.6666666666666666,
             "#ed7953"
            ],
            [
             0.7777777777777778,
             "#fb9f3a"
            ],
            [
             0.8888888888888888,
             "#fdca26"
            ],
            [
             1.0,
             "#f0f921"
            ]
           ],
           "diverging": [
            [
             0,
             "#8e0152"
            ],
            [
             0.1,
             "#c51b7d"
            ],
            [
             0.2,
             "#de77ae"
            ],
            [
             0.3,
             "#f1b6da"
            ],
            [
             0.4,
             "#fde0ef"
            ],
            [
             0.5,
             "#f7f7f7"
            ],
            [
             0.6,
             "#e6f5d0"
            ],
            [
             0.7,
             "#b8e186"
            ],
            [
             0.8,
             "#7fbc41"
            ],
            [
             0.9,
             "#4d9221"
            ],
            [
             1,
             "#276419"
            ]
           ]
          },
          "xaxis": {
           "gridcolor": "white",
           "linecolor": "white",
           "ticks": "",
           "title": {
            "standoff": 15
           },
           "zerolinecolor": "white",
           "automargin": true,
           "zerolinewidth": 2
          },
          "yaxis": {
           "gridcolor": "white",
           "linecolor": "white",
           "ticks": "",
           "title": {
            "standoff": 15
           },
           "zerolinecolor": "white",
           "automargin": true,
           "zerolinewidth": 2
          },
          "scene": {
           "xaxis": {
            "backgroundcolor": "#E5ECF6",
            "gridcolor": "white",
            "linecolor": "white",
            "showbackground": true,
            "ticks": "",
            "zerolinecolor": "white",
            "gridwidth": 2
           },
           "yaxis": {
            "backgroundcolor": "#E5ECF6",
            "gridcolor": "white",
            "linecolor": "white",
            "showbackground": true,
            "ticks": "",
            "zerolinecolor": "white",
            "gridwidth": 2
           },
           "zaxis": {
            "backgroundcolor": "#E5ECF6",
            "gridcolor": "white",
            "linecolor": "white",
            "showbackground": true,
            "ticks": "",
            "zerolinecolor": "white",
            "gridwidth": 2
           }
          },
          "shapedefaults": {
           "line": {
            "color": "#2a3f5f"
           }
          },
          "annotationdefaults": {
           "arrowcolor": "#2a3f5f",
           "arrowhead": 0,
           "arrowwidth": 1
          },
          "geo": {
           "bgcolor": "white",
           "landcolor": "#E5ECF6",
           "subunitcolor": "white",
           "showland": true,
           "showlakes": true,
           "lakecolor": "white"
          },
          "title": {
           "x": 0.05
          },
          "mapbox": {
           "style": "light"
          }
         }
        },
        "xaxis": {
         "anchor": "y",
         "domain": [
          0.0,
          1.0
         ],
         "title": {
          "text": "Test"
         }
        },
        "yaxis": {
         "anchor": "x",
         "domain": [
          0.0,
          1.0
         ],
         "title": {
          "text": "Accuacy"
         }
        },
        "legend": {
         "title": {
          "text": "Task_Train"
         },
         "tracegroupgap": 0
        },
        "margin": {
         "t": 60
        },
        "barmode": "group",
        "coloraxis": {
         "colorscale": [
          [
           0.0,
           "#440154"
          ],
          [
           0.1111111111111111,
           "#482878"
          ],
          [
           0.2222222222222222,
           "#3e4989"
          ],
          [
           0.3333333333333333,
           "#31688e"
          ],
          [
           0.4444444444444444,
           "#26828e"
          ],
          [
           0.5555555555555556,
           "#1f9e89"
          ],
          [
           0.6666666666666666,
           "#35b779"
          ],
          [
           0.7777777777777778,
           "#6ece58"
          ],
          [
           0.8888888888888888,
           "#b5de2b"
          ],
          [
           1.0,
           "#fde725"
          ]
         ]
        },
        "title": {
         "text": "Accuracy Incongruent"
        }
       },
       "config": {
        "plotlyServerURL": "https://plot.ly"
       }
      },
      "text/html": "<div>                            <div id=\"18d20987-a1a9-41ac-b315-e4e9740c507a\" class=\"plotly-graph-div\" style=\"height:525px; width:100%;\"></div>            <script type=\"text/javascript\">                require([\"plotly\"], function(Plotly) {                    window.PLOTLYENV=window.PLOTLYENV || {};                                    if (document.getElementById(\"18d20987-a1a9-41ac-b315-e4e9740c507a\")) {                    Plotly.newPlot(                        \"18d20987-a1a9-41ac-b315-e4e9740c507a\",                        [{\"alignmentgroup\":\"True\",\"hovertemplate\":\"Task_Train=colors-count_Average Diameter<br>Task_Test=%{x}<br>Validation Accuracy=%{y}<extra></extra>\",\"legendgroup\":\"colors-count_Average Diameter\",\"marker\":{\"color\":\"#636efa\",\"pattern\":{\"shape\":\"\"}},\"name\":\"colors-count_Average Diameter\",\"offsetgroup\":\"colors-count_Average Diameter\",\"orientation\":\"v\",\"showlegend\":true,\"textposition\":\"auto\",\"x\":[\"colors-count_Average Diameter\",\"colors-count_Convex Hull\",\"colors-count_Total Surface Area\"],\"xaxis\":\"x\",\"y\":[0.8333333333333334,0.8083333333333333,0.38333333333333336],\"yaxis\":\"y\",\"type\":\"bar\"},{\"alignmentgroup\":\"True\",\"hovertemplate\":\"Task_Train=colors-count_Convex Hull<br>Task_Test=%{x}<br>Validation Accuracy=%{y}<extra></extra>\",\"legendgroup\":\"colors-count_Convex Hull\",\"marker\":{\"color\":\"#EF553B\",\"pattern\":{\"shape\":\"\"}},\"name\":\"colors-count_Convex Hull\",\"offsetgroup\":\"colors-count_Convex Hull\",\"orientation\":\"v\",\"showlegend\":true,\"textposition\":\"auto\",\"x\":[\"colors-count_Average Diameter\",\"colors-count_Convex Hull\",\"colors-count_Total Surface Area\"],\"xaxis\":\"x\",\"y\":[0.8333333333333334,0.8333333333333334,0.38333333333333336],\"yaxis\":\"y\",\"type\":\"bar\"},{\"alignmentgroup\":\"True\",\"hovertemplate\":\"Task_Train=colors-count_Total Surface Area<br>Task_Test=%{x}<br>Validation Accuracy=%{y}<extra></extra>\",\"legendgroup\":\"colors-count_Total Surface Area\",\"marker\":{\"color\":\"#00cc96\",\"pattern\":{\"shape\":\"\"}},\"name\":\"colors-count_Total Surface Area\",\"offsetgroup\":\"colors-count_Total Surface Area\",\"orientation\":\"v\",\"showlegend\":true,\"textposition\":\"auto\",\"x\":[\"colors-count_Average Diameter\",\"colors-count_Convex Hull\",\"colors-count_Total Surface Area\"],\"xaxis\":\"x\",\"y\":[0.16708333333333333,0.18958333333333333,0.83375],\"yaxis\":\"y\",\"type\":\"bar\"},{\"alignmentgroup\":\"True\",\"hovertemplate\":\"Task_Train=count_Average Diameter<br>Task_Test=%{x}<br>Validation Accuracy=%{y}<extra></extra>\",\"legendgroup\":\"count_Average Diameter\",\"marker\":{\"color\":\"#ab63fa\",\"pattern\":{\"shape\":\"\"}},\"name\":\"count_Average Diameter\",\"offsetgroup\":\"count_Average Diameter\",\"orientation\":\"v\",\"showlegend\":true,\"textposition\":\"auto\",\"x\":[\"count_Average Diameter\",\"count_Convex Hull\",\"count_Total Surface Area\"],\"xaxis\":\"x\",\"y\":[0.7899999999999999,0.8033333333333333,0.43666666666666665],\"yaxis\":\"y\",\"type\":\"bar\"},{\"alignmentgroup\":\"True\",\"hovertemplate\":\"Task_Train=count_Convex Hull<br>Task_Test=%{x}<br>Validation Accuracy=%{y}<extra></extra>\",\"legendgroup\":\"count_Convex Hull\",\"marker\":{\"color\":\"#FFA15A\",\"pattern\":{\"shape\":\"\"}},\"name\":\"count_Convex Hull\",\"offsetgroup\":\"count_Convex Hull\",\"orientation\":\"v\",\"showlegend\":true,\"textposition\":\"auto\",\"x\":[\"count_Average Diameter\",\"count_Convex Hull\",\"count_Total Surface Area\"],\"xaxis\":\"x\",\"y\":[0.7908333333333334,0.8350000000000001,0.43291666666666667],\"yaxis\":\"y\",\"type\":\"bar\"},{\"alignmentgroup\":\"True\",\"hovertemplate\":\"Task_Train=count_Total Surface Area<br>Task_Test=%{x}<br>Validation Accuracy=%{y}<extra></extra>\",\"legendgroup\":\"count_Total Surface Area\",\"marker\":{\"color\":\"#19d3f3\",\"pattern\":{\"shape\":\"\"}},\"name\":\"count_Total Surface Area\",\"offsetgroup\":\"count_Total Surface Area\",\"orientation\":\"v\",\"showlegend\":true,\"textposition\":\"auto\",\"x\":[\"count_Average Diameter\",\"count_Convex Hull\",\"count_Total Surface Area\"],\"xaxis\":\"x\",\"y\":[0.76875,0.8137500000000001,0.8120833333333334],\"yaxis\":\"y\",\"type\":\"bar\"},{\"alignmentgroup\":\"True\",\"hovertemplate\":\"Task_Train=size-count_Average Diameter<br>Task_Test=%{x}<br>Validation Accuracy=%{y}<extra></extra>\",\"legendgroup\":\"size-count_Average Diameter\",\"marker\":{\"color\":\"#FF6692\",\"pattern\":{\"shape\":\"\"}},\"name\":\"size-count_Average Diameter\",\"offsetgroup\":\"size-count_Average Diameter\",\"orientation\":\"v\",\"showlegend\":true,\"textposition\":\"auto\",\"x\":[\"size-count_Average Diameter\",\"size-count_Convex Hull\",\"size-count_Total Surface Area\"],\"xaxis\":\"x\",\"y\":[0.8,0.8104166666666667,0.4354166666666667],\"yaxis\":\"y\",\"type\":\"bar\"},{\"alignmentgroup\":\"True\",\"hovertemplate\":\"Task_Train=size-count_Convex Hull<br>Task_Test=%{x}<br>Validation Accuracy=%{y}<extra></extra>\",\"legendgroup\":\"size-count_Convex Hull\",\"marker\":{\"color\":\"#B6E880\",\"pattern\":{\"shape\":\"\"}},\"name\":\"size-count_Convex Hull\",\"offsetgroup\":\"size-count_Convex Hull\",\"orientation\":\"v\",\"showlegend\":true,\"textposition\":\"auto\",\"x\":[\"size-count_Average Diameter\",\"size-count_Convex Hull\",\"size-count_Total Surface Area\"],\"xaxis\":\"x\",\"y\":[0.7625,0.7995833333333333,0.44],\"yaxis\":\"y\",\"type\":\"bar\"},{\"alignmentgroup\":\"True\",\"hovertemplate\":\"Task_Train=size-count_Total Surface Area<br>Task_Test=%{x}<br>Validation Accuracy=%{y}<extra></extra>\",\"legendgroup\":\"size-count_Total Surface Area\",\"marker\":{\"color\":\"#FF97FF\",\"pattern\":{\"shape\":\"\"}},\"name\":\"size-count_Total Surface Area\",\"offsetgroup\":\"size-count_Total Surface Area\",\"orientation\":\"v\",\"showlegend\":true,\"textposition\":\"auto\",\"x\":[\"size-count_Average Diameter\",\"size-count_Convex Hull\",\"size-count_Total Surface Area\"],\"xaxis\":\"x\",\"y\":[0.7916666666666666,0.8325,0.8333333333333334],\"yaxis\":\"y\",\"type\":\"bar\"}],                        {\"template\":{\"data\":{\"histogram2dcontour\":[{\"type\":\"histogram2dcontour\",\"colorbar\":{\"outlinewidth\":0,\"ticks\":\"\"},\"colorscale\":[[0.0,\"#0d0887\"],[0.1111111111111111,\"#46039f\"],[0.2222222222222222,\"#7201a8\"],[0.3333333333333333,\"#9c179e\"],[0.4444444444444444,\"#bd3786\"],[0.5555555555555556,\"#d8576b\"],[0.6666666666666666,\"#ed7953\"],[0.7777777777777778,\"#fb9f3a\"],[0.8888888888888888,\"#fdca26\"],[1.0,\"#f0f921\"]]}],\"choropleth\":[{\"type\":\"choropleth\",\"colorbar\":{\"outlinewidth\":0,\"ticks\":\"\"}}],\"histogram2d\":[{\"type\":\"histogram2d\",\"colorbar\":{\"outlinewidth\":0,\"ticks\":\"\"},\"colorscale\":[[0.0,\"#0d0887\"],[0.1111111111111111,\"#46039f\"],[0.2222222222222222,\"#7201a8\"],[0.3333333333333333,\"#9c179e\"],[0.4444444444444444,\"#bd3786\"],[0.5555555555555556,\"#d8576b\"],[0.6666666666666666,\"#ed7953\"],[0.7777777777777778,\"#fb9f3a\"],[0.8888888888888888,\"#fdca26\"],[1.0,\"#f0f921\"]]}],\"heatmap\":[{\"type\":\"heatmap\",\"colorbar\":{\"outlinewidth\":0,\"ticks\":\"\"},\"colorscale\":[[0.0,\"#0d0887\"],[0.1111111111111111,\"#46039f\"],[0.2222222222222222,\"#7201a8\"],[0.3333333333333333,\"#9c179e\"],[0.4444444444444444,\"#bd3786\"],[0.5555555555555556,\"#d8576b\"],[0.6666666666666666,\"#ed7953\"],[0.7777777777777778,\"#fb9f3a\"],[0.8888888888888888,\"#fdca26\"],[1.0,\"#f0f921\"]]}],\"heatmapgl\":[{\"type\":\"heatmapgl\",\"colorbar\":{\"outlinewidth\":0,\"ticks\":\"\"},\"colorscale\":[[0.0,\"#0d0887\"],[0.1111111111111111,\"#46039f\"],[0.2222222222222222,\"#7201a8\"],[0.3333333333333333,\"#9c179e\"],[0.4444444444444444,\"#bd3786\"],[0.5555555555555556,\"#d8576b\"],[0.6666666666666666,\"#ed7953\"],[0.7777777777777778,\"#fb9f3a\"],[0.8888888888888888,\"#fdca26\"],[1.0,\"#f0f921\"]]}],\"contourcarpet\":[{\"type\":\"contourcarpet\",\"colorbar\":{\"outlinewidth\":0,\"ticks\":\"\"}}],\"contour\":[{\"type\":\"contour\",\"colorbar\":{\"outlinewidth\":0,\"ticks\":\"\"},\"colorscale\":[[0.0,\"#0d0887\"],[0.1111111111111111,\"#46039f\"],[0.2222222222222222,\"#7201a8\"],[0.3333333333333333,\"#9c179e\"],[0.4444444444444444,\"#bd3786\"],[0.5555555555555556,\"#d8576b\"],[0.6666666666666666,\"#ed7953\"],[0.7777777777777778,\"#fb9f3a\"],[0.8888888888888888,\"#fdca26\"],[1.0,\"#f0f921\"]]}],\"surface\":[{\"type\":\"surface\",\"colorbar\":{\"outlinewidth\":0,\"ticks\":\"\"},\"colorscale\":[[0.0,\"#0d0887\"],[0.1111111111111111,\"#46039f\"],[0.2222222222222222,\"#7201a8\"],[0.3333333333333333,\"#9c179e\"],[0.4444444444444444,\"#bd3786\"],[0.5555555555555556,\"#d8576b\"],[0.6666666666666666,\"#ed7953\"],[0.7777777777777778,\"#fb9f3a\"],[0.8888888888888888,\"#fdca26\"],[1.0,\"#f0f921\"]]}],\"mesh3d\":[{\"type\":\"mesh3d\",\"colorbar\":{\"outlinewidth\":0,\"ticks\":\"\"}}],\"scatter\":[{\"fillpattern\":{\"fillmode\":\"overlay\",\"size\":10,\"solidity\":0.2},\"type\":\"scatter\"}],\"parcoords\":[{\"type\":\"parcoords\",\"line\":{\"colorbar\":{\"outlinewidth\":0,\"ticks\":\"\"}}}],\"scatterpolargl\":[{\"type\":\"scatterpolargl\",\"marker\":{\"colorbar\":{\"outlinewidth\":0,\"ticks\":\"\"}}}],\"bar\":[{\"error_x\":{\"color\":\"#2a3f5f\"},\"error_y\":{\"color\":\"#2a3f5f\"},\"marker\":{\"line\":{\"color\":\"#E5ECF6\",\"width\":0.5},\"pattern\":{\"fillmode\":\"overlay\",\"size\":10,\"solidity\":0.2}},\"type\":\"bar\"}],\"scattergeo\":[{\"type\":\"scattergeo\",\"marker\":{\"colorbar\":{\"outlinewidth\":0,\"ticks\":\"\"}}}],\"scatterpolar\":[{\"type\":\"scatterpolar\",\"marker\":{\"colorbar\":{\"outlinewidth\":0,\"ticks\":\"\"}}}],\"histogram\":[{\"marker\":{\"pattern\":{\"fillmode\":\"overlay\",\"size\":10,\"solidity\":0.2}},\"type\":\"histogram\"}],\"scattergl\":[{\"type\":\"scattergl\",\"marker\":{\"colorbar\":{\"outlinewidth\":0,\"ticks\":\"\"}}}],\"scatter3d\":[{\"type\":\"scatter3d\",\"line\":{\"colorbar\":{\"outlinewidth\":0,\"ticks\":\"\"}},\"marker\":{\"colorbar\":{\"outlinewidth\":0,\"ticks\":\"\"}}}],\"scattermapbox\":[{\"type\":\"scattermapbox\",\"marker\":{\"colorbar\":{\"outlinewidth\":0,\"ticks\":\"\"}}}],\"scatterternary\":[{\"type\":\"scatterternary\",\"marker\":{\"colorbar\":{\"outlinewidth\":0,\"ticks\":\"\"}}}],\"scattercarpet\":[{\"type\":\"scattercarpet\",\"marker\":{\"colorbar\":{\"outlinewidth\":0,\"ticks\":\"\"}}}],\"carpet\":[{\"aaxis\":{\"endlinecolor\":\"#2a3f5f\",\"gridcolor\":\"white\",\"linecolor\":\"white\",\"minorgridcolor\":\"white\",\"startlinecolor\":\"#2a3f5f\"},\"baxis\":{\"endlinecolor\":\"#2a3f5f\",\"gridcolor\":\"white\",\"linecolor\":\"white\",\"minorgridcolor\":\"white\",\"startlinecolor\":\"#2a3f5f\"},\"type\":\"carpet\"}],\"table\":[{\"cells\":{\"fill\":{\"color\":\"#EBF0F8\"},\"line\":{\"color\":\"white\"}},\"header\":{\"fill\":{\"color\":\"#C8D4E3\"},\"line\":{\"color\":\"white\"}},\"type\":\"table\"}],\"barpolar\":[{\"marker\":{\"line\":{\"color\":\"#E5ECF6\",\"width\":0.5},\"pattern\":{\"fillmode\":\"overlay\",\"size\":10,\"solidity\":0.2}},\"type\":\"barpolar\"}],\"pie\":[{\"automargin\":true,\"type\":\"pie\"}]},\"layout\":{\"autotypenumbers\":\"strict\",\"colorway\":[\"#636efa\",\"#EF553B\",\"#00cc96\",\"#ab63fa\",\"#FFA15A\",\"#19d3f3\",\"#FF6692\",\"#B6E880\",\"#FF97FF\",\"#FECB52\"],\"font\":{\"color\":\"#2a3f5f\"},\"hovermode\":\"closest\",\"hoverlabel\":{\"align\":\"left\"},\"paper_bgcolor\":\"white\",\"plot_bgcolor\":\"#E5ECF6\",\"polar\":{\"bgcolor\":\"#E5ECF6\",\"angularaxis\":{\"gridcolor\":\"white\",\"linecolor\":\"white\",\"ticks\":\"\"},\"radialaxis\":{\"gridcolor\":\"white\",\"linecolor\":\"white\",\"ticks\":\"\"}},\"ternary\":{\"bgcolor\":\"#E5ECF6\",\"aaxis\":{\"gridcolor\":\"white\",\"linecolor\":\"white\",\"ticks\":\"\"},\"baxis\":{\"gridcolor\":\"white\",\"linecolor\":\"white\",\"ticks\":\"\"},\"caxis\":{\"gridcolor\":\"white\",\"linecolor\":\"white\",\"ticks\":\"\"}},\"coloraxis\":{\"colorbar\":{\"outlinewidth\":0,\"ticks\":\"\"}},\"colorscale\":{\"sequential\":[[0.0,\"#0d0887\"],[0.1111111111111111,\"#46039f\"],[0.2222222222222222,\"#7201a8\"],[0.3333333333333333,\"#9c179e\"],[0.4444444444444444,\"#bd3786\"],[0.5555555555555556,\"#d8576b\"],[0.6666666666666666,\"#ed7953\"],[0.7777777777777778,\"#fb9f3a\"],[0.8888888888888888,\"#fdca26\"],[1.0,\"#f0f921\"]],\"sequentialminus\":[[0.0,\"#0d0887\"],[0.1111111111111111,\"#46039f\"],[0.2222222222222222,\"#7201a8\"],[0.3333333333333333,\"#9c179e\"],[0.4444444444444444,\"#bd3786\"],[0.5555555555555556,\"#d8576b\"],[0.6666666666666666,\"#ed7953\"],[0.7777777777777778,\"#fb9f3a\"],[0.8888888888888888,\"#fdca26\"],[1.0,\"#f0f921\"]],\"diverging\":[[0,\"#8e0152\"],[0.1,\"#c51b7d\"],[0.2,\"#de77ae\"],[0.3,\"#f1b6da\"],[0.4,\"#fde0ef\"],[0.5,\"#f7f7f7\"],[0.6,\"#e6f5d0\"],[0.7,\"#b8e186\"],[0.8,\"#7fbc41\"],[0.9,\"#4d9221\"],[1,\"#276419\"]]},\"xaxis\":{\"gridcolor\":\"white\",\"linecolor\":\"white\",\"ticks\":\"\",\"title\":{\"standoff\":15},\"zerolinecolor\":\"white\",\"automargin\":true,\"zerolinewidth\":2},\"yaxis\":{\"gridcolor\":\"white\",\"linecolor\":\"white\",\"ticks\":\"\",\"title\":{\"standoff\":15},\"zerolinecolor\":\"white\",\"automargin\":true,\"zerolinewidth\":2},\"scene\":{\"xaxis\":{\"backgroundcolor\":\"#E5ECF6\",\"gridcolor\":\"white\",\"linecolor\":\"white\",\"showbackground\":true,\"ticks\":\"\",\"zerolinecolor\":\"white\",\"gridwidth\":2},\"yaxis\":{\"backgroundcolor\":\"#E5ECF6\",\"gridcolor\":\"white\",\"linecolor\":\"white\",\"showbackground\":true,\"ticks\":\"\",\"zerolinecolor\":\"white\",\"gridwidth\":2},\"zaxis\":{\"backgroundcolor\":\"#E5ECF6\",\"gridcolor\":\"white\",\"linecolor\":\"white\",\"showbackground\":true,\"ticks\":\"\",\"zerolinecolor\":\"white\",\"gridwidth\":2}},\"shapedefaults\":{\"line\":{\"color\":\"#2a3f5f\"}},\"annotationdefaults\":{\"arrowcolor\":\"#2a3f5f\",\"arrowhead\":0,\"arrowwidth\":1},\"geo\":{\"bgcolor\":\"white\",\"landcolor\":\"#E5ECF6\",\"subunitcolor\":\"white\",\"showland\":true,\"showlakes\":true,\"lakecolor\":\"white\"},\"title\":{\"x\":0.05},\"mapbox\":{\"style\":\"light\"}}},\"xaxis\":{\"anchor\":\"y\",\"domain\":[0.0,1.0],\"title\":{\"text\":\"Test\"}},\"yaxis\":{\"anchor\":\"x\",\"domain\":[0.0,1.0],\"title\":{\"text\":\"Accuacy\"}},\"legend\":{\"title\":{\"text\":\"Task_Train\"},\"tracegroupgap\":0},\"margin\":{\"t\":60},\"barmode\":\"group\",\"coloraxis\":{\"colorscale\":[[0.0,\"#440154\"],[0.1111111111111111,\"#482878\"],[0.2222222222222222,\"#3e4989\"],[0.3333333333333333,\"#31688e\"],[0.4444444444444444,\"#26828e\"],[0.5555555555555556,\"#1f9e89\"],[0.6666666666666666,\"#35b779\"],[0.7777777777777778,\"#6ece58\"],[0.8888888888888888,\"#b5de2b\"],[1.0,\"#fde725\"]]},\"title\":{\"text\":\"Accuracy Incongruent\"}},                        {\"responsive\": true}                    ).then(function(){\n                            \nvar gd = document.getElementById('18d20987-a1a9-41ac-b315-e4e9740c507a');\nvar x = new MutationObserver(function (mutations, observer) {{\n        var display = window.getComputedStyle(gd).display;\n        if (!display || display === 'none') {{\n            console.log([gd, 'removed!']);\n            Plotly.purge(gd);\n            observer.disconnect();\n        }}\n}});\n\n// Listen for the removal of the full notebook cells\nvar notebookContainer = gd.closest('#notebook-container');\nif (notebookContainer) {{\n    x.observe(notebookContainer, {childList: true});\n}}\n\n// Listen for the clearing of the current output cell\nvar outputEl = gd.closest('.output');\nif (outputEl) {{\n    x.observe(outputEl, {childList: true});\n}}\n\n                        })                };                });            </script>        </div>"
     },
     "metadata": {},
     "output_type": "display_data"
    }
   ],
   "source": [
    "fig = px.bar(anova_df_for_plots_grouped.query(f\"(Task == 'count' or Task =='size-count' or Task == 'colors-count') and (Congruency == 0)\"), x='Task_Test', y='Validation Accuracy', color='Task_Train', barmode='group')\n",
    "\n",
    "fig.update_layout(\n",
    "    title='Accuracy Incongruent',\n",
    "    xaxis_title='Test',\n",
    "    yaxis_title='Accuacy',\n",
    "    coloraxis={'colorscale': 'Viridis'})\n",
    "fig.show()\n",
    "# df_for_heatmap = z.round(decimals=2)\n",
    "# sns.heatmap(anova_df_for_plots[['Task_Train', 'Task_Test', 'Validation Accuracy']], annot=True, linewidths=.5).set(title=f\"test\")"
   ],
   "metadata": {
    "collapsed": false,
    "pycharm": {
     "name": "#%%\n"
    }
   }
  },
  {
   "cell_type": "code",
   "execution_count": 117,
   "outputs": [
    {
     "data": {
      "application/vnd.plotly.v1+json": {
       "data": [
        {
         "alignmentgroup": "True",
         "hovertemplate": "Task_Train=colors-count_Average Diameter<br>Task_Test=%{x}<br>Validation Accuracy=%{y}<extra></extra>",
         "legendgroup": "colors-count_Average Diameter",
         "marker": {
          "color": "#636efa",
          "pattern": {
           "shape": ""
          }
         },
         "name": "colors-count_Average Diameter",
         "offsetgroup": "colors-count_Average Diameter",
         "orientation": "v",
         "showlegend": true,
         "textposition": "auto",
         "x": [
          "colors-count_Average Diameter",
          "colors-count_Convex Hull",
          "colors-count_Total Surface Area"
         ],
         "xaxis": "x",
         "y": [
          0.825,
          0.8,
          0.425
         ],
         "yaxis": "y",
         "type": "bar"
        },
        {
         "alignmentgroup": "True",
         "hovertemplate": "Task_Train=colors-count_Convex Hull<br>Task_Test=%{x}<br>Validation Accuracy=%{y}<extra></extra>",
         "legendgroup": "colors-count_Convex Hull",
         "marker": {
          "color": "#EF553B",
          "pattern": {
           "shape": ""
          }
         },
         "name": "colors-count_Convex Hull",
         "offsetgroup": "colors-count_Convex Hull",
         "orientation": "v",
         "showlegend": true,
         "textposition": "auto",
         "x": [
          "colors-count_Average Diameter",
          "colors-count_Convex Hull",
          "colors-count_Total Surface Area"
         ],
         "xaxis": "x",
         "y": [
          0.8083333333333333,
          0.8333333333333334,
          0.425
         ],
         "yaxis": "y",
         "type": "bar"
        },
        {
         "alignmentgroup": "True",
         "hovertemplate": "Task_Train=colors-count_Total Surface Area<br>Task_Test=%{x}<br>Validation Accuracy=%{y}<extra></extra>",
         "legendgroup": "colors-count_Total Surface Area",
         "marker": {
          "color": "#00cc96",
          "pattern": {
           "shape": ""
          }
         },
         "name": "colors-count_Total Surface Area",
         "offsetgroup": "colors-count_Total Surface Area",
         "orientation": "v",
         "showlegend": true,
         "textposition": "auto",
         "x": [
          "colors-count_Average Diameter",
          "colors-count_Convex Hull",
          "colors-count_Total Surface Area"
         ],
         "xaxis": "x",
         "y": [
          0.19208333333333333,
          0.20166666666666666,
          0.8333333333333334
         ],
         "yaxis": "y",
         "type": "bar"
        },
        {
         "alignmentgroup": "True",
         "hovertemplate": "Task_Train=count_Average Diameter<br>Task_Test=%{x}<br>Validation Accuracy=%{y}<extra></extra>",
         "legendgroup": "count_Average Diameter",
         "marker": {
          "color": "#ab63fa",
          "pattern": {
           "shape": ""
          }
         },
         "name": "count_Average Diameter",
         "offsetgroup": "count_Average Diameter",
         "orientation": "v",
         "showlegend": true,
         "textposition": "auto",
         "x": [
          "count_Average Diameter",
          "count_Convex Hull",
          "count_Total Surface Area"
         ],
         "xaxis": "x",
         "y": [
          0.8129166666666666,
          0.84375,
          0.4879166666666667
         ],
         "yaxis": "y",
         "type": "bar"
        },
        {
         "alignmentgroup": "True",
         "hovertemplate": "Task_Train=count_Convex Hull<br>Task_Test=%{x}<br>Validation Accuracy=%{y}<extra></extra>",
         "legendgroup": "count_Convex Hull",
         "marker": {
          "color": "#FFA15A",
          "pattern": {
           "shape": ""
          }
         },
         "name": "count_Convex Hull",
         "offsetgroup": "count_Convex Hull",
         "orientation": "v",
         "showlegend": true,
         "textposition": "auto",
         "x": [
          "count_Average Diameter",
          "count_Convex Hull",
          "count_Total Surface Area"
         ],
         "xaxis": "x",
         "y": [
          0.8329166666666666,
          0.8345833333333333,
          0.475
         ],
         "yaxis": "y",
         "type": "bar"
        },
        {
         "alignmentgroup": "True",
         "hovertemplate": "Task_Train=count_Total Surface Area<br>Task_Test=%{x}<br>Validation Accuracy=%{y}<extra></extra>",
         "legendgroup": "count_Total Surface Area",
         "marker": {
          "color": "#19d3f3",
          "pattern": {
           "shape": ""
          }
         },
         "name": "count_Total Surface Area",
         "offsetgroup": "count_Total Surface Area",
         "orientation": "v",
         "showlegend": true,
         "textposition": "auto",
         "x": [
          "count_Average Diameter",
          "count_Convex Hull",
          "count_Total Surface Area"
         ],
         "xaxis": "x",
         "y": [
          0.8016666666666666,
          0.8304166666666667,
          0.78125
         ],
         "yaxis": "y",
         "type": "bar"
        },
        {
         "alignmentgroup": "True",
         "hovertemplate": "Task_Train=size-count_Average Diameter<br>Task_Test=%{x}<br>Validation Accuracy=%{y}<extra></extra>",
         "legendgroup": "size-count_Average Diameter",
         "marker": {
          "color": "#FF6692",
          "pattern": {
           "shape": ""
          }
         },
         "name": "size-count_Average Diameter",
         "offsetgroup": "size-count_Average Diameter",
         "orientation": "v",
         "showlegend": true,
         "textposition": "auto",
         "x": [
          "size-count_Average Diameter",
          "size-count_Convex Hull",
          "size-count_Total Surface Area"
         ],
         "xaxis": "x",
         "y": [
          0.8420833333333333,
          0.8508333333333333,
          0.47583333333333333
         ],
         "yaxis": "y",
         "type": "bar"
        },
        {
         "alignmentgroup": "True",
         "hovertemplate": "Task_Train=size-count_Convex Hull<br>Task_Test=%{x}<br>Validation Accuracy=%{y}<extra></extra>",
         "legendgroup": "size-count_Convex Hull",
         "marker": {
          "color": "#B6E880",
          "pattern": {
           "shape": ""
          }
         },
         "name": "size-count_Convex Hull",
         "offsetgroup": "size-count_Convex Hull",
         "orientation": "v",
         "showlegend": true,
         "textposition": "auto",
         "x": [
          "size-count_Average Diameter",
          "size-count_Convex Hull",
          "size-count_Total Surface Area"
         ],
         "xaxis": "x",
         "y": [
          0.7991666666666667,
          0.8004166666666667,
          0.47750000000000004
         ],
         "yaxis": "y",
         "type": "bar"
        },
        {
         "alignmentgroup": "True",
         "hovertemplate": "Task_Train=size-count_Total Surface Area<br>Task_Test=%{x}<br>Validation Accuracy=%{y}<extra></extra>",
         "legendgroup": "size-count_Total Surface Area",
         "marker": {
          "color": "#FF97FF",
          "pattern": {
           "shape": ""
          }
         },
         "name": "size-count_Total Surface Area",
         "offsetgroup": "size-count_Total Surface Area",
         "orientation": "v",
         "showlegend": true,
         "textposition": "auto",
         "x": [
          "size-count_Average Diameter",
          "size-count_Convex Hull",
          "size-count_Total Surface Area"
         ],
         "xaxis": "x",
         "y": [
          0.8333333333333334,
          0.8583333333333333,
          0.8083333333333333
         ],
         "yaxis": "y",
         "type": "bar"
        }
       ],
       "layout": {
        "template": {
         "data": {
          "histogram2dcontour": [
           {
            "type": "histogram2dcontour",
            "colorbar": {
             "outlinewidth": 0,
             "ticks": ""
            },
            "colorscale": [
             [
              0.0,
              "#0d0887"
             ],
             [
              0.1111111111111111,
              "#46039f"
             ],
             [
              0.2222222222222222,
              "#7201a8"
             ],
             [
              0.3333333333333333,
              "#9c179e"
             ],
             [
              0.4444444444444444,
              "#bd3786"
             ],
             [
              0.5555555555555556,
              "#d8576b"
             ],
             [
              0.6666666666666666,
              "#ed7953"
             ],
             [
              0.7777777777777778,
              "#fb9f3a"
             ],
             [
              0.8888888888888888,
              "#fdca26"
             ],
             [
              1.0,
              "#f0f921"
             ]
            ]
           }
          ],
          "choropleth": [
           {
            "type": "choropleth",
            "colorbar": {
             "outlinewidth": 0,
             "ticks": ""
            }
           }
          ],
          "histogram2d": [
           {
            "type": "histogram2d",
            "colorbar": {
             "outlinewidth": 0,
             "ticks": ""
            },
            "colorscale": [
             [
              0.0,
              "#0d0887"
             ],
             [
              0.1111111111111111,
              "#46039f"
             ],
             [
              0.2222222222222222,
              "#7201a8"
             ],
             [
              0.3333333333333333,
              "#9c179e"
             ],
             [
              0.4444444444444444,
              "#bd3786"
             ],
             [
              0.5555555555555556,
              "#d8576b"
             ],
             [
              0.6666666666666666,
              "#ed7953"
             ],
             [
              0.7777777777777778,
              "#fb9f3a"
             ],
             [
              0.8888888888888888,
              "#fdca26"
             ],
             [
              1.0,
              "#f0f921"
             ]
            ]
           }
          ],
          "heatmap": [
           {
            "type": "heatmap",
            "colorbar": {
             "outlinewidth": 0,
             "ticks": ""
            },
            "colorscale": [
             [
              0.0,
              "#0d0887"
             ],
             [
              0.1111111111111111,
              "#46039f"
             ],
             [
              0.2222222222222222,
              "#7201a8"
             ],
             [
              0.3333333333333333,
              "#9c179e"
             ],
             [
              0.4444444444444444,
              "#bd3786"
             ],
             [
              0.5555555555555556,
              "#d8576b"
             ],
             [
              0.6666666666666666,
              "#ed7953"
             ],
             [
              0.7777777777777778,
              "#fb9f3a"
             ],
             [
              0.8888888888888888,
              "#fdca26"
             ],
             [
              1.0,
              "#f0f921"
             ]
            ]
           }
          ],
          "heatmapgl": [
           {
            "type": "heatmapgl",
            "colorbar": {
             "outlinewidth": 0,
             "ticks": ""
            },
            "colorscale": [
             [
              0.0,
              "#0d0887"
             ],
             [
              0.1111111111111111,
              "#46039f"
             ],
             [
              0.2222222222222222,
              "#7201a8"
             ],
             [
              0.3333333333333333,
              "#9c179e"
             ],
             [
              0.4444444444444444,
              "#bd3786"
             ],
             [
              0.5555555555555556,
              "#d8576b"
             ],
             [
              0.6666666666666666,
              "#ed7953"
             ],
             [
              0.7777777777777778,
              "#fb9f3a"
             ],
             [
              0.8888888888888888,
              "#fdca26"
             ],
             [
              1.0,
              "#f0f921"
             ]
            ]
           }
          ],
          "contourcarpet": [
           {
            "type": "contourcarpet",
            "colorbar": {
             "outlinewidth": 0,
             "ticks": ""
            }
           }
          ],
          "contour": [
           {
            "type": "contour",
            "colorbar": {
             "outlinewidth": 0,
             "ticks": ""
            },
            "colorscale": [
             [
              0.0,
              "#0d0887"
             ],
             [
              0.1111111111111111,
              "#46039f"
             ],
             [
              0.2222222222222222,
              "#7201a8"
             ],
             [
              0.3333333333333333,
              "#9c179e"
             ],
             [
              0.4444444444444444,
              "#bd3786"
             ],
             [
              0.5555555555555556,
              "#d8576b"
             ],
             [
              0.6666666666666666,
              "#ed7953"
             ],
             [
              0.7777777777777778,
              "#fb9f3a"
             ],
             [
              0.8888888888888888,
              "#fdca26"
             ],
             [
              1.0,
              "#f0f921"
             ]
            ]
           }
          ],
          "surface": [
           {
            "type": "surface",
            "colorbar": {
             "outlinewidth": 0,
             "ticks": ""
            },
            "colorscale": [
             [
              0.0,
              "#0d0887"
             ],
             [
              0.1111111111111111,
              "#46039f"
             ],
             [
              0.2222222222222222,
              "#7201a8"
             ],
             [
              0.3333333333333333,
              "#9c179e"
             ],
             [
              0.4444444444444444,
              "#bd3786"
             ],
             [
              0.5555555555555556,
              "#d8576b"
             ],
             [
              0.6666666666666666,
              "#ed7953"
             ],
             [
              0.7777777777777778,
              "#fb9f3a"
             ],
             [
              0.8888888888888888,
              "#fdca26"
             ],
             [
              1.0,
              "#f0f921"
             ]
            ]
           }
          ],
          "mesh3d": [
           {
            "type": "mesh3d",
            "colorbar": {
             "outlinewidth": 0,
             "ticks": ""
            }
           }
          ],
          "scatter": [
           {
            "fillpattern": {
             "fillmode": "overlay",
             "size": 10,
             "solidity": 0.2
            },
            "type": "scatter"
           }
          ],
          "parcoords": [
           {
            "type": "parcoords",
            "line": {
             "colorbar": {
              "outlinewidth": 0,
              "ticks": ""
             }
            }
           }
          ],
          "scatterpolargl": [
           {
            "type": "scatterpolargl",
            "marker": {
             "colorbar": {
              "outlinewidth": 0,
              "ticks": ""
             }
            }
           }
          ],
          "bar": [
           {
            "error_x": {
             "color": "#2a3f5f"
            },
            "error_y": {
             "color": "#2a3f5f"
            },
            "marker": {
             "line": {
              "color": "#E5ECF6",
              "width": 0.5
             },
             "pattern": {
              "fillmode": "overlay",
              "size": 10,
              "solidity": 0.2
             }
            },
            "type": "bar"
           }
          ],
          "scattergeo": [
           {
            "type": "scattergeo",
            "marker": {
             "colorbar": {
              "outlinewidth": 0,
              "ticks": ""
             }
            }
           }
          ],
          "scatterpolar": [
           {
            "type": "scatterpolar",
            "marker": {
             "colorbar": {
              "outlinewidth": 0,
              "ticks": ""
             }
            }
           }
          ],
          "histogram": [
           {
            "marker": {
             "pattern": {
              "fillmode": "overlay",
              "size": 10,
              "solidity": 0.2
             }
            },
            "type": "histogram"
           }
          ],
          "scattergl": [
           {
            "type": "scattergl",
            "marker": {
             "colorbar": {
              "outlinewidth": 0,
              "ticks": ""
             }
            }
           }
          ],
          "scatter3d": [
           {
            "type": "scatter3d",
            "line": {
             "colorbar": {
              "outlinewidth": 0,
              "ticks": ""
             }
            },
            "marker": {
             "colorbar": {
              "outlinewidth": 0,
              "ticks": ""
             }
            }
           }
          ],
          "scattermapbox": [
           {
            "type": "scattermapbox",
            "marker": {
             "colorbar": {
              "outlinewidth": 0,
              "ticks": ""
             }
            }
           }
          ],
          "scatterternary": [
           {
            "type": "scatterternary",
            "marker": {
             "colorbar": {
              "outlinewidth": 0,
              "ticks": ""
             }
            }
           }
          ],
          "scattercarpet": [
           {
            "type": "scattercarpet",
            "marker": {
             "colorbar": {
              "outlinewidth": 0,
              "ticks": ""
             }
            }
           }
          ],
          "carpet": [
           {
            "aaxis": {
             "endlinecolor": "#2a3f5f",
             "gridcolor": "white",
             "linecolor": "white",
             "minorgridcolor": "white",
             "startlinecolor": "#2a3f5f"
            },
            "baxis": {
             "endlinecolor": "#2a3f5f",
             "gridcolor": "white",
             "linecolor": "white",
             "minorgridcolor": "white",
             "startlinecolor": "#2a3f5f"
            },
            "type": "carpet"
           }
          ],
          "table": [
           {
            "cells": {
             "fill": {
              "color": "#EBF0F8"
             },
             "line": {
              "color": "white"
             }
            },
            "header": {
             "fill": {
              "color": "#C8D4E3"
             },
             "line": {
              "color": "white"
             }
            },
            "type": "table"
           }
          ],
          "barpolar": [
           {
            "marker": {
             "line": {
              "color": "#E5ECF6",
              "width": 0.5
             },
             "pattern": {
              "fillmode": "overlay",
              "size": 10,
              "solidity": 0.2
             }
            },
            "type": "barpolar"
           }
          ],
          "pie": [
           {
            "automargin": true,
            "type": "pie"
           }
          ]
         },
         "layout": {
          "autotypenumbers": "strict",
          "colorway": [
           "#636efa",
           "#EF553B",
           "#00cc96",
           "#ab63fa",
           "#FFA15A",
           "#19d3f3",
           "#FF6692",
           "#B6E880",
           "#FF97FF",
           "#FECB52"
          ],
          "font": {
           "color": "#2a3f5f"
          },
          "hovermode": "closest",
          "hoverlabel": {
           "align": "left"
          },
          "paper_bgcolor": "white",
          "plot_bgcolor": "#E5ECF6",
          "polar": {
           "bgcolor": "#E5ECF6",
           "angularaxis": {
            "gridcolor": "white",
            "linecolor": "white",
            "ticks": ""
           },
           "radialaxis": {
            "gridcolor": "white",
            "linecolor": "white",
            "ticks": ""
           }
          },
          "ternary": {
           "bgcolor": "#E5ECF6",
           "aaxis": {
            "gridcolor": "white",
            "linecolor": "white",
            "ticks": ""
           },
           "baxis": {
            "gridcolor": "white",
            "linecolor": "white",
            "ticks": ""
           },
           "caxis": {
            "gridcolor": "white",
            "linecolor": "white",
            "ticks": ""
           }
          },
          "coloraxis": {
           "colorbar": {
            "outlinewidth": 0,
            "ticks": ""
           }
          },
          "colorscale": {
           "sequential": [
            [
             0.0,
             "#0d0887"
            ],
            [
             0.1111111111111111,
             "#46039f"
            ],
            [
             0.2222222222222222,
             "#7201a8"
            ],
            [
             0.3333333333333333,
             "#9c179e"
            ],
            [
             0.4444444444444444,
             "#bd3786"
            ],
            [
             0.5555555555555556,
             "#d8576b"
            ],
            [
             0.6666666666666666,
             "#ed7953"
            ],
            [
             0.7777777777777778,
             "#fb9f3a"
            ],
            [
             0.8888888888888888,
             "#fdca26"
            ],
            [
             1.0,
             "#f0f921"
            ]
           ],
           "sequentialminus": [
            [
             0.0,
             "#0d0887"
            ],
            [
             0.1111111111111111,
             "#46039f"
            ],
            [
             0.2222222222222222,
             "#7201a8"
            ],
            [
             0.3333333333333333,
             "#9c179e"
            ],
            [
             0.4444444444444444,
             "#bd3786"
            ],
            [
             0.5555555555555556,
             "#d8576b"
            ],
            [
             0.6666666666666666,
             "#ed7953"
            ],
            [
             0.7777777777777778,
             "#fb9f3a"
            ],
            [
             0.8888888888888888,
             "#fdca26"
            ],
            [
             1.0,
             "#f0f921"
            ]
           ],
           "diverging": [
            [
             0,
             "#8e0152"
            ],
            [
             0.1,
             "#c51b7d"
            ],
            [
             0.2,
             "#de77ae"
            ],
            [
             0.3,
             "#f1b6da"
            ],
            [
             0.4,
             "#fde0ef"
            ],
            [
             0.5,
             "#f7f7f7"
            ],
            [
             0.6,
             "#e6f5d0"
            ],
            [
             0.7,
             "#b8e186"
            ],
            [
             0.8,
             "#7fbc41"
            ],
            [
             0.9,
             "#4d9221"
            ],
            [
             1,
             "#276419"
            ]
           ]
          },
          "xaxis": {
           "gridcolor": "white",
           "linecolor": "white",
           "ticks": "",
           "title": {
            "standoff": 15
           },
           "zerolinecolor": "white",
           "automargin": true,
           "zerolinewidth": 2
          },
          "yaxis": {
           "gridcolor": "white",
           "linecolor": "white",
           "ticks": "",
           "title": {
            "standoff": 15
           },
           "zerolinecolor": "white",
           "automargin": true,
           "zerolinewidth": 2
          },
          "scene": {
           "xaxis": {
            "backgroundcolor": "#E5ECF6",
            "gridcolor": "white",
            "linecolor": "white",
            "showbackground": true,
            "ticks": "",
            "zerolinecolor": "white",
            "gridwidth": 2
           },
           "yaxis": {
            "backgroundcolor": "#E5ECF6",
            "gridcolor": "white",
            "linecolor": "white",
            "showbackground": true,
            "ticks": "",
            "zerolinecolor": "white",
            "gridwidth": 2
           },
           "zaxis": {
            "backgroundcolor": "#E5ECF6",
            "gridcolor": "white",
            "linecolor": "white",
            "showbackground": true,
            "ticks": "",
            "zerolinecolor": "white",
            "gridwidth": 2
           }
          },
          "shapedefaults": {
           "line": {
            "color": "#2a3f5f"
           }
          },
          "annotationdefaults": {
           "arrowcolor": "#2a3f5f",
           "arrowhead": 0,
           "arrowwidth": 1
          },
          "geo": {
           "bgcolor": "white",
           "landcolor": "#E5ECF6",
           "subunitcolor": "white",
           "showland": true,
           "showlakes": true,
           "lakecolor": "white"
          },
          "title": {
           "x": 0.05
          },
          "mapbox": {
           "style": "light"
          }
         }
        },
        "xaxis": {
         "anchor": "y",
         "domain": [
          0.0,
          1.0
         ],
         "title": {
          "text": "Test"
         }
        },
        "yaxis": {
         "anchor": "x",
         "domain": [
          0.0,
          1.0
         ],
         "title": {
          "text": "Accuacy"
         }
        },
        "legend": {
         "title": {
          "text": "Task_Train"
         },
         "tracegroupgap": 0
        },
        "margin": {
         "t": 60
        },
        "barmode": "group",
        "coloraxis": {
         "colorscale": [
          [
           0.0,
           "#440154"
          ],
          [
           0.1111111111111111,
           "#482878"
          ],
          [
           0.2222222222222222,
           "#3e4989"
          ],
          [
           0.3333333333333333,
           "#31688e"
          ],
          [
           0.4444444444444444,
           "#26828e"
          ],
          [
           0.5555555555555556,
           "#1f9e89"
          ],
          [
           0.6666666666666666,
           "#35b779"
          ],
          [
           0.7777777777777778,
           "#6ece58"
          ],
          [
           0.8888888888888888,
           "#b5de2b"
          ],
          [
           1.0,
           "#fde725"
          ]
         ]
        },
        "title": {
         "text": "Accuracy Congruent"
        }
       },
       "config": {
        "plotlyServerURL": "https://plot.ly"
       }
      },
      "text/html": "<div>                            <div id=\"6636110f-f617-4f66-a920-204ce4ed426c\" class=\"plotly-graph-div\" style=\"height:525px; width:100%;\"></div>            <script type=\"text/javascript\">                require([\"plotly\"], function(Plotly) {                    window.PLOTLYENV=window.PLOTLYENV || {};                                    if (document.getElementById(\"6636110f-f617-4f66-a920-204ce4ed426c\")) {                    Plotly.newPlot(                        \"6636110f-f617-4f66-a920-204ce4ed426c\",                        [{\"alignmentgroup\":\"True\",\"hovertemplate\":\"Task_Train=colors-count_Average Diameter<br>Task_Test=%{x}<br>Validation Accuracy=%{y}<extra></extra>\",\"legendgroup\":\"colors-count_Average Diameter\",\"marker\":{\"color\":\"#636efa\",\"pattern\":{\"shape\":\"\"}},\"name\":\"colors-count_Average Diameter\",\"offsetgroup\":\"colors-count_Average Diameter\",\"orientation\":\"v\",\"showlegend\":true,\"textposition\":\"auto\",\"x\":[\"colors-count_Average Diameter\",\"colors-count_Convex Hull\",\"colors-count_Total Surface Area\"],\"xaxis\":\"x\",\"y\":[0.825,0.8,0.425],\"yaxis\":\"y\",\"type\":\"bar\"},{\"alignmentgroup\":\"True\",\"hovertemplate\":\"Task_Train=colors-count_Convex Hull<br>Task_Test=%{x}<br>Validation Accuracy=%{y}<extra></extra>\",\"legendgroup\":\"colors-count_Convex Hull\",\"marker\":{\"color\":\"#EF553B\",\"pattern\":{\"shape\":\"\"}},\"name\":\"colors-count_Convex Hull\",\"offsetgroup\":\"colors-count_Convex Hull\",\"orientation\":\"v\",\"showlegend\":true,\"textposition\":\"auto\",\"x\":[\"colors-count_Average Diameter\",\"colors-count_Convex Hull\",\"colors-count_Total Surface Area\"],\"xaxis\":\"x\",\"y\":[0.8083333333333333,0.8333333333333334,0.425],\"yaxis\":\"y\",\"type\":\"bar\"},{\"alignmentgroup\":\"True\",\"hovertemplate\":\"Task_Train=colors-count_Total Surface Area<br>Task_Test=%{x}<br>Validation Accuracy=%{y}<extra></extra>\",\"legendgroup\":\"colors-count_Total Surface Area\",\"marker\":{\"color\":\"#00cc96\",\"pattern\":{\"shape\":\"\"}},\"name\":\"colors-count_Total Surface Area\",\"offsetgroup\":\"colors-count_Total Surface Area\",\"orientation\":\"v\",\"showlegend\":true,\"textposition\":\"auto\",\"x\":[\"colors-count_Average Diameter\",\"colors-count_Convex Hull\",\"colors-count_Total Surface Area\"],\"xaxis\":\"x\",\"y\":[0.19208333333333333,0.20166666666666666,0.8333333333333334],\"yaxis\":\"y\",\"type\":\"bar\"},{\"alignmentgroup\":\"True\",\"hovertemplate\":\"Task_Train=count_Average Diameter<br>Task_Test=%{x}<br>Validation Accuracy=%{y}<extra></extra>\",\"legendgroup\":\"count_Average Diameter\",\"marker\":{\"color\":\"#ab63fa\",\"pattern\":{\"shape\":\"\"}},\"name\":\"count_Average Diameter\",\"offsetgroup\":\"count_Average Diameter\",\"orientation\":\"v\",\"showlegend\":true,\"textposition\":\"auto\",\"x\":[\"count_Average Diameter\",\"count_Convex Hull\",\"count_Total Surface Area\"],\"xaxis\":\"x\",\"y\":[0.8129166666666666,0.84375,0.4879166666666667],\"yaxis\":\"y\",\"type\":\"bar\"},{\"alignmentgroup\":\"True\",\"hovertemplate\":\"Task_Train=count_Convex Hull<br>Task_Test=%{x}<br>Validation Accuracy=%{y}<extra></extra>\",\"legendgroup\":\"count_Convex Hull\",\"marker\":{\"color\":\"#FFA15A\",\"pattern\":{\"shape\":\"\"}},\"name\":\"count_Convex Hull\",\"offsetgroup\":\"count_Convex Hull\",\"orientation\":\"v\",\"showlegend\":true,\"textposition\":\"auto\",\"x\":[\"count_Average Diameter\",\"count_Convex Hull\",\"count_Total Surface Area\"],\"xaxis\":\"x\",\"y\":[0.8329166666666666,0.8345833333333333,0.475],\"yaxis\":\"y\",\"type\":\"bar\"},{\"alignmentgroup\":\"True\",\"hovertemplate\":\"Task_Train=count_Total Surface Area<br>Task_Test=%{x}<br>Validation Accuracy=%{y}<extra></extra>\",\"legendgroup\":\"count_Total Surface Area\",\"marker\":{\"color\":\"#19d3f3\",\"pattern\":{\"shape\":\"\"}},\"name\":\"count_Total Surface Area\",\"offsetgroup\":\"count_Total Surface Area\",\"orientation\":\"v\",\"showlegend\":true,\"textposition\":\"auto\",\"x\":[\"count_Average Diameter\",\"count_Convex Hull\",\"count_Total Surface Area\"],\"xaxis\":\"x\",\"y\":[0.8016666666666666,0.8304166666666667,0.78125],\"yaxis\":\"y\",\"type\":\"bar\"},{\"alignmentgroup\":\"True\",\"hovertemplate\":\"Task_Train=size-count_Average Diameter<br>Task_Test=%{x}<br>Validation Accuracy=%{y}<extra></extra>\",\"legendgroup\":\"size-count_Average Diameter\",\"marker\":{\"color\":\"#FF6692\",\"pattern\":{\"shape\":\"\"}},\"name\":\"size-count_Average Diameter\",\"offsetgroup\":\"size-count_Average Diameter\",\"orientation\":\"v\",\"showlegend\":true,\"textposition\":\"auto\",\"x\":[\"size-count_Average Diameter\",\"size-count_Convex Hull\",\"size-count_Total Surface Area\"],\"xaxis\":\"x\",\"y\":[0.8420833333333333,0.8508333333333333,0.47583333333333333],\"yaxis\":\"y\",\"type\":\"bar\"},{\"alignmentgroup\":\"True\",\"hovertemplate\":\"Task_Train=size-count_Convex Hull<br>Task_Test=%{x}<br>Validation Accuracy=%{y}<extra></extra>\",\"legendgroup\":\"size-count_Convex Hull\",\"marker\":{\"color\":\"#B6E880\",\"pattern\":{\"shape\":\"\"}},\"name\":\"size-count_Convex Hull\",\"offsetgroup\":\"size-count_Convex Hull\",\"orientation\":\"v\",\"showlegend\":true,\"textposition\":\"auto\",\"x\":[\"size-count_Average Diameter\",\"size-count_Convex Hull\",\"size-count_Total Surface Area\"],\"xaxis\":\"x\",\"y\":[0.7991666666666667,0.8004166666666667,0.47750000000000004],\"yaxis\":\"y\",\"type\":\"bar\"},{\"alignmentgroup\":\"True\",\"hovertemplate\":\"Task_Train=size-count_Total Surface Area<br>Task_Test=%{x}<br>Validation Accuracy=%{y}<extra></extra>\",\"legendgroup\":\"size-count_Total Surface Area\",\"marker\":{\"color\":\"#FF97FF\",\"pattern\":{\"shape\":\"\"}},\"name\":\"size-count_Total Surface Area\",\"offsetgroup\":\"size-count_Total Surface Area\",\"orientation\":\"v\",\"showlegend\":true,\"textposition\":\"auto\",\"x\":[\"size-count_Average Diameter\",\"size-count_Convex Hull\",\"size-count_Total Surface Area\"],\"xaxis\":\"x\",\"y\":[0.8333333333333334,0.8583333333333333,0.8083333333333333],\"yaxis\":\"y\",\"type\":\"bar\"}],                        {\"template\":{\"data\":{\"histogram2dcontour\":[{\"type\":\"histogram2dcontour\",\"colorbar\":{\"outlinewidth\":0,\"ticks\":\"\"},\"colorscale\":[[0.0,\"#0d0887\"],[0.1111111111111111,\"#46039f\"],[0.2222222222222222,\"#7201a8\"],[0.3333333333333333,\"#9c179e\"],[0.4444444444444444,\"#bd3786\"],[0.5555555555555556,\"#d8576b\"],[0.6666666666666666,\"#ed7953\"],[0.7777777777777778,\"#fb9f3a\"],[0.8888888888888888,\"#fdca26\"],[1.0,\"#f0f921\"]]}],\"choropleth\":[{\"type\":\"choropleth\",\"colorbar\":{\"outlinewidth\":0,\"ticks\":\"\"}}],\"histogram2d\":[{\"type\":\"histogram2d\",\"colorbar\":{\"outlinewidth\":0,\"ticks\":\"\"},\"colorscale\":[[0.0,\"#0d0887\"],[0.1111111111111111,\"#46039f\"],[0.2222222222222222,\"#7201a8\"],[0.3333333333333333,\"#9c179e\"],[0.4444444444444444,\"#bd3786\"],[0.5555555555555556,\"#d8576b\"],[0.6666666666666666,\"#ed7953\"],[0.7777777777777778,\"#fb9f3a\"],[0.8888888888888888,\"#fdca26\"],[1.0,\"#f0f921\"]]}],\"heatmap\":[{\"type\":\"heatmap\",\"colorbar\":{\"outlinewidth\":0,\"ticks\":\"\"},\"colorscale\":[[0.0,\"#0d0887\"],[0.1111111111111111,\"#46039f\"],[0.2222222222222222,\"#7201a8\"],[0.3333333333333333,\"#9c179e\"],[0.4444444444444444,\"#bd3786\"],[0.5555555555555556,\"#d8576b\"],[0.6666666666666666,\"#ed7953\"],[0.7777777777777778,\"#fb9f3a\"],[0.8888888888888888,\"#fdca26\"],[1.0,\"#f0f921\"]]}],\"heatmapgl\":[{\"type\":\"heatmapgl\",\"colorbar\":{\"outlinewidth\":0,\"ticks\":\"\"},\"colorscale\":[[0.0,\"#0d0887\"],[0.1111111111111111,\"#46039f\"],[0.2222222222222222,\"#7201a8\"],[0.3333333333333333,\"#9c179e\"],[0.4444444444444444,\"#bd3786\"],[0.5555555555555556,\"#d8576b\"],[0.6666666666666666,\"#ed7953\"],[0.7777777777777778,\"#fb9f3a\"],[0.8888888888888888,\"#fdca26\"],[1.0,\"#f0f921\"]]}],\"contourcarpet\":[{\"type\":\"contourcarpet\",\"colorbar\":{\"outlinewidth\":0,\"ticks\":\"\"}}],\"contour\":[{\"type\":\"contour\",\"colorbar\":{\"outlinewidth\":0,\"ticks\":\"\"},\"colorscale\":[[0.0,\"#0d0887\"],[0.1111111111111111,\"#46039f\"],[0.2222222222222222,\"#7201a8\"],[0.3333333333333333,\"#9c179e\"],[0.4444444444444444,\"#bd3786\"],[0.5555555555555556,\"#d8576b\"],[0.6666666666666666,\"#ed7953\"],[0.7777777777777778,\"#fb9f3a\"],[0.8888888888888888,\"#fdca26\"],[1.0,\"#f0f921\"]]}],\"surface\":[{\"type\":\"surface\",\"colorbar\":{\"outlinewidth\":0,\"ticks\":\"\"},\"colorscale\":[[0.0,\"#0d0887\"],[0.1111111111111111,\"#46039f\"],[0.2222222222222222,\"#7201a8\"],[0.3333333333333333,\"#9c179e\"],[0.4444444444444444,\"#bd3786\"],[0.5555555555555556,\"#d8576b\"],[0.6666666666666666,\"#ed7953\"],[0.7777777777777778,\"#fb9f3a\"],[0.8888888888888888,\"#fdca26\"],[1.0,\"#f0f921\"]]}],\"mesh3d\":[{\"type\":\"mesh3d\",\"colorbar\":{\"outlinewidth\":0,\"ticks\":\"\"}}],\"scatter\":[{\"fillpattern\":{\"fillmode\":\"overlay\",\"size\":10,\"solidity\":0.2},\"type\":\"scatter\"}],\"parcoords\":[{\"type\":\"parcoords\",\"line\":{\"colorbar\":{\"outlinewidth\":0,\"ticks\":\"\"}}}],\"scatterpolargl\":[{\"type\":\"scatterpolargl\",\"marker\":{\"colorbar\":{\"outlinewidth\":0,\"ticks\":\"\"}}}],\"bar\":[{\"error_x\":{\"color\":\"#2a3f5f\"},\"error_y\":{\"color\":\"#2a3f5f\"},\"marker\":{\"line\":{\"color\":\"#E5ECF6\",\"width\":0.5},\"pattern\":{\"fillmode\":\"overlay\",\"size\":10,\"solidity\":0.2}},\"type\":\"bar\"}],\"scattergeo\":[{\"type\":\"scattergeo\",\"marker\":{\"colorbar\":{\"outlinewidth\":0,\"ticks\":\"\"}}}],\"scatterpolar\":[{\"type\":\"scatterpolar\",\"marker\":{\"colorbar\":{\"outlinewidth\":0,\"ticks\":\"\"}}}],\"histogram\":[{\"marker\":{\"pattern\":{\"fillmode\":\"overlay\",\"size\":10,\"solidity\":0.2}},\"type\":\"histogram\"}],\"scattergl\":[{\"type\":\"scattergl\",\"marker\":{\"colorbar\":{\"outlinewidth\":0,\"ticks\":\"\"}}}],\"scatter3d\":[{\"type\":\"scatter3d\",\"line\":{\"colorbar\":{\"outlinewidth\":0,\"ticks\":\"\"}},\"marker\":{\"colorbar\":{\"outlinewidth\":0,\"ticks\":\"\"}}}],\"scattermapbox\":[{\"type\":\"scattermapbox\",\"marker\":{\"colorbar\":{\"outlinewidth\":0,\"ticks\":\"\"}}}],\"scatterternary\":[{\"type\":\"scatterternary\",\"marker\":{\"colorbar\":{\"outlinewidth\":0,\"ticks\":\"\"}}}],\"scattercarpet\":[{\"type\":\"scattercarpet\",\"marker\":{\"colorbar\":{\"outlinewidth\":0,\"ticks\":\"\"}}}],\"carpet\":[{\"aaxis\":{\"endlinecolor\":\"#2a3f5f\",\"gridcolor\":\"white\",\"linecolor\":\"white\",\"minorgridcolor\":\"white\",\"startlinecolor\":\"#2a3f5f\"},\"baxis\":{\"endlinecolor\":\"#2a3f5f\",\"gridcolor\":\"white\",\"linecolor\":\"white\",\"minorgridcolor\":\"white\",\"startlinecolor\":\"#2a3f5f\"},\"type\":\"carpet\"}],\"table\":[{\"cells\":{\"fill\":{\"color\":\"#EBF0F8\"},\"line\":{\"color\":\"white\"}},\"header\":{\"fill\":{\"color\":\"#C8D4E3\"},\"line\":{\"color\":\"white\"}},\"type\":\"table\"}],\"barpolar\":[{\"marker\":{\"line\":{\"color\":\"#E5ECF6\",\"width\":0.5},\"pattern\":{\"fillmode\":\"overlay\",\"size\":10,\"solidity\":0.2}},\"type\":\"barpolar\"}],\"pie\":[{\"automargin\":true,\"type\":\"pie\"}]},\"layout\":{\"autotypenumbers\":\"strict\",\"colorway\":[\"#636efa\",\"#EF553B\",\"#00cc96\",\"#ab63fa\",\"#FFA15A\",\"#19d3f3\",\"#FF6692\",\"#B6E880\",\"#FF97FF\",\"#FECB52\"],\"font\":{\"color\":\"#2a3f5f\"},\"hovermode\":\"closest\",\"hoverlabel\":{\"align\":\"left\"},\"paper_bgcolor\":\"white\",\"plot_bgcolor\":\"#E5ECF6\",\"polar\":{\"bgcolor\":\"#E5ECF6\",\"angularaxis\":{\"gridcolor\":\"white\",\"linecolor\":\"white\",\"ticks\":\"\"},\"radialaxis\":{\"gridcolor\":\"white\",\"linecolor\":\"white\",\"ticks\":\"\"}},\"ternary\":{\"bgcolor\":\"#E5ECF6\",\"aaxis\":{\"gridcolor\":\"white\",\"linecolor\":\"white\",\"ticks\":\"\"},\"baxis\":{\"gridcolor\":\"white\",\"linecolor\":\"white\",\"ticks\":\"\"},\"caxis\":{\"gridcolor\":\"white\",\"linecolor\":\"white\",\"ticks\":\"\"}},\"coloraxis\":{\"colorbar\":{\"outlinewidth\":0,\"ticks\":\"\"}},\"colorscale\":{\"sequential\":[[0.0,\"#0d0887\"],[0.1111111111111111,\"#46039f\"],[0.2222222222222222,\"#7201a8\"],[0.3333333333333333,\"#9c179e\"],[0.4444444444444444,\"#bd3786\"],[0.5555555555555556,\"#d8576b\"],[0.6666666666666666,\"#ed7953\"],[0.7777777777777778,\"#fb9f3a\"],[0.8888888888888888,\"#fdca26\"],[1.0,\"#f0f921\"]],\"sequentialminus\":[[0.0,\"#0d0887\"],[0.1111111111111111,\"#46039f\"],[0.2222222222222222,\"#7201a8\"],[0.3333333333333333,\"#9c179e\"],[0.4444444444444444,\"#bd3786\"],[0.5555555555555556,\"#d8576b\"],[0.6666666666666666,\"#ed7953\"],[0.7777777777777778,\"#fb9f3a\"],[0.8888888888888888,\"#fdca26\"],[1.0,\"#f0f921\"]],\"diverging\":[[0,\"#8e0152\"],[0.1,\"#c51b7d\"],[0.2,\"#de77ae\"],[0.3,\"#f1b6da\"],[0.4,\"#fde0ef\"],[0.5,\"#f7f7f7\"],[0.6,\"#e6f5d0\"],[0.7,\"#b8e186\"],[0.8,\"#7fbc41\"],[0.9,\"#4d9221\"],[1,\"#276419\"]]},\"xaxis\":{\"gridcolor\":\"white\",\"linecolor\":\"white\",\"ticks\":\"\",\"title\":{\"standoff\":15},\"zerolinecolor\":\"white\",\"automargin\":true,\"zerolinewidth\":2},\"yaxis\":{\"gridcolor\":\"white\",\"linecolor\":\"white\",\"ticks\":\"\",\"title\":{\"standoff\":15},\"zerolinecolor\":\"white\",\"automargin\":true,\"zerolinewidth\":2},\"scene\":{\"xaxis\":{\"backgroundcolor\":\"#E5ECF6\",\"gridcolor\":\"white\",\"linecolor\":\"white\",\"showbackground\":true,\"ticks\":\"\",\"zerolinecolor\":\"white\",\"gridwidth\":2},\"yaxis\":{\"backgroundcolor\":\"#E5ECF6\",\"gridcolor\":\"white\",\"linecolor\":\"white\",\"showbackground\":true,\"ticks\":\"\",\"zerolinecolor\":\"white\",\"gridwidth\":2},\"zaxis\":{\"backgroundcolor\":\"#E5ECF6\",\"gridcolor\":\"white\",\"linecolor\":\"white\",\"showbackground\":true,\"ticks\":\"\",\"zerolinecolor\":\"white\",\"gridwidth\":2}},\"shapedefaults\":{\"line\":{\"color\":\"#2a3f5f\"}},\"annotationdefaults\":{\"arrowcolor\":\"#2a3f5f\",\"arrowhead\":0,\"arrowwidth\":1},\"geo\":{\"bgcolor\":\"white\",\"landcolor\":\"#E5ECF6\",\"subunitcolor\":\"white\",\"showland\":true,\"showlakes\":true,\"lakecolor\":\"white\"},\"title\":{\"x\":0.05},\"mapbox\":{\"style\":\"light\"}}},\"xaxis\":{\"anchor\":\"y\",\"domain\":[0.0,1.0],\"title\":{\"text\":\"Test\"}},\"yaxis\":{\"anchor\":\"x\",\"domain\":[0.0,1.0],\"title\":{\"text\":\"Accuacy\"}},\"legend\":{\"title\":{\"text\":\"Task_Train\"},\"tracegroupgap\":0},\"margin\":{\"t\":60},\"barmode\":\"group\",\"coloraxis\":{\"colorscale\":[[0.0,\"#440154\"],[0.1111111111111111,\"#482878\"],[0.2222222222222222,\"#3e4989\"],[0.3333333333333333,\"#31688e\"],[0.4444444444444444,\"#26828e\"],[0.5555555555555556,\"#1f9e89\"],[0.6666666666666666,\"#35b779\"],[0.7777777777777778,\"#6ece58\"],[0.8888888888888888,\"#b5de2b\"],[1.0,\"#fde725\"]]},\"title\":{\"text\":\"Accuracy Congruent\"}},                        {\"responsive\": true}                    ).then(function(){\n                            \nvar gd = document.getElementById('6636110f-f617-4f66-a920-204ce4ed426c');\nvar x = new MutationObserver(function (mutations, observer) {{\n        var display = window.getComputedStyle(gd).display;\n        if (!display || display === 'none') {{\n            console.log([gd, 'removed!']);\n            Plotly.purge(gd);\n            observer.disconnect();\n        }}\n}});\n\n// Listen for the removal of the full notebook cells\nvar notebookContainer = gd.closest('#notebook-container');\nif (notebookContainer) {{\n    x.observe(notebookContainer, {childList: true});\n}}\n\n// Listen for the clearing of the current output cell\nvar outputEl = gd.closest('.output');\nif (outputEl) {{\n    x.observe(outputEl, {childList: true});\n}}\n\n                        })                };                });            </script>        </div>"
     },
     "metadata": {},
     "output_type": "display_data"
    }
   ],
   "source": [
    "fig = px.bar(anova_df_for_plots_grouped.query(f\"(Task == 'count' or Task =='size-count' or Task == 'colors-count') and (Congruency == 1)\"), x='Task_Test', y='Validation Accuracy', color='Task_Train', barmode='group')\n",
    "\n",
    "fig.update_layout(\n",
    "    title='Accuracy Congruent',\n",
    "    xaxis_title='Test',\n",
    "    yaxis_title='Accuacy',\n",
    "    coloraxis={'colorscale': 'Viridis'})\n",
    "fig.show()"
   ],
   "metadata": {
    "collapsed": false,
    "pycharm": {
     "name": "#%%\n"
    }
   }
  },
  {
   "cell_type": "code",
   "execution_count": 124,
   "outputs": [
    {
     "data": {
      "text/plain": "[Text(0.5, 1.0, 'Train and Test of different physical properties (Congruent)')]"
     },
     "execution_count": 124,
     "metadata": {},
     "output_type": "execute_result"
    },
    {
     "data": {
      "text/plain": "<Figure size 432x288 with 2 Axes>",
      "image/png": "[encoded data removed]"
     },
     "metadata": {},
     "output_type": "display_data"
    }
   ],
   "source": [
    "df_for_heatmap = anova_df_for_plots_grouped.query(f\"(Task == 'count' or Task =='size-count' or Task == 'colors-count') and (Congruency == 1)\")\n",
    "df_for_heatmap = pd.pivot_table(df_for_heatmap, values='Validation Accuracy', index='Task_Train', columns='Task_Test')\n",
    "sns.heatmap(df_for_heatmap, annot=True, linewidths=.5).set(title=f\"Train and Test of different physical properties (Congruent)\")"
   ],
   "metadata": {
    "collapsed": false,
    "pycharm": {
     "name": "#%%\n"
    }
   }
  },
  {
   "cell_type": "code",
   "execution_count": 123,
   "outputs": [
    {
     "data": {
      "text/plain": "[Text(0.5, 1.0, 'Train and Test of different physical properties (Inongruent)')]"
     },
     "execution_count": 123,
     "metadata": {},
     "output_type": "execute_result"
    },
    {
     "data": {
      "text/plain": "<Figure size 432x288 with 2 Axes>",
      "image/png": "[encoded data removed]"
     },
     "metadata": {},
     "output_type": "display_data"
    }
   ],
   "source": [
    "df_for_heatmap = anova_df_for_plots_grouped.query(f\"(Task == 'count' or Task =='size-count' or Task == 'colors-count') and (Congruency == 0)\")\n",
    "df_for_heatmap = pd.pivot_table(df_for_heatmap, values='Validation Accuracy', index='Task_Train', columns='Task_Test')\n",
    "sns.heatmap(df_for_heatmap, annot=True, linewidths=.5).set(title=f\"Train and Test of different physical properties (Inongruent)\")"
   ],
   "metadata": {
    "collapsed": false,
    "pycharm": {
     "name": "#%%\n"
    }
   }
  },
  {
   "cell_type": "code",
   "execution_count": 126,
   "outputs": [
    {
     "ename": "ValueError",
     "evalue": "zero-size array to reduction operation fmin which has no identity",
     "output_type": "error",
     "traceback": [
      "\u001B[0;31m---------------------------------------------------------------------------\u001B[0m",
      "\u001B[0;31mValueError\u001B[0m                                Traceback (most recent call last)",
      "Input \u001B[0;32mIn [126]\u001B[0m, in \u001B[0;36m<cell line: 3>\u001B[0;34m()\u001B[0m\n\u001B[1;32m      1\u001B[0m df_for_heatmap \u001B[38;5;241m=\u001B[39m anova_df_for_plots_grouped\u001B[38;5;241m.\u001B[39mquery(\u001B[38;5;124mf\u001B[39m\u001B[38;5;124m\"\u001B[39m\u001B[38;5;124m(Task == \u001B[39m\u001B[38;5;124m'\u001B[39m\u001B[38;5;124msize\u001B[39m\u001B[38;5;124m'\u001B[39m\u001B[38;5;124m or Task ==\u001B[39m\u001B[38;5;124m'\u001B[39m\u001B[38;5;124mcount-size\u001B[39m\u001B[38;5;124m'\u001B[39m\u001B[38;5;124m) and (Congruency == 1)\u001B[39m\u001B[38;5;124m\"\u001B[39m)\n\u001B[1;32m      2\u001B[0m df_for_heatmap \u001B[38;5;241m=\u001B[39m pd\u001B[38;5;241m.\u001B[39mpivot_table(df_for_heatmap, values\u001B[38;5;241m=\u001B[39m\u001B[38;5;124m'\u001B[39m\u001B[38;5;124mValidation Accuracy\u001B[39m\u001B[38;5;124m'\u001B[39m, index\u001B[38;5;241m=\u001B[39m\u001B[38;5;124m'\u001B[39m\u001B[38;5;124mTask_Train\u001B[39m\u001B[38;5;124m'\u001B[39m, columns\u001B[38;5;241m=\u001B[39m\u001B[38;5;124m'\u001B[39m\u001B[38;5;124mTask_Test\u001B[39m\u001B[38;5;124m'\u001B[39m)\n\u001B[0;32m----> 3\u001B[0m \u001B[43msns\u001B[49m\u001B[38;5;241;43m.\u001B[39;49m\u001B[43mheatmap\u001B[49m\u001B[43m(\u001B[49m\u001B[43mdf_for_heatmap\u001B[49m\u001B[43m,\u001B[49m\u001B[43m \u001B[49m\u001B[43mannot\u001B[49m\u001B[38;5;241;43m=\u001B[39;49m\u001B[38;5;28;43;01mTrue\u001B[39;49;00m\u001B[43m,\u001B[49m\u001B[43m \u001B[49m\u001B[43mlinewidths\u001B[49m\u001B[38;5;241;43m=\u001B[39;49m\u001B[38;5;241;43m.5\u001B[39;49m\u001B[43m)\u001B[49m\u001B[38;5;241m.\u001B[39mset(title\u001B[38;5;241m=\u001B[39m\u001B[38;5;124mf\u001B[39m\u001B[38;5;124m\"\u001B[39m\u001B[38;5;124mSize Perception tasks: Train and Test of different physical properties (Congruent)\u001B[39m\u001B[38;5;124m\"\u001B[39m)\n",
      "File \u001B[0;32m~/phd/phd_2021/venv/lib/python3.8/site-packages/seaborn/matrix.py:446\u001B[0m, in \u001B[0;36mheatmap\u001B[0;34m(data, vmin, vmax, cmap, center, robust, annot, fmt, annot_kws, linewidths, linecolor, cbar, cbar_kws, cbar_ax, square, xticklabels, yticklabels, mask, ax, **kwargs)\u001B[0m\n\u001B[1;32m    365\u001B[0m \u001B[38;5;124;03m\"\"\"Plot rectangular data as a color-encoded matrix.\u001B[39;00m\n\u001B[1;32m    366\u001B[0m \n\u001B[1;32m    367\u001B[0m \u001B[38;5;124;03mThis is an Axes-level function and will draw the heatmap into the\u001B[39;00m\n\u001B[0;32m   (...)\u001B[0m\n\u001B[1;32m    443\u001B[0m \n\u001B[1;32m    444\u001B[0m \u001B[38;5;124;03m\"\"\"\u001B[39;00m\n\u001B[1;32m    445\u001B[0m \u001B[38;5;66;03m# Initialize the plotter object\u001B[39;00m\n\u001B[0;32m--> 446\u001B[0m plotter \u001B[38;5;241m=\u001B[39m \u001B[43m_HeatMapper\u001B[49m\u001B[43m(\u001B[49m\u001B[43mdata\u001B[49m\u001B[43m,\u001B[49m\u001B[43m \u001B[49m\u001B[43mvmin\u001B[49m\u001B[43m,\u001B[49m\u001B[43m \u001B[49m\u001B[43mvmax\u001B[49m\u001B[43m,\u001B[49m\u001B[43m \u001B[49m\u001B[43mcmap\u001B[49m\u001B[43m,\u001B[49m\u001B[43m \u001B[49m\u001B[43mcenter\u001B[49m\u001B[43m,\u001B[49m\u001B[43m \u001B[49m\u001B[43mrobust\u001B[49m\u001B[43m,\u001B[49m\u001B[43m \u001B[49m\u001B[43mannot\u001B[49m\u001B[43m,\u001B[49m\u001B[43m \u001B[49m\u001B[43mfmt\u001B[49m\u001B[43m,\u001B[49m\n\u001B[1;32m    447\u001B[0m \u001B[43m                      \u001B[49m\u001B[43mannot_kws\u001B[49m\u001B[43m,\u001B[49m\u001B[43m \u001B[49m\u001B[43mcbar\u001B[49m\u001B[43m,\u001B[49m\u001B[43m \u001B[49m\u001B[43mcbar_kws\u001B[49m\u001B[43m,\u001B[49m\u001B[43m \u001B[49m\u001B[43mxticklabels\u001B[49m\u001B[43m,\u001B[49m\n\u001B[1;32m    448\u001B[0m \u001B[43m                      \u001B[49m\u001B[43myticklabels\u001B[49m\u001B[43m,\u001B[49m\u001B[43m \u001B[49m\u001B[43mmask\u001B[49m\u001B[43m)\u001B[49m\n\u001B[1;32m    450\u001B[0m \u001B[38;5;66;03m# Add the pcolormesh kwargs here\u001B[39;00m\n\u001B[1;32m    451\u001B[0m kwargs[\u001B[38;5;124m\"\u001B[39m\u001B[38;5;124mlinewidths\u001B[39m\u001B[38;5;124m\"\u001B[39m] \u001B[38;5;241m=\u001B[39m linewidths\n",
      "File \u001B[0;32m~/phd/phd_2021/venv/lib/python3.8/site-packages/seaborn/matrix.py:163\u001B[0m, in \u001B[0;36m_HeatMapper.__init__\u001B[0;34m(self, data, vmin, vmax, cmap, center, robust, annot, fmt, annot_kws, cbar, cbar_kws, xticklabels, yticklabels, mask)\u001B[0m\n\u001B[1;32m    160\u001B[0m \u001B[38;5;28mself\u001B[39m\u001B[38;5;241m.\u001B[39mylabel \u001B[38;5;241m=\u001B[39m ylabel \u001B[38;5;28;01mif\u001B[39;00m ylabel \u001B[38;5;129;01mis\u001B[39;00m \u001B[38;5;129;01mnot\u001B[39;00m \u001B[38;5;28;01mNone\u001B[39;00m \u001B[38;5;28;01melse\u001B[39;00m \u001B[38;5;124m\"\u001B[39m\u001B[38;5;124m\"\u001B[39m\n\u001B[1;32m    162\u001B[0m \u001B[38;5;66;03m# Determine good default values for the colormapping\u001B[39;00m\n\u001B[0;32m--> 163\u001B[0m \u001B[38;5;28;43mself\u001B[39;49m\u001B[38;5;241;43m.\u001B[39;49m\u001B[43m_determine_cmap_params\u001B[49m\u001B[43m(\u001B[49m\u001B[43mplot_data\u001B[49m\u001B[43m,\u001B[49m\u001B[43m \u001B[49m\u001B[43mvmin\u001B[49m\u001B[43m,\u001B[49m\u001B[43m \u001B[49m\u001B[43mvmax\u001B[49m\u001B[43m,\u001B[49m\n\u001B[1;32m    164\u001B[0m \u001B[43m                            \u001B[49m\u001B[43mcmap\u001B[49m\u001B[43m,\u001B[49m\u001B[43m \u001B[49m\u001B[43mcenter\u001B[49m\u001B[43m,\u001B[49m\u001B[43m \u001B[49m\u001B[43mrobust\u001B[49m\u001B[43m)\u001B[49m\n\u001B[1;32m    166\u001B[0m \u001B[38;5;66;03m# Sort out the annotations\u001B[39;00m\n\u001B[1;32m    167\u001B[0m \u001B[38;5;28;01mif\u001B[39;00m annot \u001B[38;5;129;01mis\u001B[39;00m \u001B[38;5;28;01mNone\u001B[39;00m \u001B[38;5;129;01mor\u001B[39;00m annot \u001B[38;5;129;01mis\u001B[39;00m \u001B[38;5;28;01mFalse\u001B[39;00m:\n",
      "File \u001B[0;32m~/phd/phd_2021/venv/lib/python3.8/site-packages/seaborn/matrix.py:202\u001B[0m, in \u001B[0;36m_HeatMapper._determine_cmap_params\u001B[0;34m(self, plot_data, vmin, vmax, cmap, center, robust)\u001B[0m\n\u001B[1;32m    200\u001B[0m         vmin \u001B[38;5;241m=\u001B[39m np\u001B[38;5;241m.\u001B[39mnanpercentile(calc_data, \u001B[38;5;241m2\u001B[39m)\n\u001B[1;32m    201\u001B[0m     \u001B[38;5;28;01melse\u001B[39;00m:\n\u001B[0;32m--> 202\u001B[0m         vmin \u001B[38;5;241m=\u001B[39m \u001B[43mnp\u001B[49m\u001B[38;5;241;43m.\u001B[39;49m\u001B[43mnanmin\u001B[49m\u001B[43m(\u001B[49m\u001B[43mcalc_data\u001B[49m\u001B[43m)\u001B[49m\n\u001B[1;32m    203\u001B[0m \u001B[38;5;28;01mif\u001B[39;00m vmax \u001B[38;5;129;01mis\u001B[39;00m \u001B[38;5;28;01mNone\u001B[39;00m:\n\u001B[1;32m    204\u001B[0m     \u001B[38;5;28;01mif\u001B[39;00m robust:\n",
      "File \u001B[0;32m<__array_function__ internals>:180\u001B[0m, in \u001B[0;36mnanmin\u001B[0;34m(*args, **kwargs)\u001B[0m\n",
      "File \u001B[0;32m~/phd/phd_2021/venv/lib/python3.8/site-packages/numpy/lib/nanfunctions.py:343\u001B[0m, in \u001B[0;36mnanmin\u001B[0;34m(a, axis, out, keepdims, initial, where)\u001B[0m\n\u001B[1;32m    338\u001B[0m     kwargs[\u001B[38;5;124m'\u001B[39m\u001B[38;5;124mwhere\u001B[39m\u001B[38;5;124m'\u001B[39m] \u001B[38;5;241m=\u001B[39m where\n\u001B[1;32m    340\u001B[0m \u001B[38;5;28;01mif\u001B[39;00m \u001B[38;5;28mtype\u001B[39m(a) \u001B[38;5;129;01mis\u001B[39;00m np\u001B[38;5;241m.\u001B[39mndarray \u001B[38;5;129;01mand\u001B[39;00m a\u001B[38;5;241m.\u001B[39mdtype \u001B[38;5;241m!=\u001B[39m np\u001B[38;5;241m.\u001B[39mobject_:\n\u001B[1;32m    341\u001B[0m     \u001B[38;5;66;03m# Fast, but not safe for subclasses of ndarray, or object arrays,\u001B[39;00m\n\u001B[1;32m    342\u001B[0m     \u001B[38;5;66;03m# which do not implement isnan (gh-9009), or fmin correctly (gh-8975)\u001B[39;00m\n\u001B[0;32m--> 343\u001B[0m     res \u001B[38;5;241m=\u001B[39m \u001B[43mnp\u001B[49m\u001B[38;5;241;43m.\u001B[39;49m\u001B[43mfmin\u001B[49m\u001B[38;5;241;43m.\u001B[39;49m\u001B[43mreduce\u001B[49m\u001B[43m(\u001B[49m\u001B[43ma\u001B[49m\u001B[43m,\u001B[49m\u001B[43m \u001B[49m\u001B[43maxis\u001B[49m\u001B[38;5;241;43m=\u001B[39;49m\u001B[43maxis\u001B[49m\u001B[43m,\u001B[49m\u001B[43m \u001B[49m\u001B[43mout\u001B[49m\u001B[38;5;241;43m=\u001B[39;49m\u001B[43mout\u001B[49m\u001B[43m,\u001B[49m\u001B[43m \u001B[49m\u001B[38;5;241;43m*\u001B[39;49m\u001B[38;5;241;43m*\u001B[39;49m\u001B[43mkwargs\u001B[49m\u001B[43m)\u001B[49m\n\u001B[1;32m    344\u001B[0m     \u001B[38;5;28;01mif\u001B[39;00m np\u001B[38;5;241m.\u001B[39misnan(res)\u001B[38;5;241m.\u001B[39many():\n\u001B[1;32m    345\u001B[0m         warnings\u001B[38;5;241m.\u001B[39mwarn(\u001B[38;5;124m\"\u001B[39m\u001B[38;5;124mAll-NaN slice encountered\u001B[39m\u001B[38;5;124m\"\u001B[39m, \u001B[38;5;167;01mRuntimeWarning\u001B[39;00m,\n\u001B[1;32m    346\u001B[0m                       stacklevel\u001B[38;5;241m=\u001B[39m\u001B[38;5;241m3\u001B[39m)\n",
      "\u001B[0;31mValueError\u001B[0m: zero-size array to reduction operation fmin which has no identity"
     ]
    }
   ],
   "source": [
    "df_for_heatmap = anova_df_for_plots_grouped.query(f\"(Task == 'size' or Task =='count-size') and (Congruency == 1)\")\n",
    "df_for_heatmap = pd.pivot_table(df_for_heatmap, values='Validation Accuracy', index='Task_Train', columns='Task_Test')\n",
    "sns.heatmap(df_for_heatmap, annot=True, linewidths=.5).set(title=f\"Size Perception tasks: Train and Test of different physical properties (Congruent)\")"
   ],
   "metadata": {
    "collapsed": false,
    "pycharm": {
     "name": "#%%\n"
    }
   }
  },
  {
   "cell_type": "markdown",
   "source": [
    "|Prepare ANOVA file for R"
   ],
   "metadata": {
    "collapsed": false,
    "pycharm": {
     "name": "#%% md\n"
    }
   }
  },
  {
   "cell_type": "code",
   "execution_count": 61,
   "outputs": [
    {
     "ename": "ValueError",
     "evalue": "within and between factors must both be strings referring to a column in the data. Specifying multiple within and between factors is currently not supported. For more information, see: https://github.com/raphaelvallat/pingouin/issues/136",
     "output_type": "error",
     "traceback": [
      "\u001B[0;31m---------------------------------------------------------------------------\u001B[0m",
      "\u001B[0;31mValueError\u001B[0m                                Traceback (most recent call last)",
      "Input \u001B[0;32mIn [61]\u001B[0m, in \u001B[0;36m<cell line: 3>\u001B[0;34m()\u001B[0m\n\u001B[1;32m      1\u001B[0m \u001B[38;5;28;01mimport\u001B[39;00m \u001B[38;5;21;01mpingouin\u001B[39;00m \u001B[38;5;28;01mas\u001B[39;00m \u001B[38;5;21;01mpg\u001B[39;00m\n\u001B[1;32m      2\u001B[0m \u001B[38;5;28;01mfrom\u001B[39;00m \u001B[38;5;21;01mdfply\u001B[39;00m \u001B[38;5;28;01mimport\u001B[39;00m \u001B[38;5;241m*\u001B[39m\n\u001B[0;32m----> 3\u001B[0m anova_results \u001B[38;5;241m=\u001B[39m \u001B[43mpg\u001B[49m\u001B[38;5;241;43m.\u001B[39;49m\u001B[43mmixed_anova\u001B[49m\u001B[43m(\u001B[49m\u001B[43mdv\u001B[49m\u001B[38;5;241;43m=\u001B[39;49m\u001B[38;5;124;43m'\u001B[39;49m\u001B[38;5;124;43mValidation Accuracy\u001B[39;49m\u001B[38;5;124;43m'\u001B[39;49m\u001B[43m,\u001B[49m\u001B[43m \u001B[49m\u001B[43mbetween\u001B[49m\u001B[38;5;241;43m=\u001B[39;49m\u001B[43m[\u001B[49m\u001B[38;5;124;43m'\u001B[39;49m\u001B[38;5;124;43mTask\u001B[39;49m\u001B[38;5;124;43m'\u001B[39;49m\u001B[43m,\u001B[49m\u001B[43m \u001B[49m\u001B[38;5;124;43m'\u001B[39;49m\u001B[38;5;124;43mTrain\u001B[39;49m\u001B[38;5;124;43m'\u001B[39;49m\u001B[43m]\u001B[49m\u001B[43m,\u001B[49m\u001B[43m \u001B[49m\u001B[43mwithin\u001B[49m\u001B[38;5;241;43m=\u001B[39;49m\u001B[43m[\u001B[49m\u001B[38;5;124;43m'\u001B[39;49m\u001B[38;5;124;43mTest\u001B[39;49m\u001B[38;5;124;43m'\u001B[39;49m\u001B[43m,\u001B[49m\u001B[43m \u001B[49m\u001B[38;5;124;43m'\u001B[39;49m\u001B[38;5;124;43mCongruency\u001B[39;49m\u001B[38;5;124;43m'\u001B[39;49m\u001B[43m,\u001B[49m\u001B[43m \u001B[49m\u001B[38;5;124;43m'\u001B[39;49m\u001B[38;5;124;43mRatio\u001B[39;49m\u001B[38;5;124;43m'\u001B[39;49m\u001B[43m]\u001B[49m\u001B[43m,\u001B[49m\u001B[43m \u001B[49m\u001B[43msubject\u001B[49m\u001B[38;5;241;43m=\u001B[39;49m\u001B[38;5;124;43m'\u001B[39;49m\u001B[38;5;124;43mUNIQUE_SUBJECT_UID\u001B[39;49m\u001B[38;5;124;43m'\u001B[39;49m\u001B[43m,\u001B[49m\u001B[43m \u001B[49m\u001B[43mdata\u001B[49m\u001B[38;5;241;43m=\u001B[39;49m\u001B[43manova_df\u001B[49m\u001B[43m)\u001B[49m\n",
      "File \u001B[0;32m~/phd/phd_2021/venv/lib/python3.8/site-packages/pingouin/parametric.py:1468\u001B[0m, in \u001B[0;36mmixed_anova\u001B[0;34m(data, dv, within, subject, between, correction, effsize)\u001B[0m\n\u001B[1;32m   1466\u001B[0m both_are_str \u001B[38;5;241m=\u001B[39m \u001B[38;5;28misinstance\u001B[39m(within, (\u001B[38;5;28mstr\u001B[39m, \u001B[38;5;28mint\u001B[39m)) \u001B[38;5;129;01mand\u001B[39;00m \u001B[38;5;28misinstance\u001B[39m(between, (\u001B[38;5;28mstr\u001B[39m, \u001B[38;5;28mint\u001B[39m))\n\u001B[1;32m   1467\u001B[0m \u001B[38;5;28;01mif\u001B[39;00m one_is_list \u001B[38;5;129;01mor\u001B[39;00m \u001B[38;5;129;01mnot\u001B[39;00m both_are_str:\n\u001B[0;32m-> 1468\u001B[0m     \u001B[38;5;28;01mraise\u001B[39;00m \u001B[38;5;167;01mValueError\u001B[39;00m(\n\u001B[1;32m   1469\u001B[0m         \u001B[38;5;124m\"\u001B[39m\u001B[38;5;124mwithin and between factors must both be strings referring to a column in the data. \u001B[39m\u001B[38;5;124m\"\u001B[39m\n\u001B[1;32m   1470\u001B[0m         \u001B[38;5;124m\"\u001B[39m\u001B[38;5;124mSpecifying multiple within and between factors is currently not supported. \u001B[39m\u001B[38;5;124m\"\u001B[39m\n\u001B[1;32m   1471\u001B[0m         \u001B[38;5;124m\"\u001B[39m\u001B[38;5;124mFor more information, see: https://github.com/raphaelvallat/pingouin/issues/136\u001B[39m\u001B[38;5;124m\"\u001B[39m\n\u001B[1;32m   1472\u001B[0m     )\n\u001B[1;32m   1474\u001B[0m \u001B[38;5;66;03m# Check data\u001B[39;00m\n\u001B[1;32m   1475\u001B[0m data \u001B[38;5;241m=\u001B[39m _check_dataframe(\n\u001B[1;32m   1476\u001B[0m     dv\u001B[38;5;241m=\u001B[39mdv, within\u001B[38;5;241m=\u001B[39mwithin, between\u001B[38;5;241m=\u001B[39mbetween, data\u001B[38;5;241m=\u001B[39mdata, subject\u001B[38;5;241m=\u001B[39msubject, effects\u001B[38;5;241m=\u001B[39m\u001B[38;5;124m\"\u001B[39m\u001B[38;5;124minteraction\u001B[39m\u001B[38;5;124m\"\u001B[39m\n\u001B[1;32m   1477\u001B[0m )\n",
      "\u001B[0;31mValueError\u001B[0m: within and between factors must both be strings referring to a column in the data. Specifying multiple within and between factors is currently not supported. For more information, see: https://github.com/raphaelvallat/pingouin/issues/136"
     ]
    }
   ],
   "source": [
    "import pingouin as pg\n",
    "from dfply import *\n",
    "anova_results = pg.mixed_anova(dv='Validation Accuracy', between=['Task', 'Train'], within=['Test', 'Congruency', 'Ratio'], subject='UNIQUE_SUBJECT_UID', data=anova_df)"
   ],
   "metadata": {
    "collapsed": false,
    "pycharm": {
     "name": "#%%\n"
    }
   }
  },
  {
   "cell_type": "code",
   "execution_count": null,
   "outputs": [],
   "source": [
    "model = ols(\"\"\"Val_Accuracy ~ C(program) + C(gender) + C(division) +\n",
    "               C(program):C(gender) + C(program):C(division) + C(gender):C(division) +\n",
    "               C(program):C(gender):C(division)\"\"\", data=df).fit()\n",
    "\n",
    "sm.stats.anova_lm(model, typ=2)"
   ],
   "metadata": {
    "collapsed": false,
    "pycharm": {
     "name": "#%%\n"
    }
   }
  }
 ],
 "metadata": {
  "kernelspec": {
   "display_name": "Python 3",
   "language": "python",
   "name": "python3"
  },
  "language_info": {
   "codemirror_mode": {
    "name": "ipython",
    "version": 2
   },
   "file_extension": ".py",
   "mimetype": "text/x-python",
   "name": "python",
   "nbconvert_exporter": "python",
   "pygments_lexer": "ipython2",
   "version": "2.7.6"
  }
 },
 "nbformat": 4,
 "nbformat_minor": 0
}