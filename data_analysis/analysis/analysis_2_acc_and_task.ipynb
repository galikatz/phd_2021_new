{
 "cells": [
  {
   "cell_type": "code",
   "execution_count": 1,
   "metadata": {
    "collapsed": true,
    "pycharm": {
     "name": "#%%\n"
    }
   },
   "outputs": [],
   "source": [
    "import pandas as pd\n",
    "import os\n",
    "import glob\n",
    "import plotly.express as px\n",
    "from plotly.subplots import make_subplots\n",
    "import plotly.graph_objects as go\n",
    "import numpy as np\n",
    "import matplotlib.pyplot as plt\n",
    "import seaborn as sns\n",
    "import statsmodels.api as sm\n",
    "from statsmodels.formula.api import ols\n",
    "from bioinfokit.analys import stat\n",
    "\n",
    "sns.set_theme()\n",
    "sns.set(font_scale=1)\n",
    "\n",
    "EPSILON = 0.001\n",
    "PHYS_PROPERTY = {'equate_1':'Average Diameter', 'equate_2': 'Total Surface Area', 'equate_3': 'Convex Hull'}\n",
    "PHYS_PROPERTY_TO_NUM = {'Average Diameter':1, 'Total Surface Area':2, 'Convex Hull': 3}\n",
    "EXPERIMENTS = ['size', 'count', 'size-count', 'count-size', 'colors', 'colors-count']\n",
    "CONGRUENT_COLUMNS = ['Ratio 50 Congruent Validation Accuracy',\n",
    "                     'Ratio 56 Congruent Validation Accuracy',\n",
    "                     'Ratio 63 Congruent Validation Accuracy',\n",
    "                     'Ratio 71 Congruent Validation Accuracy',\n",
    "                     'Ratio 75 Congruent Validation Accuracy',\n",
    "                     'Ratio 86 Congruent Validation Accuracy']\n",
    "INCONGRUENT_COLUMNS = ['Ratio 50 Incongruent Validation Accuracy',\n",
    "                     'Ratio 56 Incongruent Validation Accuracy',\n",
    "                     'Ratio 63 Incongruent Validation Accuracy',\n",
    "                     'Ratio 71 Incongruent Validation Accuracy',\n",
    "                     'Ratio 75 Incongruent Validation Accuracy',\n",
    "                     'Ratio 86 Incongruent Validation Accuracy']\n",
    "STD_FILTER = 2\n",
    "CONGRUENT_VALUE = 1\n",
    "INCONGRUENT_VALUE = 0\n",
    "CONGRUENCY = {CONGRUENT_VALUE: \"Congruent\", INCONGRUENT_VALUE: \"Incongruent\"}"
   ]
  },
  {
   "cell_type": "code",
   "execution_count": 2,
   "outputs": [],
   "source": [
    "def plot_multiple_traces(fig, data, x, y, y2, y3, y4, row, col, subtitle_index, subtitle):\n",
    "    fig.add_trace(\n",
    "        go.Scatter(x=data[x], y=data[y], name=y),\n",
    "        row=row, col=col,\n",
    "        secondary_y=False,\n",
    "    )\n",
    "    fig.add_trace(\n",
    "        go.Scatter(x=data[x], y=data[y2], name=y2),\n",
    "        row=row, col=col,\n",
    "        secondary_y=True,\n",
    "    )\n",
    "\n",
    "    fig.add_trace(\n",
    "        go.Scatter(x=data[x], y=data[y3], name=y3),\n",
    "        row=row, col=col,\n",
    "        secondary_y=False,\n",
    "    )\n",
    "\n",
    "    fig.add_trace(\n",
    "        go.Scatter(x=data[x], y=data[y4], name=y4),\n",
    "        row=row, col=col,\n",
    "        secondary_y=True,\n",
    "    )\n",
    "\n",
    "    fig.layout.annotations[subtitle_index].update(text=subtitle)"
   ],
   "metadata": {
    "collapsed": false,
    "pycharm": {
     "name": "#%%\n"
    }
   }
  },
  {
   "cell_type": "code",
   "execution_count": 3,
   "outputs": [],
   "source": [
    "def plot_graph(data, title, x, y, y2, color=None, is_line_plot=True):\n",
    "    if color:\n",
    "        fig = make_subplots(specs=[[{\"secondary_y\": True}]])\n",
    "        if is_line_plot:\n",
    "            fig.add_trace(\n",
    "            go.Scatter(x=data[x], y=data[y], name=y),\n",
    "            secondary_y=False,\n",
    "        )\n",
    "            if y2:\n",
    "                fig.add_trace(\n",
    "                    go.Scatter(x=data[x], y=data[y2], name=y2),\n",
    "                    secondary_y=True,\n",
    "                )\n",
    "        else:\n",
    "            fig = px.histogram(data, x=x, y=y, color=color,  barmode='group', text_auto=True, color_discrete_sequence = px.colors.qualitative.Safe)\n",
    "    else:\n",
    "        if is_line_plot:\n",
    "            fig = px.line(data, x=x, y=y)\n",
    "        else:\n",
    "            fig = px.histogram(data, x=x, y=y, color=color,  barmode='group', text_auto=True, color_discrete_sequence = px.colors.qualitative.Safe)\n",
    "    fig.update_layout(\n",
    "        title=title,\n",
    "        xaxis_title=x,\n",
    "        yaxis_title=y,)\n",
    "        # coloraxis={'colorscale': 'Viridis'})\n",
    "    fig.show()"
   ],
   "metadata": {
    "collapsed": false,
    "pycharm": {
     "name": "#%%\n"
    }
   }
  },
  {
   "cell_type": "code",
   "execution_count": 4,
   "outputs": [],
   "source": [
    "def split_train_test_results(files_names):\n",
    "    tests = []\n",
    "    for file in files_names:\n",
    "        if \"Tested_on\" in file:\n",
    "            tests.append(file)\n",
    "        else:\n",
    "            train = file\n",
    "    return tests, train"
   ],
   "metadata": {
    "collapsed": false,
    "pycharm": {
     "name": "#%%\n"
    }
   }
  },
  {
   "cell_type": "markdown",
   "source": [
    "Train and test result files as a dict"
   ],
   "metadata": {
    "collapsed": false,
    "pycharm": {
     "name": "#%% md\n"
    }
   }
  },
  {
   "cell_type": "code",
   "execution_count": 5,
   "outputs": [],
   "source": [
    "PATH = \"/Users/gali.k/phd/phd_2021/results\"\n",
    "result_dict = {}\n",
    "for equate in PHYS_PROPERTY.keys():\n",
    "    equate_dict = {}\n",
    "    for experiment in EXPERIMENTS:\n",
    "        curr_results_path = PATH + os.sep + equate + os.sep + experiment\n",
    "        result_file_names = glob.glob(curr_results_path + os.sep + f\"Results_*.csv\")\n",
    "        if len(result_file_names) > 0:\n",
    "            tests, training_result_file_name = split_train_test_results(result_file_names)\n",
    "            testing_file_name1 = tests[0]\n",
    "            testing_file_name2 = tests[1]\n",
    "            training_result_df =  pd.read_csv(training_result_file_name)\n",
    "            testing_file_1_df =  pd.read_csv(testing_file_name1)\n",
    "            testing_file_1_df['Tested_On_Equate'] = testing_file_name1[testing_file_name1.find('Tested_on'): testing_file_name1.find('AvgAccuracy')-1].replace('Tested_on_Equate', 'equate')\n",
    "            testing_file_2_df =  pd.read_csv(testing_file_name2)\n",
    "            testing_file_2_df['Tested_On_Equate'] = testing_file_name2[testing_file_name2.find('Tested_on'): testing_file_name2.find('AvgAccuracy')-1].replace('Tested_on_Equate', 'equate')\n",
    "\n",
    "            equate_dict.update({experiment: { \"train\" : training_result_df,\n",
    "                                \"test_1\": testing_file_1_df,\n",
    "                                \"test_2\": testing_file_2_df}})\n",
    "            result_dict.update({equate: equate_dict})"
   ],
   "metadata": {
    "collapsed": false,
    "pycharm": {
     "name": "#%%\n"
    }
   }
  },
  {
   "cell_type": "code",
   "execution_count": 7,
   "outputs": [],
   "source": [
    "def add_congruency(df):\n",
    "    column_names = list(df.columns)\n",
    "    new_df = pd.DataFrame()\n",
    "    for col in column_names:\n",
    "        curr_df = pd.DataFrame()\n",
    "        if \"Incongruent\" in col:\n",
    "            curr_df[col.replace('Incongruent', '')] = df[col]\n",
    "            curr_df[\"Congruency\"] = 0\n",
    "        elif \"Congruent\" in col:\n",
    "            curr_df[col.replace('Congruent', '')] = df[col]\n",
    "            curr_df[\"Congruency\"] = 1\n",
    "        else:\n",
    "           curr_df[col] = df[col]\n",
    "        new_df = pd.concat([new_df, curr_df])\n",
    "    return new_df"
   ],
   "metadata": {
    "collapsed": false,
    "pycharm": {
     "name": "#%%\n"
    }
   }
  },
  {
   "cell_type": "markdown",
   "source": [
    "Analysis #1: Trained on stimuli X and tested on Y"
   ],
   "metadata": {
    "collapsed": false,
    "pycharm": {
     "name": "#%% md\n"
    }
   }
  },
  {
   "cell_type": "code",
   "execution_count": 8,
   "outputs": [],
   "source": [
    "def process_df(agg_df, curr_df, trained_on, tested_on, task):\n",
    "    last_gen = curr_df['Generations'].max()\n",
    "\n",
    "    columns_to_keep = CONGRUENT_COLUMNS.copy()\n",
    "    columns_to_keep.append('Subject_UID')\n",
    "    cong_df = curr_df.query(f\"Generations == {last_gen}\")[columns_to_keep]\n",
    "    cong_df['Congruency'] = CONGRUENT_VALUE\n",
    "\n",
    "    columns_to_keep = INCONGRUENT_COLUMNS.copy()\n",
    "    columns_to_keep.append('Subject_UID')\n",
    "    incong_df = curr_df.query(f\"Generations == {last_gen}\")[columns_to_keep]\n",
    "    incong_df['Congruency'] = INCONGRUENT_VALUE\n",
    "\n",
    "    validation_acc_cong = pd.DataFrame()\n",
    "\n",
    "    validation_acc_cong['Validation Accuracy'] = [cong_df[CONGRUENT_COLUMNS].mean().reset_index()[0].mean()]\n",
    "    validation_acc_cong['Congruency'] = [CONGRUENT_VALUE]\n",
    "    validation_acc_cong['Train'] = [trained_on]\n",
    "    validation_acc_cong['Test'] = [tested_on]\n",
    "    validation_acc_cong['Train & Test'] = ['train: ' + trained_on + '<br>' + 'test: ' + tested_on]\n",
    "    validation_acc_cong['Task'] = [task]\n",
    "    validation_acc_incong = pd.DataFrame()\n",
    "    validation_acc_incong['Validation Accuracy'] = [incong_df[INCONGRUENT_COLUMNS].mean().reset_index()[0].mean()]\n",
    "    validation_acc_incong['Congruency'] = [INCONGRUENT_VALUE]\n",
    "    validation_acc_incong['Train'] = [trained_on]\n",
    "    validation_acc_incong['Test'] = [tested_on]\n",
    "    validation_acc_incong['Train & Test'] = ['train: ' + trained_on + '<br>' + 'test: ' + tested_on]\n",
    "    validation_acc_incong['Task'] = [task]\n",
    "    agg_df = pd.concat([agg_df, validation_acc_cong])\n",
    "    agg_df = pd.concat([agg_df, validation_acc_incong])\n",
    "    return agg_df"
   ],
   "metadata": {
    "collapsed": false,
    "pycharm": {
     "name": "#%%\n"
    }
   }
  },
  {
   "cell_type": "code",
   "execution_count": 9,
   "outputs": [],
   "source": [
    "def calc_z_score_and_replace_with_mean(df, columns_list):\n",
    "    for col in columns_list:\n",
    "        # filter nans in order to calc zscore\n",
    "        df_without_nans = df[~df[col].isna()]\n",
    "\n",
    "        # replace nan datapoints with mean:\n",
    "        abs_z_scores = np.abs(stats.zscore(df_without_nans[col]))\n",
    "        mean_val = df_without_nans[col][(abs_z_scores <= STD_FILTER)].mean()\n",
    "        df[col] = df[col].fillna(mean_val)\n",
    "\n",
    "        #calc z score again:\n",
    "        abs_z_scores = np.abs(stats.zscore(df[col]))\n",
    "        #replace extreme values with p90\n",
    "        p90_val = df[col][(abs_z_scores <= STD_FILTER)].quantile(.90)\n",
    "\n",
    "        if (df[col][(abs_z_scores > STD_FILTER)] is not None) and (not df[col][(abs_z_scores > STD_FILTER)].empty):\n",
    "            extreme_datapoints = df[col][(abs_z_scores > STD_FILTER)].values[0]\n",
    "            #print(f'column {col}: replaced {extreme_datapoints} with {mean_val}')\n",
    "            df[col].replace(extreme_datapoints, p90_val, inplace = True)"
   ],
   "metadata": {
    "collapsed": false,
    "pycharm": {
     "name": "#%%\n"
    }
   }
  },
  {
   "cell_type": "code",
   "execution_count": 10,
   "outputs": [],
   "source": [
    "def normalize_extreme_values(df):\n",
    "    # replace nans with mean\n",
    "    normal_df = pd.DataFrame()\n",
    "    gens = list(df['Generations'].unique())\n",
    "    for gen in gens:\n",
    "        cur_gen_df = df.query(f\"Generations == {gen}\").copy()\n",
    "        acc_columns = list(cur_gen_df.filter(regex='.*Accuracy').columns)\n",
    "        loss_columns = list(cur_gen_df.filter(regex='.*Loss').columns)\n",
    "        calc_z_score_and_replace_with_mean(cur_gen_df, acc_columns)\n",
    "        calc_z_score_and_replace_with_mean(cur_gen_df, loss_columns)\n",
    "        normal_df = pd.concat([normal_df, cur_gen_df])\n",
    "    return normal_df"
   ],
   "metadata": {
    "collapsed": false,
    "pycharm": {
     "name": "#%%\n"
    }
   }
  },
  {
   "cell_type": "code",
   "execution_count": null,
   "outputs": [
    {
     "name": "stdout",
     "output_type": "stream",
     "text": [
      "Working on equate_1\n"
     ]
    },
    {
     "name": "stderr",
     "output_type": "stream",
     "text": [
      "/Users/gali.k/phd/phd_2021/venv/lib/python3.8/site-packages/numpy/core/_methods.py:233: RuntimeWarning: invalid value encountered in subtract\n",
      "  x = asanyarray(arr - arrmean)\n",
      "/Users/gali.k/phd/phd_2021/venv/lib/python3.8/site-packages/numpy/core/_methods.py:233: RuntimeWarning: invalid value encountered in subtract\n",
      "  x = asanyarray(arr - arrmean)\n",
      "/Users/gali.k/phd/phd_2021/venv/lib/python3.8/site-packages/numpy/core/_methods.py:233: RuntimeWarning: invalid value encountered in subtract\n",
      "  x = asanyarray(arr - arrmean)\n"
     ]
    },
    {
     "name": "stdout",
     "output_type": "stream",
     "text": [
      "Working on equate_2\n"
     ]
    },
    {
     "name": "stderr",
     "output_type": "stream",
     "text": [
      "/Users/gali.k/phd/phd_2021/venv/lib/python3.8/site-packages/numpy/core/_methods.py:233: RuntimeWarning: invalid value encountered in subtract\n",
      "  x = asanyarray(arr - arrmean)\n",
      "/Users/gali.k/phd/phd_2021/venv/lib/python3.8/site-packages/numpy/core/_methods.py:233: RuntimeWarning: invalid value encountered in subtract\n",
      "  x = asanyarray(arr - arrmean)\n"
     ]
    }
   ],
   "source": [
    "from scipy import stats\n",
    "final_df = pd.DataFrame()\n",
    "for phys_prop in result_dict.keys():\n",
    "    print(f\"Working on {phys_prop}\")\n",
    "    exp_result = result_dict[phys_prop]\n",
    "    for exp in exp_result.keys():\n",
    "        train_df = exp_result[exp]['train']\n",
    "        train_df_new = normalize_extreme_values(train_df)\n",
    "        final_df = process_df(final_df, train_df_new, PHYS_PROPERTY[phys_prop], PHYS_PROPERTY[phys_prop], exp)\n",
    "\n",
    "        test1_df = exp_result[exp]['test_1']\n",
    "        test1_df_new = normalize_extreme_values(test1_df)\n",
    "        final_df = process_df(final_df, test1_df_new, PHYS_PROPERTY[phys_prop], PHYS_PROPERTY[test1_df['Tested_On_Equate'][0]], exp)\n",
    "\n",
    "        test2_df = exp_result[exp]['test_2']\n",
    "        test2_df_new = normalize_extreme_values(test2_df)\n",
    "        final_df = process_df(final_df, test2_df_new, PHYS_PROPERTY[phys_prop], PHYS_PROPERTY[test2_df['Tested_On_Equate'][0]], exp)"
   ],
   "metadata": {
    "collapsed": false,
    "pycharm": {
     "name": "#%%\n",
     "is_executing": true
    }
   }
  },
  {
   "cell_type": "code",
   "execution_count": 80,
   "outputs": [],
   "source": [
    "tasks = list(final_df['Task'].unique())"
   ],
   "metadata": {
    "collapsed": false,
    "pycharm": {
     "name": "#%%\n"
    }
   }
  },
  {
   "cell_type": "markdown",
   "source": [
    "Heatmaps for different physical properties"
   ],
   "metadata": {
    "collapsed": false,
    "pycharm": {
     "name": "#%% md\n"
    }
   }
  },
  {
   "cell_type": "code",
   "execution_count": null,
   "outputs": [],
   "source": [
    "congruency_vals = [0, 1]\n",
    "for task in tasks:\n",
    "    for cong_val in congruency_vals:\n",
    "        task_df = final_df.query(f\"Task == '{task}' & Congruency == {cong_val}\")\n",
    "        task_df = task_df[['Train', 'Test', 'Validation Accuracy']]\n",
    "        df_for_heatmap = pd.pivot_table(task_df, values='Validation Accuracy', index='Train', columns='Test')\n",
    "        f, ax = plt.subplots(figsize=(9, 6))\n",
    "        df_for_heatmap = df_for_heatmap.round(decimals=4)\n",
    "        sns.heatmap(df_for_heatmap, annot=True, linewidths=.5, ax=ax).set(title=f\"Train VS Test [Task = {task}, isCongruent = {CONGRUENCY[cong_val]}]\")\n"
   ],
   "metadata": {
    "collapsed": false,
    "pycharm": {
     "name": "#%%\n",
     "is_executing": true
    }
   }
  },
  {
   "cell_type": "code",
   "execution_count": null,
   "outputs": [],
   "source": [
    "for task in tasks:\n",
    "    plot_graph(final_df.query(f\"Task == '{task}'\"), f'Task = {task}: Tests results when training on stimuli with different physical properties', 'Train & Test', 'Validation Accuracy',\n",
    "    None, color='Congruency', is_line_plot=False)"
   ],
   "metadata": {
    "collapsed": false,
    "pycharm": {
     "name": "#%%\n",
     "is_executing": true
    }
   }
  },
  {
   "cell_type": "markdown",
   "source": [
    "3-way ANOVA Acc ~ C(Train) + C(Test) + C(Task)"
   ],
   "metadata": {
    "collapsed": false,
    "pycharm": {
     "name": "#%% md\n"
    }
   }
  },
  {
   "cell_type": "code",
   "execution_count": 84,
   "outputs": [
    {
     "name": "stderr",
     "output_type": "stream",
     "text": [
      "/Users/gali.k/phd/phd_2021/venv/lib/python3.8/site-packages/statsmodels/regression/linear_model.py:1687: RuntimeWarning:\n",
      "\n",
      "divide by zero encountered in double_scalars\n",
      "\n"
     ]
    },
    {
     "ename": "ValueError",
     "evalue": "array must not contain infs or NaNs",
     "output_type": "error",
     "traceback": [
      "\u001B[0;31m---------------------------------------------------------------------------\u001B[0m",
      "\u001B[0;31mValueError\u001B[0m                                Traceback (most recent call last)",
      "Input \u001B[0;32mIn [84]\u001B[0m, in \u001B[0;36m<cell line: 8>\u001B[0;34m()\u001B[0m\n\u001B[1;32m      4\u001B[0m three_way_train_test_task_anova_df \u001B[38;5;241m=\u001B[39m three_way_train_test_task_anova_df\u001B[38;5;241m.\u001B[39mreset_index()\u001B[38;5;241m.\u001B[39mdrop(columns\u001B[38;5;241m=\u001B[39m[\u001B[38;5;124m'\u001B[39m\u001B[38;5;124mindex\u001B[39m\u001B[38;5;124m'\u001B[39m])\n\u001B[1;32m      5\u001B[0m model \u001B[38;5;241m=\u001B[39m ols(\u001B[38;5;124m\"\"\"\u001B[39m\u001B[38;5;124mVal_Acc ~ C(Test) + C(Train) + C(Task) +\u001B[39m\n\u001B[1;32m      6\u001B[0m \u001B[38;5;124m               C(Test):C(Train) + C(Task):C(Train) + C(Task):C(Test) + C(Task):C(Test):C(Train)\u001B[39m\u001B[38;5;124m\"\"\"\u001B[39m, data\u001B[38;5;241m=\u001B[39mthree_way_train_test_task_anova_df)\u001B[38;5;241m.\u001B[39mfit()\n\u001B[0;32m----> 8\u001B[0m \u001B[43msm\u001B[49m\u001B[38;5;241;43m.\u001B[39;49m\u001B[43mstats\u001B[49m\u001B[38;5;241;43m.\u001B[39;49m\u001B[43manova_lm\u001B[49m\u001B[43m(\u001B[49m\u001B[43mmodel\u001B[49m\u001B[43m,\u001B[49m\u001B[43m \u001B[49m\u001B[43mtyp\u001B[49m\u001B[38;5;241;43m=\u001B[39;49m\u001B[38;5;241;43m2\u001B[39;49m\u001B[43m)\u001B[49m\n",
      "File \u001B[0;32m~/phd/phd_2021/venv/lib/python3.8/site-packages/statsmodels/stats/anova.py:349\u001B[0m, in \u001B[0;36manova_lm\u001B[0;34m(*args, **kwargs)\u001B[0m\n\u001B[1;32m    347\u001B[0m \u001B[38;5;28;01mif\u001B[39;00m \u001B[38;5;28mlen\u001B[39m(args) \u001B[38;5;241m==\u001B[39m \u001B[38;5;241m1\u001B[39m:\n\u001B[1;32m    348\u001B[0m     model \u001B[38;5;241m=\u001B[39m args[\u001B[38;5;241m0\u001B[39m]\n\u001B[0;32m--> 349\u001B[0m     \u001B[38;5;28;01mreturn\u001B[39;00m \u001B[43manova_single\u001B[49m\u001B[43m(\u001B[49m\u001B[43mmodel\u001B[49m\u001B[43m,\u001B[49m\u001B[43m \u001B[49m\u001B[38;5;241;43m*\u001B[39;49m\u001B[38;5;241;43m*\u001B[39;49m\u001B[43mkwargs\u001B[49m\u001B[43m)\u001B[49m\n\u001B[1;32m    351\u001B[0m \u001B[38;5;28;01mif\u001B[39;00m typ \u001B[38;5;129;01mnot\u001B[39;00m \u001B[38;5;129;01min\u001B[39;00m [\u001B[38;5;241m1\u001B[39m, \u001B[38;5;124m\"\u001B[39m\u001B[38;5;124mI\u001B[39m\u001B[38;5;124m\"\u001B[39m]:\n\u001B[1;32m    352\u001B[0m     \u001B[38;5;28;01mraise\u001B[39;00m \u001B[38;5;167;01mValueError\u001B[39;00m(\u001B[38;5;124m\"\u001B[39m\u001B[38;5;124mMultiple models only supported for type I. \u001B[39m\u001B[38;5;124m\"\u001B[39m\n\u001B[1;32m    353\u001B[0m                      \u001B[38;5;124m\"\u001B[39m\u001B[38;5;124mGot type \u001B[39m\u001B[38;5;132;01m%s\u001B[39;00m\u001B[38;5;124m\"\u001B[39m \u001B[38;5;241m%\u001B[39m \u001B[38;5;28mstr\u001B[39m(typ))\n",
      "File \u001B[0;32m~/phd/phd_2021/venv/lib/python3.8/site-packages/statsmodels/stats/anova.py:80\u001B[0m, in \u001B[0;36manova_single\u001B[0;34m(model, **kwargs)\u001B[0m\n\u001B[1;32m     77\u001B[0m     \u001B[38;5;28;01mreturn\u001B[39;00m anova1_lm_single(model, endog, exog, nobs, design_info, table,\n\u001B[1;32m     78\u001B[0m                             n_rows, test, pr_test, robust)\n\u001B[1;32m     79\u001B[0m \u001B[38;5;28;01melif\u001B[39;00m typ \u001B[38;5;129;01min\u001B[39;00m [\u001B[38;5;241m2\u001B[39m, \u001B[38;5;124m\"\u001B[39m\u001B[38;5;124mII\u001B[39m\u001B[38;5;124m\"\u001B[39m]:\n\u001B[0;32m---> 80\u001B[0m     \u001B[38;5;28;01mreturn\u001B[39;00m \u001B[43manova2_lm_single\u001B[49m\u001B[43m(\u001B[49m\u001B[43mmodel\u001B[49m\u001B[43m,\u001B[49m\u001B[43m \u001B[49m\u001B[43mdesign_info\u001B[49m\u001B[43m,\u001B[49m\u001B[43m \u001B[49m\u001B[43mn_rows\u001B[49m\u001B[43m,\u001B[49m\u001B[43m \u001B[49m\u001B[43mtest\u001B[49m\u001B[43m,\u001B[49m\u001B[43m \u001B[49m\u001B[43mpr_test\u001B[49m\u001B[43m,\u001B[49m\n\u001B[1;32m     81\u001B[0m \u001B[43m                            \u001B[49m\u001B[43mrobust\u001B[49m\u001B[43m)\u001B[49m\n\u001B[1;32m     82\u001B[0m \u001B[38;5;28;01melif\u001B[39;00m typ \u001B[38;5;129;01min\u001B[39;00m [\u001B[38;5;241m3\u001B[39m, \u001B[38;5;124m\"\u001B[39m\u001B[38;5;124mIII\u001B[39m\u001B[38;5;124m\"\u001B[39m]:\n\u001B[1;32m     83\u001B[0m     \u001B[38;5;28;01mreturn\u001B[39;00m anova3_lm_single(model, design_info, n_rows, test, pr_test,\n\u001B[1;32m     84\u001B[0m                             robust)\n",
      "File \u001B[0;32m~/phd/phd_2021/venv/lib/python3.8/site-packages/statsmodels/stats/anova.py:203\u001B[0m, in \u001B[0;36manova2_lm_single\u001B[0;34m(model, design_info, n_rows, test, pr_test, robust)\u001B[0m\n\u001B[1;32m    201\u001B[0m LVL \u001B[38;5;241m=\u001B[39m np\u001B[38;5;241m.\u001B[39mdot(np\u001B[38;5;241m.\u001B[39mdot(L1,robust_cov),L2\u001B[38;5;241m.\u001B[39mT)\n\u001B[1;32m    202\u001B[0m \u001B[38;5;28;01mfrom\u001B[39;00m \u001B[38;5;21;01mscipy\u001B[39;00m \u001B[38;5;28;01mimport\u001B[39;00m linalg\n\u001B[0;32m--> 203\u001B[0m orth_compl,_ \u001B[38;5;241m=\u001B[39m \u001B[43mlinalg\u001B[49m\u001B[38;5;241;43m.\u001B[39;49m\u001B[43mqr\u001B[49m\u001B[43m(\u001B[49m\u001B[43mLVL\u001B[49m\u001B[43m)\u001B[49m\n\u001B[1;32m    204\u001B[0m r \u001B[38;5;241m=\u001B[39m L1\u001B[38;5;241m.\u001B[39mshape[\u001B[38;5;241m0\u001B[39m] \u001B[38;5;241m-\u001B[39m L2\u001B[38;5;241m.\u001B[39mshape[\u001B[38;5;241m0\u001B[39m]\n\u001B[1;32m    205\u001B[0m \u001B[38;5;66;03m# L1|2\u001B[39;00m\n\u001B[1;32m    206\u001B[0m \u001B[38;5;66;03m# use the non-unique orthogonal completion since L12 is rank r\u001B[39;00m\n",
      "File \u001B[0;32m~/phd/phd_2021/venv/lib/python3.8/site-packages/scipy/linalg/_decomp_qr.py:127\u001B[0m, in \u001B[0;36mqr\u001B[0;34m(a, overwrite_a, lwork, mode, pivoting, check_finite)\u001B[0m\n\u001B[1;32m    123\u001B[0m     \u001B[38;5;28;01mraise\u001B[39;00m \u001B[38;5;167;01mValueError\u001B[39;00m(\u001B[38;5;124m\"\u001B[39m\u001B[38;5;124mMode argument should be one of [\u001B[39m\u001B[38;5;124m'\u001B[39m\u001B[38;5;124mfull\u001B[39m\u001B[38;5;124m'\u001B[39m\u001B[38;5;124m, \u001B[39m\u001B[38;5;124m'\u001B[39m\u001B[38;5;124mr\u001B[39m\u001B[38;5;124m'\u001B[39m\u001B[38;5;124m,\u001B[39m\u001B[38;5;124m\"\u001B[39m\n\u001B[1;32m    124\u001B[0m                      \u001B[38;5;124m\"\u001B[39m\u001B[38;5;124m'\u001B[39m\u001B[38;5;124meconomic\u001B[39m\u001B[38;5;124m'\u001B[39m\u001B[38;5;124m, \u001B[39m\u001B[38;5;124m'\u001B[39m\u001B[38;5;124mraw\u001B[39m\u001B[38;5;124m'\u001B[39m\u001B[38;5;124m]\u001B[39m\u001B[38;5;124m\"\u001B[39m)\n\u001B[1;32m    126\u001B[0m \u001B[38;5;28;01mif\u001B[39;00m check_finite:\n\u001B[0;32m--> 127\u001B[0m     a1 \u001B[38;5;241m=\u001B[39m \u001B[43mnumpy\u001B[49m\u001B[38;5;241;43m.\u001B[39;49m\u001B[43masarray_chkfinite\u001B[49m\u001B[43m(\u001B[49m\u001B[43ma\u001B[49m\u001B[43m)\u001B[49m\n\u001B[1;32m    128\u001B[0m \u001B[38;5;28;01melse\u001B[39;00m:\n\u001B[1;32m    129\u001B[0m     a1 \u001B[38;5;241m=\u001B[39m numpy\u001B[38;5;241m.\u001B[39masarray(a)\n",
      "File \u001B[0;32m~/phd/phd_2021/venv/lib/python3.8/site-packages/numpy/lib/function_base.py:627\u001B[0m, in \u001B[0;36masarray_chkfinite\u001B[0;34m(a, dtype, order)\u001B[0m\n\u001B[1;32m    625\u001B[0m a \u001B[38;5;241m=\u001B[39m asarray(a, dtype\u001B[38;5;241m=\u001B[39mdtype, order\u001B[38;5;241m=\u001B[39morder)\n\u001B[1;32m    626\u001B[0m \u001B[38;5;28;01mif\u001B[39;00m a\u001B[38;5;241m.\u001B[39mdtype\u001B[38;5;241m.\u001B[39mchar \u001B[38;5;129;01min\u001B[39;00m typecodes[\u001B[38;5;124m'\u001B[39m\u001B[38;5;124mAllFloat\u001B[39m\u001B[38;5;124m'\u001B[39m] \u001B[38;5;129;01mand\u001B[39;00m \u001B[38;5;129;01mnot\u001B[39;00m np\u001B[38;5;241m.\u001B[39misfinite(a)\u001B[38;5;241m.\u001B[39mall():\n\u001B[0;32m--> 627\u001B[0m     \u001B[38;5;28;01mraise\u001B[39;00m \u001B[38;5;167;01mValueError\u001B[39;00m(\n\u001B[1;32m    628\u001B[0m         \u001B[38;5;124m\"\u001B[39m\u001B[38;5;124marray must not contain infs or NaNs\u001B[39m\u001B[38;5;124m\"\u001B[39m)\n\u001B[1;32m    629\u001B[0m \u001B[38;5;28;01mreturn\u001B[39;00m a\n",
      "\u001B[0;31mValueError\u001B[0m: array must not contain infs or NaNs"
     ]
    }
   ],
   "source": [
    "congruency = 0\n",
    "three_way_train_test_task_anova_df = final_df.query(f\"Congruency == {congruency}\")[['Validation Accuracy', 'Train', 'Test', 'Task']]\n",
    "three_way_train_test_task_anova_df = three_way_train_test_task_anova_df.rename(columns={'Validation Accuracy': 'Val_Acc'})\n",
    "three_way_train_test_task_anova_df = three_way_train_test_task_anova_df.reset_index().drop(columns=['index'])\n",
    "model = ols(\"\"\"Val_Acc ~ C(Test) + C(Train) + C(Task) +\n",
    "               C(Test):C(Train) + C(Task):C(Train) + C(Task):C(Test) + C(Task):C(Test):C(Train)\"\"\", data=three_way_train_test_task_anova_df).fit()\n",
    "\n",
    "sm.stats.anova_lm(model, typ=2)"
   ],
   "metadata": {
    "collapsed": false,
    "pycharm": {
     "name": "#%%\n"
    }
   }
  },
  {
   "cell_type": "code",
   "execution_count": 87,
   "outputs": [
    {
     "name": "stderr",
     "output_type": "stream",
     "text": [
      "/Users/gali.k/phd/phd_2021/venv/lib/python3.8/site-packages/statsmodels/regression/linear_model.py:1687: RuntimeWarning:\n",
      "\n",
      "divide by zero encountered in double_scalars\n",
      "\n"
     ]
    },
    {
     "ename": "ValueError",
     "evalue": "array must not contain infs or NaNs",
     "output_type": "error",
     "traceback": [
      "\u001B[0;31m---------------------------------------------------------------------------\u001B[0m",
      "\u001B[0;31mValueError\u001B[0m                                Traceback (most recent call last)",
      "Input \u001B[0;32mIn [87]\u001B[0m, in \u001B[0;36m<cell line: 3>\u001B[0;34m()\u001B[0m\n\u001B[1;32m      1\u001B[0m \u001B[38;5;28;01mimport\u001B[39;00m \u001B[38;5;21;01mpingouin\u001B[39;00m \u001B[38;5;28;01mas\u001B[39;00m \u001B[38;5;21;01mpg\u001B[39;00m\n\u001B[0;32m----> 3\u001B[0m model1 \u001B[38;5;241m=\u001B[39m \u001B[43mpg\u001B[49m\u001B[38;5;241;43m.\u001B[39;49m\u001B[43manova\u001B[49m\u001B[43m(\u001B[49m\u001B[43mdv\u001B[49m\u001B[38;5;241;43m=\u001B[39;49m\u001B[38;5;124;43m'\u001B[39;49m\u001B[38;5;124;43mVal_Acc\u001B[39;49m\u001B[38;5;124;43m'\u001B[39;49m\u001B[43m,\u001B[49m\u001B[43m \u001B[49m\u001B[43mbetween\u001B[49m\u001B[38;5;241;43m=\u001B[39;49m\u001B[43m[\u001B[49m\u001B[38;5;124;43m'\u001B[39;49m\u001B[38;5;124;43mTrain\u001B[39;49m\u001B[38;5;124;43m'\u001B[39;49m\u001B[43m,\u001B[49m\u001B[38;5;124;43m'\u001B[39;49m\u001B[38;5;124;43mTest\u001B[39;49m\u001B[38;5;124;43m'\u001B[39;49m\u001B[43m,\u001B[49m\u001B[43m \u001B[49m\u001B[38;5;124;43m'\u001B[39;49m\u001B[38;5;124;43mTask\u001B[39;49m\u001B[38;5;124;43m'\u001B[39;49m\u001B[43m]\u001B[49m\u001B[43m,\u001B[49m\u001B[43m \u001B[49m\u001B[43mdata\u001B[49m\u001B[38;5;241;43m=\u001B[39;49m\u001B[43mthree_way_train_test_task_anova_df\u001B[49m\u001B[43m,\u001B[49m\u001B[43m \u001B[49m\u001B[43mdetailed\u001B[49m\u001B[38;5;241;43m=\u001B[39;49m\u001B[38;5;28;43;01mTrue\u001B[39;49;00m\u001B[43m)\u001B[49m\n\u001B[1;32m      4\u001B[0m \u001B[38;5;28mround\u001B[39m(model1, \u001B[38;5;241m2\u001B[39m)\n",
      "File \u001B[0;32m~/phd/phd_2021/venv/lib/python3.8/site-packages/pingouin/parametric.py:974\u001B[0m, in \u001B[0;36manova\u001B[0;34m(data, dv, between, ss_type, detailed, effsize)\u001B[0m\n\u001B[1;32m    971\u001B[0m         \u001B[38;5;28;01mreturn\u001B[39;00m anova2(dv\u001B[38;5;241m=\u001B[39mdv, between\u001B[38;5;241m=\u001B[39mbetween, data\u001B[38;5;241m=\u001B[39mdata, ss_type\u001B[38;5;241m=\u001B[39mss_type, effsize\u001B[38;5;241m=\u001B[39meffsize)\n\u001B[1;32m    972\u001B[0m     \u001B[38;5;28;01melse\u001B[39;00m:\n\u001B[1;32m    973\u001B[0m         \u001B[38;5;66;03m# 3 or more factors with (un)-balanced design = statsmodels\u001B[39;00m\n\u001B[0;32m--> 974\u001B[0m         \u001B[38;5;28;01mreturn\u001B[39;00m \u001B[43manovan\u001B[49m\u001B[43m(\u001B[49m\u001B[43mdv\u001B[49m\u001B[38;5;241;43m=\u001B[39;49m\u001B[43mdv\u001B[49m\u001B[43m,\u001B[49m\u001B[43m \u001B[49m\u001B[43mbetween\u001B[49m\u001B[38;5;241;43m=\u001B[39;49m\u001B[43mbetween\u001B[49m\u001B[43m,\u001B[49m\u001B[43m \u001B[49m\u001B[43mdata\u001B[49m\u001B[38;5;241;43m=\u001B[39;49m\u001B[43mdata\u001B[49m\u001B[43m,\u001B[49m\u001B[43m \u001B[49m\u001B[43mss_type\u001B[49m\u001B[38;5;241;43m=\u001B[39;49m\u001B[43mss_type\u001B[49m\u001B[43m,\u001B[49m\u001B[43m \u001B[49m\u001B[43meffsize\u001B[49m\u001B[38;5;241;43m=\u001B[39;49m\u001B[43meffsize\u001B[49m\u001B[43m)\u001B[49m\n\u001B[1;32m    976\u001B[0m \u001B[38;5;66;03m# Check data\u001B[39;00m\n\u001B[1;32m    977\u001B[0m data \u001B[38;5;241m=\u001B[39m _check_dataframe(dv\u001B[38;5;241m=\u001B[39mdv, between\u001B[38;5;241m=\u001B[39mbetween, data\u001B[38;5;241m=\u001B[39mdata, effects\u001B[38;5;241m=\u001B[39m\u001B[38;5;124m\"\u001B[39m\u001B[38;5;124mbetween\u001B[39m\u001B[38;5;124m\"\u001B[39m)\n",
      "File \u001B[0;32m~/phd/phd_2021/venv/lib/python3.8/site-packages/pingouin/parametric.py:1169\u001B[0m, in \u001B[0;36manovan\u001B[0;34m(data, dv, between, ss_type, effsize)\u001B[0m\n\u001B[1;32m   1167\u001B[0m \u001B[38;5;66;03m# Fit using statsmodels\u001B[39;00m\n\u001B[1;32m   1168\u001B[0m lm \u001B[38;5;241m=\u001B[39m ols(formula, data\u001B[38;5;241m=\u001B[39mdata)\u001B[38;5;241m.\u001B[39mfit()\n\u001B[0;32m-> 1169\u001B[0m aov \u001B[38;5;241m=\u001B[39m \u001B[43mstats\u001B[49m\u001B[38;5;241;43m.\u001B[39;49m\u001B[43manova_lm\u001B[49m\u001B[43m(\u001B[49m\u001B[43mlm\u001B[49m\u001B[43m,\u001B[49m\u001B[43m \u001B[49m\u001B[43mtyp\u001B[49m\u001B[38;5;241;43m=\u001B[39;49m\u001B[43mss_type\u001B[49m\u001B[43m)\u001B[49m\n\u001B[1;32m   1171\u001B[0m \u001B[38;5;66;03m# Convert to Pingouin-like dataframe\u001B[39;00m\n\u001B[1;32m   1172\u001B[0m \u001B[38;5;28;01mif\u001B[39;00m ss_type \u001B[38;5;241m==\u001B[39m \u001B[38;5;241m1\u001B[39m:\n\u001B[1;32m   1173\u001B[0m     \u001B[38;5;66;03m# statsmodels output is not exactly the same when ss_type = 1\u001B[39;00m\n",
      "File \u001B[0;32m~/phd/phd_2021/venv/lib/python3.8/site-packages/statsmodels/stats/anova.py:349\u001B[0m, in \u001B[0;36manova_lm\u001B[0;34m(*args, **kwargs)\u001B[0m\n\u001B[1;32m    347\u001B[0m \u001B[38;5;28;01mif\u001B[39;00m \u001B[38;5;28mlen\u001B[39m(args) \u001B[38;5;241m==\u001B[39m \u001B[38;5;241m1\u001B[39m:\n\u001B[1;32m    348\u001B[0m     model \u001B[38;5;241m=\u001B[39m args[\u001B[38;5;241m0\u001B[39m]\n\u001B[0;32m--> 349\u001B[0m     \u001B[38;5;28;01mreturn\u001B[39;00m \u001B[43manova_single\u001B[49m\u001B[43m(\u001B[49m\u001B[43mmodel\u001B[49m\u001B[43m,\u001B[49m\u001B[43m \u001B[49m\u001B[38;5;241;43m*\u001B[39;49m\u001B[38;5;241;43m*\u001B[39;49m\u001B[43mkwargs\u001B[49m\u001B[43m)\u001B[49m\n\u001B[1;32m    351\u001B[0m \u001B[38;5;28;01mif\u001B[39;00m typ \u001B[38;5;129;01mnot\u001B[39;00m \u001B[38;5;129;01min\u001B[39;00m [\u001B[38;5;241m1\u001B[39m, \u001B[38;5;124m\"\u001B[39m\u001B[38;5;124mI\u001B[39m\u001B[38;5;124m\"\u001B[39m]:\n\u001B[1;32m    352\u001B[0m     \u001B[38;5;28;01mraise\u001B[39;00m \u001B[38;5;167;01mValueError\u001B[39;00m(\u001B[38;5;124m\"\u001B[39m\u001B[38;5;124mMultiple models only supported for type I. \u001B[39m\u001B[38;5;124m\"\u001B[39m\n\u001B[1;32m    353\u001B[0m                      \u001B[38;5;124m\"\u001B[39m\u001B[38;5;124mGot type \u001B[39m\u001B[38;5;132;01m%s\u001B[39;00m\u001B[38;5;124m\"\u001B[39m \u001B[38;5;241m%\u001B[39m \u001B[38;5;28mstr\u001B[39m(typ))\n",
      "File \u001B[0;32m~/phd/phd_2021/venv/lib/python3.8/site-packages/statsmodels/stats/anova.py:80\u001B[0m, in \u001B[0;36manova_single\u001B[0;34m(model, **kwargs)\u001B[0m\n\u001B[1;32m     77\u001B[0m     \u001B[38;5;28;01mreturn\u001B[39;00m anova1_lm_single(model, endog, exog, nobs, design_info, table,\n\u001B[1;32m     78\u001B[0m                             n_rows, test, pr_test, robust)\n\u001B[1;32m     79\u001B[0m \u001B[38;5;28;01melif\u001B[39;00m typ \u001B[38;5;129;01min\u001B[39;00m [\u001B[38;5;241m2\u001B[39m, \u001B[38;5;124m\"\u001B[39m\u001B[38;5;124mII\u001B[39m\u001B[38;5;124m\"\u001B[39m]:\n\u001B[0;32m---> 80\u001B[0m     \u001B[38;5;28;01mreturn\u001B[39;00m \u001B[43manova2_lm_single\u001B[49m\u001B[43m(\u001B[49m\u001B[43mmodel\u001B[49m\u001B[43m,\u001B[49m\u001B[43m \u001B[49m\u001B[43mdesign_info\u001B[49m\u001B[43m,\u001B[49m\u001B[43m \u001B[49m\u001B[43mn_rows\u001B[49m\u001B[43m,\u001B[49m\u001B[43m \u001B[49m\u001B[43mtest\u001B[49m\u001B[43m,\u001B[49m\u001B[43m \u001B[49m\u001B[43mpr_test\u001B[49m\u001B[43m,\u001B[49m\n\u001B[1;32m     81\u001B[0m \u001B[43m                            \u001B[49m\u001B[43mrobust\u001B[49m\u001B[43m)\u001B[49m\n\u001B[1;32m     82\u001B[0m \u001B[38;5;28;01melif\u001B[39;00m typ \u001B[38;5;129;01min\u001B[39;00m [\u001B[38;5;241m3\u001B[39m, \u001B[38;5;124m\"\u001B[39m\u001B[38;5;124mIII\u001B[39m\u001B[38;5;124m\"\u001B[39m]:\n\u001B[1;32m     83\u001B[0m     \u001B[38;5;28;01mreturn\u001B[39;00m anova3_lm_single(model, design_info, n_rows, test, pr_test,\n\u001B[1;32m     84\u001B[0m                             robust)\n",
      "File \u001B[0;32m~/phd/phd_2021/venv/lib/python3.8/site-packages/statsmodels/stats/anova.py:203\u001B[0m, in \u001B[0;36manova2_lm_single\u001B[0;34m(model, design_info, n_rows, test, pr_test, robust)\u001B[0m\n\u001B[1;32m    201\u001B[0m LVL \u001B[38;5;241m=\u001B[39m np\u001B[38;5;241m.\u001B[39mdot(np\u001B[38;5;241m.\u001B[39mdot(L1,robust_cov),L2\u001B[38;5;241m.\u001B[39mT)\n\u001B[1;32m    202\u001B[0m \u001B[38;5;28;01mfrom\u001B[39;00m \u001B[38;5;21;01mscipy\u001B[39;00m \u001B[38;5;28;01mimport\u001B[39;00m linalg\n\u001B[0;32m--> 203\u001B[0m orth_compl,_ \u001B[38;5;241m=\u001B[39m \u001B[43mlinalg\u001B[49m\u001B[38;5;241;43m.\u001B[39;49m\u001B[43mqr\u001B[49m\u001B[43m(\u001B[49m\u001B[43mLVL\u001B[49m\u001B[43m)\u001B[49m\n\u001B[1;32m    204\u001B[0m r \u001B[38;5;241m=\u001B[39m L1\u001B[38;5;241m.\u001B[39mshape[\u001B[38;5;241m0\u001B[39m] \u001B[38;5;241m-\u001B[39m L2\u001B[38;5;241m.\u001B[39mshape[\u001B[38;5;241m0\u001B[39m]\n\u001B[1;32m    205\u001B[0m \u001B[38;5;66;03m# L1|2\u001B[39;00m\n\u001B[1;32m    206\u001B[0m \u001B[38;5;66;03m# use the non-unique orthogonal completion since L12 is rank r\u001B[39;00m\n",
      "File \u001B[0;32m~/phd/phd_2021/venv/lib/python3.8/site-packages/scipy/linalg/_decomp_qr.py:127\u001B[0m, in \u001B[0;36mqr\u001B[0;34m(a, overwrite_a, lwork, mode, pivoting, check_finite)\u001B[0m\n\u001B[1;32m    123\u001B[0m     \u001B[38;5;28;01mraise\u001B[39;00m \u001B[38;5;167;01mValueError\u001B[39;00m(\u001B[38;5;124m\"\u001B[39m\u001B[38;5;124mMode argument should be one of [\u001B[39m\u001B[38;5;124m'\u001B[39m\u001B[38;5;124mfull\u001B[39m\u001B[38;5;124m'\u001B[39m\u001B[38;5;124m, \u001B[39m\u001B[38;5;124m'\u001B[39m\u001B[38;5;124mr\u001B[39m\u001B[38;5;124m'\u001B[39m\u001B[38;5;124m,\u001B[39m\u001B[38;5;124m\"\u001B[39m\n\u001B[1;32m    124\u001B[0m                      \u001B[38;5;124m\"\u001B[39m\u001B[38;5;124m'\u001B[39m\u001B[38;5;124meconomic\u001B[39m\u001B[38;5;124m'\u001B[39m\u001B[38;5;124m, \u001B[39m\u001B[38;5;124m'\u001B[39m\u001B[38;5;124mraw\u001B[39m\u001B[38;5;124m'\u001B[39m\u001B[38;5;124m]\u001B[39m\u001B[38;5;124m\"\u001B[39m)\n\u001B[1;32m    126\u001B[0m \u001B[38;5;28;01mif\u001B[39;00m check_finite:\n\u001B[0;32m--> 127\u001B[0m     a1 \u001B[38;5;241m=\u001B[39m \u001B[43mnumpy\u001B[49m\u001B[38;5;241;43m.\u001B[39;49m\u001B[43masarray_chkfinite\u001B[49m\u001B[43m(\u001B[49m\u001B[43ma\u001B[49m\u001B[43m)\u001B[49m\n\u001B[1;32m    128\u001B[0m \u001B[38;5;28;01melse\u001B[39;00m:\n\u001B[1;32m    129\u001B[0m     a1 \u001B[38;5;241m=\u001B[39m numpy\u001B[38;5;241m.\u001B[39masarray(a)\n",
      "File \u001B[0;32m~/phd/phd_2021/venv/lib/python3.8/site-packages/numpy/lib/function_base.py:627\u001B[0m, in \u001B[0;36masarray_chkfinite\u001B[0;34m(a, dtype, order)\u001B[0m\n\u001B[1;32m    625\u001B[0m a \u001B[38;5;241m=\u001B[39m asarray(a, dtype\u001B[38;5;241m=\u001B[39mdtype, order\u001B[38;5;241m=\u001B[39morder)\n\u001B[1;32m    626\u001B[0m \u001B[38;5;28;01mif\u001B[39;00m a\u001B[38;5;241m.\u001B[39mdtype\u001B[38;5;241m.\u001B[39mchar \u001B[38;5;129;01min\u001B[39;00m typecodes[\u001B[38;5;124m'\u001B[39m\u001B[38;5;124mAllFloat\u001B[39m\u001B[38;5;124m'\u001B[39m] \u001B[38;5;129;01mand\u001B[39;00m \u001B[38;5;129;01mnot\u001B[39;00m np\u001B[38;5;241m.\u001B[39misfinite(a)\u001B[38;5;241m.\u001B[39mall():\n\u001B[0;32m--> 627\u001B[0m     \u001B[38;5;28;01mraise\u001B[39;00m \u001B[38;5;167;01mValueError\u001B[39;00m(\n\u001B[1;32m    628\u001B[0m         \u001B[38;5;124m\"\u001B[39m\u001B[38;5;124marray must not contain infs or NaNs\u001B[39m\u001B[38;5;124m\"\u001B[39m)\n\u001B[1;32m    629\u001B[0m \u001B[38;5;28;01mreturn\u001B[39;00m a\n",
      "\u001B[0;31mValueError\u001B[0m: array must not contain infs or NaNs"
     ]
    }
   ],
   "source": [
    "import pingouin as pg\n",
    "\n",
    "model1 = pg.anova(dv='Val_Acc', between=['Train','Test', 'Task'], data=three_way_train_test_task_anova_df, detailed=True)\n",
    "round(model1, 2)"
   ],
   "metadata": {
    "collapsed": false,
    "pycharm": {
     "name": "#%%\n"
    }
   }
  },
  {
   "cell_type": "markdown",
   "source": [
    "\n",
    "4-way ANOVA Acc ~ C(Congruency) + C(Train) + C(Test) + C(Task)"
   ],
   "metadata": {
    "collapsed": false,
    "pycharm": {
     "name": "#%% md\n"
    }
   }
  },
  {
   "cell_type": "code",
   "execution_count": 43,
   "outputs": [
    {
     "data": {
      "text/plain": "    Val_Acc  Congruency             Train                Test  Task\n0  0.973333           1  Average Diameter    Average Diameter  size\n1  0.907418           0  Average Diameter    Average Diameter  size\n2  0.944583           1  Average Diameter         Convex Hull  size\n3  0.929401           0  Average Diameter         Convex Hull  size\n4  0.905583           1  Average Diameter  Total Surface Area  size",
      "text/html": "<div>\n<style scoped>\n    .dataframe tbody tr th:only-of-type {\n        vertical-align: middle;\n    }\n\n    .dataframe tbody tr th {\n        vertical-align: top;\n    }\n\n    .dataframe thead th {\n        text-align: right;\n    }\n</style>\n<table border=\"1\" class=\"dataframe\">\n  <thead>\n    <tr style=\"text-align: right;\">\n      <th></th>\n      <th>Val_Acc</th>\n      <th>Congruency</th>\n      <th>Train</th>\n      <th>Test</th>\n      <th>Task</th>\n    </tr>\n  </thead>\n  <tbody>\n    <tr>\n      <th>0</th>\n      <td>0.973333</td>\n      <td>1</td>\n      <td>Average Diameter</td>\n      <td>Average Diameter</td>\n      <td>size</td>\n    </tr>\n    <tr>\n      <th>1</th>\n      <td>0.907418</td>\n      <td>0</td>\n      <td>Average Diameter</td>\n      <td>Average Diameter</td>\n      <td>size</td>\n    </tr>\n    <tr>\n      <th>2</th>\n      <td>0.944583</td>\n      <td>1</td>\n      <td>Average Diameter</td>\n      <td>Convex Hull</td>\n      <td>size</td>\n    </tr>\n    <tr>\n      <th>3</th>\n      <td>0.929401</td>\n      <td>0</td>\n      <td>Average Diameter</td>\n      <td>Convex Hull</td>\n      <td>size</td>\n    </tr>\n    <tr>\n      <th>4</th>\n      <td>0.905583</td>\n      <td>1</td>\n      <td>Average Diameter</td>\n      <td>Total Surface Area</td>\n      <td>size</td>\n    </tr>\n  </tbody>\n</table>\n</div>"
     },
     "execution_count": 43,
     "metadata": {},
     "output_type": "execute_result"
    }
   ],
   "source": [
    "four_way_anova_df = final_df.query(f\"Task == '{task}'\")[['Validation Accuracy', 'Congruency', 'Train', 'Test', 'Task']]\n",
    "four_way_anova_df = four_way_anova_df.rename(columns={'Validation Accuracy': 'Val_Acc'})\n",
    "four_way_anova_df = four_way_anova_df.reset_index().drop(columns=['index'])\n",
    "four_way_anova_df.head()"
   ],
   "metadata": {
    "collapsed": false,
    "pycharm": {
     "name": "#%%\n"
    }
   }
  },
  {
   "cell_type": "code",
   "execution_count": 45,
   "outputs": [
    {
     "name": "stderr",
     "output_type": "stream",
     "text": [
      "/Users/gali.k/phd/phd_2021/venv/lib/python3.8/site-packages/statsmodels/stats/anova.py:138: RuntimeWarning:\n",
      "\n",
      "divide by zero encountered in double_scalars\n",
      "\n"
     ]
    },
    {
     "data": {
      "text/plain": "                                         df        sum_sq   mean_sq    F  \\\nC(Congruency)                           1.0  3.009425e-02  0.030094  0.0   \nC(Test)                                 2.0  1.415468e-02  0.007077  0.0   \nC(Train)                                2.0  1.763850e-02  0.008819  0.0   \nC(Task)                                 0.0  0.000000e+00       NaN  NaN   \nC(Congruency):C(Test)                   2.0  1.411072e-02  0.007055  0.0   \nC(Congruency):C(Train)                  2.0  1.301595e-02  0.006508  0.0   \nC(Test):C(Train)                        4.0  7.213818e-03  0.001803  0.0   \nC(Task):C(Congruency)                   0.0  0.000000e+00       NaN  NaN   \nC(Task):C(Train)                        0.0  0.000000e+00       NaN  NaN   \nC(Task):C(Test)                         0.0  0.000000e+00       NaN  NaN   \nC(Congruency):C(Test):C(Train)          4.0  8.084270e-03  0.002021  0.0   \nC(Task):C(Test):C(Train)                0.0  0.000000e+00       NaN  NaN   \nC(Congruency):C(Task):C(Train)          0.0  0.000000e+00       NaN  NaN   \nC(Congruency):C(Test):C(Task)           0.0  0.000000e+00       NaN  NaN   \nC(Congruency):C(Test):C(Train):C(Task)  0.0  0.000000e+00       NaN  NaN   \nResidual                                0.0  1.736727e-29       inf  NaN   \n\n                                        PR(>F)  \nC(Congruency)                              NaN  \nC(Test)                                    NaN  \nC(Train)                                   NaN  \nC(Task)                                    NaN  \nC(Congruency):C(Test)                      NaN  \nC(Congruency):C(Train)                     NaN  \nC(Test):C(Train)                           NaN  \nC(Task):C(Congruency)                      NaN  \nC(Task):C(Train)                           NaN  \nC(Task):C(Test)                            NaN  \nC(Congruency):C(Test):C(Train)             NaN  \nC(Task):C(Test):C(Train)                   NaN  \nC(Congruency):C(Task):C(Train)             NaN  \nC(Congruency):C(Test):C(Task)              NaN  \nC(Congruency):C(Test):C(Train):C(Task)     NaN  \nResidual                                   NaN  ",
      "text/html": "<div>\n<style scoped>\n    .dataframe tbody tr th:only-of-type {\n        vertical-align: middle;\n    }\n\n    .dataframe tbody tr th {\n        vertical-align: top;\n    }\n\n    .dataframe thead th {\n        text-align: right;\n    }\n</style>\n<table border=\"1\" class=\"dataframe\">\n  <thead>\n    <tr style=\"text-align: right;\">\n      <th></th>\n      <th>df</th>\n      <th>sum_sq</th>\n      <th>mean_sq</th>\n      <th>F</th>\n      <th>PR(&gt;F)</th>\n    </tr>\n  </thead>\n  <tbody>\n    <tr>\n      <th>C(Congruency)</th>\n      <td>1.0</td>\n      <td>3.009425e-02</td>\n      <td>0.030094</td>\n      <td>0.0</td>\n      <td>NaN</td>\n    </tr>\n    <tr>\n      <th>C(Test)</th>\n      <td>2.0</td>\n      <td>1.415468e-02</td>\n      <td>0.007077</td>\n      <td>0.0</td>\n      <td>NaN</td>\n    </tr>\n    <tr>\n      <th>C(Train)</th>\n      <td>2.0</td>\n      <td>1.763850e-02</td>\n      <td>0.008819</td>\n      <td>0.0</td>\n      <td>NaN</td>\n    </tr>\n    <tr>\n      <th>C(Task)</th>\n      <td>0.0</td>\n      <td>0.000000e+00</td>\n      <td>NaN</td>\n      <td>NaN</td>\n      <td>NaN</td>\n    </tr>\n    <tr>\n      <th>C(Congruency):C(Test)</th>\n      <td>2.0</td>\n      <td>1.411072e-02</td>\n      <td>0.007055</td>\n      <td>0.0</td>\n      <td>NaN</td>\n    </tr>\n    <tr>\n      <th>C(Congruency):C(Train)</th>\n      <td>2.0</td>\n      <td>1.301595e-02</td>\n      <td>0.006508</td>\n      <td>0.0</td>\n      <td>NaN</td>\n    </tr>\n    <tr>\n      <th>C(Test):C(Train)</th>\n      <td>4.0</td>\n      <td>7.213818e-03</td>\n      <td>0.001803</td>\n      <td>0.0</td>\n      <td>NaN</td>\n    </tr>\n    <tr>\n      <th>C(Task):C(Congruency)</th>\n      <td>0.0</td>\n      <td>0.000000e+00</td>\n      <td>NaN</td>\n      <td>NaN</td>\n      <td>NaN</td>\n    </tr>\n    <tr>\n      <th>C(Task):C(Train)</th>\n      <td>0.0</td>\n      <td>0.000000e+00</td>\n      <td>NaN</td>\n      <td>NaN</td>\n      <td>NaN</td>\n    </tr>\n    <tr>\n      <th>C(Task):C(Test)</th>\n      <td>0.0</td>\n      <td>0.000000e+00</td>\n      <td>NaN</td>\n      <td>NaN</td>\n      <td>NaN</td>\n    </tr>\n    <tr>\n      <th>C(Congruency):C(Test):C(Train)</th>\n      <td>4.0</td>\n      <td>8.084270e-03</td>\n      <td>0.002021</td>\n      <td>0.0</td>\n      <td>NaN</td>\n    </tr>\n    <tr>\n      <th>C(Task):C(Test):C(Train)</th>\n      <td>0.0</td>\n      <td>0.000000e+00</td>\n      <td>NaN</td>\n      <td>NaN</td>\n      <td>NaN</td>\n    </tr>\n    <tr>\n      <th>C(Congruency):C(Task):C(Train)</th>\n      <td>0.0</td>\n      <td>0.000000e+00</td>\n      <td>NaN</td>\n      <td>NaN</td>\n      <td>NaN</td>\n    </tr>\n    <tr>\n      <th>C(Congruency):C(Test):C(Task)</th>\n      <td>0.0</td>\n      <td>0.000000e+00</td>\n      <td>NaN</td>\n      <td>NaN</td>\n      <td>NaN</td>\n    </tr>\n    <tr>\n      <th>C(Congruency):C(Test):C(Train):C(Task)</th>\n      <td>0.0</td>\n      <td>0.000000e+00</td>\n      <td>NaN</td>\n      <td>NaN</td>\n      <td>NaN</td>\n    </tr>\n    <tr>\n      <th>Residual</th>\n      <td>0.0</td>\n      <td>1.736727e-29</td>\n      <td>inf</td>\n      <td>NaN</td>\n      <td>NaN</td>\n    </tr>\n  </tbody>\n</table>\n</div>"
     },
     "execution_count": 45,
     "metadata": {},
     "output_type": "execute_result"
    }
   ],
   "source": [
    "model = ols(\"\"\"Val_Acc ~ C(Congruency) + C(Test) + C(Train) + C(Task) +\n",
    "               C(Congruency):C(Test) + C(Congruency):C(Train) + C(Test):C(Train) + C(Task):C(Congruency) + C(Task):C(Train) + C(Task):C(Test) +\n",
    "               C(Congruency):C(Test):C(Train) + C(Task):C(Test):C(Train) + C(Congruency):C(Task):C(Train) + C(Congruency):C(Test):C(Task) + C(Congruency):C(Test):C(Train):C(Task)\"\"\", data=four_way_anova_df).fit()\n",
    "\n",
    "sm.stats.anova_lm(model, typ=1)"
   ],
   "metadata": {
    "collapsed": false,
    "pycharm": {
     "name": "#%%\n"
    }
   }
  },
  {
   "cell_type": "markdown",
   "source": [
    "For each task we will do a 3-way ANOVA:\n",
    "3-way ANOVA: Acc ~ C(Congruency) + C(Train) + C(Test)\n",
    "2(Congruency) X 3(Train) X 3(Test)"
   ],
   "metadata": {
    "collapsed": false,
    "pycharm": {
     "name": "#%% md\n"
    }
   }
  },
  {
   "cell_type": "code",
   "execution_count": 46,
   "outputs": [
    {
     "data": {
      "text/plain": "    Val_Acc  Congruency             Train                Test\n0  0.973333           1  Average Diameter    Average Diameter\n1  0.907418           0  Average Diameter    Average Diameter\n2  0.944583           1  Average Diameter         Convex Hull\n3  0.929401           0  Average Diameter         Convex Hull\n4  0.905583           1  Average Diameter  Total Surface Area",
      "text/html": "<div>\n<style scoped>\n    .dataframe tbody tr th:only-of-type {\n        vertical-align: middle;\n    }\n\n    .dataframe tbody tr th {\n        vertical-align: top;\n    }\n\n    .dataframe thead th {\n        text-align: right;\n    }\n</style>\n<table border=\"1\" class=\"dataframe\">\n  <thead>\n    <tr style=\"text-align: right;\">\n      <th></th>\n      <th>Val_Acc</th>\n      <th>Congruency</th>\n      <th>Train</th>\n      <th>Test</th>\n    </tr>\n  </thead>\n  <tbody>\n    <tr>\n      <th>0</th>\n      <td>0.973333</td>\n      <td>1</td>\n      <td>Average Diameter</td>\n      <td>Average Diameter</td>\n    </tr>\n    <tr>\n      <th>1</th>\n      <td>0.907418</td>\n      <td>0</td>\n      <td>Average Diameter</td>\n      <td>Average Diameter</td>\n    </tr>\n    <tr>\n      <th>2</th>\n      <td>0.944583</td>\n      <td>1</td>\n      <td>Average Diameter</td>\n      <td>Convex Hull</td>\n    </tr>\n    <tr>\n      <th>3</th>\n      <td>0.929401</td>\n      <td>0</td>\n      <td>Average Diameter</td>\n      <td>Convex Hull</td>\n    </tr>\n    <tr>\n      <th>4</th>\n      <td>0.905583</td>\n      <td>1</td>\n      <td>Average Diameter</td>\n      <td>Total Surface Area</td>\n    </tr>\n  </tbody>\n</table>\n</div>"
     },
     "execution_count": 46,
     "metadata": {},
     "output_type": "execute_result"
    }
   ],
   "source": [
    "task = 'size'\n",
    "# for task in tasks:\n",
    "three_way_anova_df = final_df.query(f\"Task == '{task}'\")[['Validation Accuracy', 'Congruency', 'Train', 'Test']]\n",
    "three_way_anova_df = three_way_anova_df.rename(columns={'Validation Accuracy': 'Val_Acc'})\n",
    "three_way_anova_df = three_way_anova_df.reset_index().drop(columns=['index'])\n",
    "three_way_anova_df.head()"
   ],
   "metadata": {
    "collapsed": false,
    "pycharm": {
     "name": "#%%\n"
    }
   }
  },
  {
   "cell_type": "code",
   "execution_count": 86,
   "outputs": [
    {
     "name": "stderr",
     "output_type": "stream",
     "text": [
      "/Users/gali.k/phd/phd_2021/venv/lib/python3.8/site-packages/statsmodels/stats/anova.py:138: RuntimeWarning:\n",
      "\n",
      "divide by zero encountered in double_scalars\n",
      "\n"
     ]
    },
    {
     "data": {
      "text/plain": "                                 df        sum_sq   mean_sq    F  PR(>F)\nC(Congruency)                   1.0  3.009425e-02  0.030094  0.0     NaN\nC(Test)                         2.0  1.415468e-02  0.007077  0.0     NaN\nC(Train)                        2.0  1.763850e-02  0.008819  0.0     NaN\nC(Congruency):C(Test)           2.0  1.411072e-02  0.007055  0.0     NaN\nC(Congruency):C(Train)          2.0  1.301595e-02  0.006508  0.0     NaN\nC(Test):C(Train)                4.0  7.213818e-03  0.001803  0.0     NaN\nC(Congruency):C(Test):C(Train)  4.0  8.084270e-03  0.002021  0.0     NaN\nResidual                        0.0  1.736727e-29       inf  NaN     NaN",
      "text/html": "<div>\n<style scoped>\n    .dataframe tbody tr th:only-of-type {\n        vertical-align: middle;\n    }\n\n    .dataframe tbody tr th {\n        vertical-align: top;\n    }\n\n    .dataframe thead th {\n        text-align: right;\n    }\n</style>\n<table border=\"1\" class=\"dataframe\">\n  <thead>\n    <tr style=\"text-align: right;\">\n      <th></th>\n      <th>df</th>\n      <th>sum_sq</th>\n      <th>mean_sq</th>\n      <th>F</th>\n      <th>PR(&gt;F)</th>\n    </tr>\n  </thead>\n  <tbody>\n    <tr>\n      <th>C(Congruency)</th>\n      <td>1.0</td>\n      <td>3.009425e-02</td>\n      <td>0.030094</td>\n      <td>0.0</td>\n      <td>NaN</td>\n    </tr>\n    <tr>\n      <th>C(Test)</th>\n      <td>2.0</td>\n      <td>1.415468e-02</td>\n      <td>0.007077</td>\n      <td>0.0</td>\n      <td>NaN</td>\n    </tr>\n    <tr>\n      <th>C(Train)</th>\n      <td>2.0</td>\n      <td>1.763850e-02</td>\n      <td>0.008819</td>\n      <td>0.0</td>\n      <td>NaN</td>\n    </tr>\n    <tr>\n      <th>C(Congruency):C(Test)</th>\n      <td>2.0</td>\n      <td>1.411072e-02</td>\n      <td>0.007055</td>\n      <td>0.0</td>\n      <td>NaN</td>\n    </tr>\n    <tr>\n      <th>C(Congruency):C(Train)</th>\n      <td>2.0</td>\n      <td>1.301595e-02</td>\n      <td>0.006508</td>\n      <td>0.0</td>\n      <td>NaN</td>\n    </tr>\n    <tr>\n      <th>C(Test):C(Train)</th>\n      <td>4.0</td>\n      <td>7.213818e-03</td>\n      <td>0.001803</td>\n      <td>0.0</td>\n      <td>NaN</td>\n    </tr>\n    <tr>\n      <th>C(Congruency):C(Test):C(Train)</th>\n      <td>4.0</td>\n      <td>8.084270e-03</td>\n      <td>0.002021</td>\n      <td>0.0</td>\n      <td>NaN</td>\n    </tr>\n    <tr>\n      <th>Residual</th>\n      <td>0.0</td>\n      <td>1.736727e-29</td>\n      <td>inf</td>\n      <td>NaN</td>\n      <td>NaN</td>\n    </tr>\n  </tbody>\n</table>\n</div>"
     },
     "execution_count": 86,
     "metadata": {},
     "output_type": "execute_result"
    }
   ],
   "source": [
    "#perform three-way ANOVA\n",
    "model = ols(\"\"\"Val_Acc ~ C(Congruency) + C(Test) + C(Train) +\n",
    "               C(Congruency):C(Test) + C(Congruency):C(Train) + C(Test):C(Train) +\n",
    "               C(Congruency):C(Test):C(Train)\"\"\", data=three_way_anova_df).fit()\n",
    "\n",
    "sm.stats.anova_lm(model, typ=1)"
   ],
   "metadata": {
    "collapsed": false,
    "pycharm": {
     "name": "#%%\n"
    }
   }
  },
  {
   "cell_type": "markdown",
   "source": [
    "We did not receive values with type 2:\n",
    "https://www.graphpad.com/support/faq/error-message-with-repeated-measures-two-way-anova-there-was-a-divide-by-zero-error/\n",
    "\n",
    "two-way anova"
   ],
   "metadata": {
    "collapsed": false,
    "pycharm": {
     "name": "#%% md\n"
    }
   }
  },
  {
   "cell_type": "code",
   "execution_count": 52,
   "outputs": [],
   "source": [
    "two_way_test_train_anova_df = three_way_anova_df[['Train', 'Test', 'Val_Acc']]"
   ],
   "metadata": {
    "collapsed": false,
    "pycharm": {
     "name": "#%%\n"
    }
   }
  },
  {
   "cell_type": "code",
   "execution_count": 53,
   "outputs": [
    {
     "data": {
      "text/plain": "                    sum_sq   df         F    PR(>F)\nC(Test)           0.014155  2.0  0.975360  0.413618\nC(Train)          0.017639  2.0  1.215420  0.340988\nC(Test):C(Train)  0.007214  4.0  0.248542  0.903423\nResidual          0.065305  9.0       NaN       NaN",
      "text/html": "<div>\n<style scoped>\n    .dataframe tbody tr th:only-of-type {\n        vertical-align: middle;\n    }\n\n    .dataframe tbody tr th {\n        vertical-align: top;\n    }\n\n    .dataframe thead th {\n        text-align: right;\n    }\n</style>\n<table border=\"1\" class=\"dataframe\">\n  <thead>\n    <tr style=\"text-align: right;\">\n      <th></th>\n      <th>sum_sq</th>\n      <th>df</th>\n      <th>F</th>\n      <th>PR(&gt;F)</th>\n    </tr>\n  </thead>\n  <tbody>\n    <tr>\n      <th>C(Test)</th>\n      <td>0.014155</td>\n      <td>2.0</td>\n      <td>0.975360</td>\n      <td>0.413618</td>\n    </tr>\n    <tr>\n      <th>C(Train)</th>\n      <td>0.017639</td>\n      <td>2.0</td>\n      <td>1.215420</td>\n      <td>0.340988</td>\n    </tr>\n    <tr>\n      <th>C(Test):C(Train)</th>\n      <td>0.007214</td>\n      <td>4.0</td>\n      <td>0.248542</td>\n      <td>0.903423</td>\n    </tr>\n    <tr>\n      <th>Residual</th>\n      <td>0.065305</td>\n      <td>9.0</td>\n      <td>NaN</td>\n      <td>NaN</td>\n    </tr>\n  </tbody>\n</table>\n</div>"
     },
     "execution_count": 53,
     "metadata": {},
     "output_type": "execute_result"
    }
   ],
   "source": [
    "model = ols(\"\"\"Val_Acc ~ C(Test) + C(Train) + C(Test):C(Train)\"\"\", data=two_way_test_train_anova_df).fit()\n",
    "\n",
    "sm.stats.anova_lm(model, typ=2)"
   ],
   "metadata": {
    "collapsed": false,
    "pycharm": {
     "name": "#%%\n"
    }
   }
  },
  {
   "cell_type": "markdown",
   "source": [
    "Two way ANOVA between Train and Congruency --> we have effect for Congruency"
   ],
   "metadata": {
    "collapsed": false,
    "pycharm": {
     "name": "#%% md\n"
    }
   }
  },
  {
   "cell_type": "code",
   "execution_count": 51,
   "outputs": [
    {
     "data": {
      "text/plain": "                          sum_sq    df         F    PR(>F)\nC(Train)                0.017639   2.0  2.429352  0.130060\nC(Congruency)           0.030094   1.0  8.289766  0.013851\nC(Train):C(Congruency)  0.013016   2.0  1.792687  0.208345\nResidual                0.043563  12.0       NaN       NaN",
      "text/html": "<div>\n<style scoped>\n    .dataframe tbody tr th:only-of-type {\n        vertical-align: middle;\n    }\n\n    .dataframe tbody tr th {\n        vertical-align: top;\n    }\n\n    .dataframe thead th {\n        text-align: right;\n    }\n</style>\n<table border=\"1\" class=\"dataframe\">\n  <thead>\n    <tr style=\"text-align: right;\">\n      <th></th>\n      <th>sum_sq</th>\n      <th>df</th>\n      <th>F</th>\n      <th>PR(&gt;F)</th>\n    </tr>\n  </thead>\n  <tbody>\n    <tr>\n      <th>C(Train)</th>\n      <td>0.017639</td>\n      <td>2.0</td>\n      <td>2.429352</td>\n      <td>0.130060</td>\n    </tr>\n    <tr>\n      <th>C(Congruency)</th>\n      <td>0.030094</td>\n      <td>1.0</td>\n      <td>8.289766</td>\n      <td>0.013851</td>\n    </tr>\n    <tr>\n      <th>C(Train):C(Congruency)</th>\n      <td>0.013016</td>\n      <td>2.0</td>\n      <td>1.792687</td>\n      <td>0.208345</td>\n    </tr>\n    <tr>\n      <th>Residual</th>\n      <td>0.043563</td>\n      <td>12.0</td>\n      <td>NaN</td>\n      <td>NaN</td>\n    </tr>\n  </tbody>\n</table>\n</div>"
     },
     "execution_count": 51,
     "metadata": {},
     "output_type": "execute_result"
    }
   ],
   "source": [
    "two_way_train_cong_anova_df = three_way_anova_df[['Train', 'Congruency', 'Val_Acc']]\n",
    "model = ols(\"\"\"Val_Acc ~ C(Train) + C(Congruency) + C(Train):C(Congruency)\"\"\", data=two_way_train_cong_anova_df).fit()\n",
    "\n",
    "sm.stats.anova_lm(model, typ=2)"
   ],
   "metadata": {
    "collapsed": false,
    "pycharm": {
     "name": "#%%\n"
    }
   }
  },
  {
   "cell_type": "markdown",
   "source": [
    "post hoc ? no main effect to interaction"
   ],
   "metadata": {
    "collapsed": false,
    "pycharm": {
     "name": "#%% md\n"
    }
   }
  },
  {
   "cell_type": "markdown",
   "source": [
    "Two-way ANOVA - Test and Congruency --> we have effect for Congruency"
   ],
   "metadata": {
    "collapsed": false,
    "pycharm": {
     "name": "#%% md\n"
    }
   }
  },
  {
   "cell_type": "code",
   "execution_count": null,
   "outputs": [],
   "source": [
    "two_way_test_congruency_anova_df = three_way_anova_df[['Test', 'Congruency', 'Val_Acc']]\n",
    "model = ols(\"\"\"Val_Acc ~ C(Test) + C(Congruency) + C(Test):C(Congruency)\"\"\", data=two_way_test_congruency_anova_df).fit()\n",
    "\n",
    "sm.stats.anova_lm(model, typ=2)"
   ],
   "metadata": {
    "collapsed": false,
    "pycharm": {
     "name": "#%%\n"
    }
   }
  },
  {
   "cell_type": "markdown",
   "source": [
    "post hoc ? no main effect to interaction"
   ],
   "metadata": {
    "collapsed": false,
    "pycharm": {
     "name": "#%% md\n"
    }
   }
  },
  {
   "cell_type": "markdown",
   "source": [
    "Two-way congruency and task"
   ],
   "metadata": {
    "collapsed": false,
    "pycharm": {
     "name": "#%% md\n"
    }
   }
  },
  {
   "cell_type": "code",
   "execution_count": null,
   "outputs": [],
   "source": [
    "TASK_NUM = {'size': 1, 'count':2, 'size-count':3, 'count-size':4, 'colors':5, 'colors-count':6}\n",
    "two_way_task_congruency_anova_df = four_way_anova_df[['Task', 'Congruency', 'Val_Acc']]\n",
    "two_way_task_congruency_anova_df['Task_num'] = two_way_task_congruency_anova_df['Task'].apply(lambda x: TASK_NUM[x])\n",
    "model = ols(\"\"\"Val_Acc ~ C(Task_num) + C(Congruency) + C(Task_num):C(Congruency)\"\"\", data=two_way_task_congruency_anova_df).fit()\n",
    "\n",
    "sm.stats.anova_lm(model, typ=1)"
   ],
   "metadata": {
    "collapsed": false,
    "pycharm": {
     "name": "#%%\n"
    }
   }
  },
  {
   "cell_type": "markdown",
   "source": [
    "* check why I have df of 0 instead of 6 in task"
   ],
   "metadata": {
    "collapsed": false,
    "pycharm": {
     "name": "#%% md\n"
    }
   }
  },
  {
   "cell_type": "code",
   "execution_count": null,
   "outputs": [],
   "source": [],
   "metadata": {
    "collapsed": false,
    "pycharm": {
     "name": "#%%\n"
    }
   }
  }
 ],
 "metadata": {
  "kernelspec": {
   "display_name": "Python 3",
   "language": "python",
   "name": "python3"
  },
  "language_info": {
   "codemirror_mode": {
    "name": "ipython",
    "version": 2
   },
   "file_extension": ".py",
   "mimetype": "text/x-python",
   "name": "python",
   "nbconvert_exporter": "python",
   "pygments_lexer": "ipython2",
   "version": "2.7.6"
  }
 },
 "nbformat": 4,
 "nbformat_minor": 0
}